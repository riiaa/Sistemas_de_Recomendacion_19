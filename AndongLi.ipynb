{
  "nbformat": 4,
  "nbformat_minor": 0,
  "metadata": {
    "colab": {
      "name": "RIIAA19_recsys.ipynb",
      "version": "0.3.2",
      "provenance": [],
      "collapsed_sections": [
        "uJ51WI7PtoQ6",
        "AaJZGbbUt5pc",
        "LFNqiPRBAnWs",
        "UHeXTWHOuWgR",
        "z8XM3-qsudeR",
        "_kXSVwBUvFui",
        "Bb4a8aggu1in"
      ]
    },
    "kernelspec": {
      "name": "python3",
      "display_name": "Python 3"
    }
  },
  "cells": [
    {
      "cell_type": "markdown",
      "metadata": {
        "id": "TSsKxJMDrAGG",
        "colab_type": "text"
      },
      "source": [
        "# Sistemas de recomendaciones\n",
        "---\n",
        "RIIAA 2019\n",
        "\n",
        "\n",
        "Andong Luis Li Zhao\n"
      ]
    },
    {
      "cell_type": "markdown",
      "metadata": {
        "id": "ZxfOFpdKtEYV",
        "colab_type": "text"
      },
      "source": [
        "Las metas de este mini curso son:\n",
        "*  Aprender cómo utilizar aprendizaje de máquina en sistemas de recomendaciones\n",
        "*  Implementar e utilizar técnicas comunes en sistemas de recomendaciones\n",
        "*  Usar Python y pandas para manipular datos e implementar algoritmos\n",
        "*  Explorar el panorama general de problemas en sistemas de recomendaciones \n"
      ]
    },
    {
      "cell_type": "markdown",
      "metadata": {
        "id": "uJ51WI7PtoQ6",
        "colab_type": "text"
      },
      "source": [
        "## Repaso: Aprendizaje de máquina\n",
        "\n",
        "\n"
      ]
    },
    {
      "cell_type": "code",
      "metadata": {
        "id": "btlA-3xMAT08",
        "colab_type": "code",
        "outputId": "c0d498cb-14ae-4af1-b986-88470a5cea8e",
        "colab": {
          "base_uri": "https://localhost:8080/",
          "height": 139
        }
      },
      "source": [
        "# Obtener base de datos\n",
        "import pandas as pd\n",
        "\n",
        "iris = pd.read_csv('https://raw.githubusercontent.com/mwaskom/seaborn-data/master/iris.csv')\n",
        "\n",
        "print(iris.shape)\n",
        "print(iris.head())"
      ],
      "execution_count": 1,
      "outputs": [
        {
          "output_type": "stream",
          "text": [
            "(150, 5)\n",
            "   sepal_length  sepal_width  petal_length  petal_width species\n",
            "0           5.1          3.5           1.4          0.2  setosa\n",
            "1           4.9          3.0           1.4          0.2  setosa\n",
            "2           4.7          3.2           1.3          0.2  setosa\n",
            "3           4.6          3.1           1.5          0.2  setosa\n",
            "4           5.0          3.6           1.4          0.2  setosa\n"
          ],
          "name": "stdout"
        }
      ]
    },
    {
      "cell_type": "code",
      "metadata": {
        "id": "Hqd8qCqPeD2q",
        "colab_type": "code",
        "colab": {
          "base_uri": "https://localhost:8080/",
          "height": 87
        },
        "outputId": "cdcb241c-93a5-4ebc-8ccc-6ce04ed2bedc"
      },
      "source": [
        "# Creación de datos para entrenamiento y para evaluación\n",
        "from sklearn.model_selection import train_test_split\n",
        "\n",
        "y = iris[\"species\"]\n",
        "X = iris.drop(\"species\", axis=1)\n",
        "\n",
        "trainX, testX, trainY, testY = train_test_split(X, y, test_size=0.25)\n",
        "\n",
        "print(trainX.shape)\n",
        "print(testX.shape)\n",
        "print(trainY.shape)\n",
        "print(testY.shape)\n"
      ],
      "execution_count": 2,
      "outputs": [
        {
          "output_type": "stream",
          "text": [
            "(112, 4)\n",
            "(38, 4)\n",
            "(112,)\n",
            "(38,)\n"
          ],
          "name": "stdout"
        }
      ]
    },
    {
      "cell_type": "code",
      "metadata": {
        "id": "byLtFFKgTst3",
        "colab_type": "code",
        "outputId": "d390ab9a-ba66-4661-c39f-c70180ff5316",
        "colab": {
          "base_uri": "https://localhost:8080/",
          "height": 121
        }
      },
      "source": [
        "# Creación y entrenamiento de modelo\n",
        "\n",
        "from sklearn.tree import DecisionTreeClassifier\n",
        "\n",
        "clf = DecisionTreeClassifier()\n",
        "\n",
        "clf.fit(trainX, trainY)\n"
      ],
      "execution_count": 3,
      "outputs": [
        {
          "output_type": "execute_result",
          "data": {
            "text/plain": [
              "DecisionTreeClassifier(class_weight=None, criterion='gini', max_depth=None,\n",
              "                       max_features=None, max_leaf_nodes=None,\n",
              "                       min_impurity_decrease=0.0, min_impurity_split=None,\n",
              "                       min_samples_leaf=1, min_samples_split=2,\n",
              "                       min_weight_fraction_leaf=0.0, presort=False,\n",
              "                       random_state=None, splitter='best')"
            ]
          },
          "metadata": {
            "tags": []
          },
          "execution_count": 3
        }
      ]
    },
    {
      "cell_type": "code",
      "metadata": {
        "id": "M_Zz5OPGTv0u",
        "colab_type": "code",
        "outputId": "2ea636d6-822e-4017-eaec-44bfa2600a19",
        "colab": {
          "base_uri": "https://localhost:8080/",
          "height": 191
        }
      },
      "source": [
        "# Evaluación de modelo\n",
        "from sklearn import metrics\n",
        "\n",
        "train_pred = clf.predict(trainX)\n",
        "test_pred = clf.predict(testX)\n",
        "print(f\"Train accuracy score: {metrics.accuracy_score(trainY, train_pred)}\")\n",
        "print(f\"Test accuracy score: {metrics.accuracy_score(testY, test_pred)}\")\n",
        "\n",
        "print(\"Train Confusion Matrix\")\n",
        "print(metrics.confusion_matrix(trainY, train_pred))\n",
        "print(\"Test Confusion Matrix\")\n",
        "print(metrics.confusion_matrix(testY, test_pred))"
      ],
      "execution_count": 4,
      "outputs": [
        {
          "output_type": "stream",
          "text": [
            "Train accuracy score: 1.0\n",
            "Test accuracy score: 0.9736842105263158\n",
            "Train Confusion Matrix\n",
            "[[36  0  0]\n",
            " [ 0 39  0]\n",
            " [ 0  0 37]]\n",
            "Test Confusion Matrix\n",
            "[[14  0  0]\n",
            " [ 0 10  1]\n",
            " [ 0  0 13]]\n"
          ],
          "name": "stdout"
        }
      ]
    },
    {
      "cell_type": "code",
      "metadata": {
        "id": "8AlHA8IMGCmM",
        "colab_type": "code",
        "colab": {
          "base_uri": "https://localhost:8080/",
          "height": 35
        },
        "outputId": "4d2cf4de-7e22-4326-e1ea-aa987433e940"
      },
      "source": [
        "# Validación cruzada\n",
        "\n",
        "from sklearn.model_selection import cross_val_score\n",
        "\n",
        "cv_results = cross_val_score(clf, trainX, trainY, cv=3, scoring=\"accuracy\")\n",
        "print(cv_results)"
      ],
      "execution_count": 10,
      "outputs": [
        {
          "output_type": "stream",
          "text": [
            "[0.92105263 0.97368421 0.94444444]\n"
          ],
          "name": "stdout"
        }
      ]
    },
    {
      "cell_type": "markdown",
      "metadata": {
        "id": "AaJZGbbUt5pc",
        "colab_type": "text"
      },
      "source": [
        "## Repaso: Álgebra lineal"
      ]
    },
    {
      "cell_type": "code",
      "metadata": {
        "id": "jDr0Lhtzt6Ob",
        "colab_type": "code",
        "outputId": "892036ad-4217-4f89-86ac-0745eae229c6",
        "colab": {
          "base_uri": "https://localhost:8080/",
          "height": 87
        }
      },
      "source": [
        "# Matrices\n",
        "import numpy as np\n",
        "\n",
        "A = np.random.randint(0, 10, size=(3,5))\n",
        "print(A)\n",
        "print(A.shape)"
      ],
      "execution_count": 11,
      "outputs": [
        {
          "output_type": "stream",
          "text": [
            "[[9 1 7 5 0]\n",
            " [6 9 5 4 9]\n",
            " [9 3 5 5 5]]\n",
            "(3, 5)\n"
          ],
          "name": "stdout"
        }
      ]
    },
    {
      "cell_type": "code",
      "metadata": {
        "id": "HJIpzGiSCM8p",
        "colab_type": "code",
        "outputId": "a65f3c28-324d-4e4c-9457-7102dbcc6923",
        "colab": {
          "base_uri": "https://localhost:8080/",
          "height": 87
        }
      },
      "source": [
        "# Accesar elementos de matrices en numpy\n",
        "print(A[0])\n",
        "print(A[0,1])\n",
        "print(A[:, 1])\n",
        "print(A[0, :])"
      ],
      "execution_count": 12,
      "outputs": [
        {
          "output_type": "stream",
          "text": [
            "[9 1 7 5 0]\n",
            "1\n",
            "[1 9 3]\n",
            "[9 1 7 5 0]\n"
          ],
          "name": "stdout"
        }
      ]
    },
    {
      "cell_type": "code",
      "metadata": {
        "id": "xXerOk9_DQbm",
        "colab_type": "code",
        "outputId": "473a07bc-27fb-4b10-9709-12d5089f5273",
        "colab": {
          "base_uri": "https://localhost:8080/",
          "height": 121
        }
      },
      "source": [
        "# Matriz transpuesta\n",
        "print(A.T)\n",
        "print(A.T.shape)"
      ],
      "execution_count": 13,
      "outputs": [
        {
          "output_type": "stream",
          "text": [
            "[[9 6 9]\n",
            " [1 9 3]\n",
            " [7 5 5]\n",
            " [5 4 5]\n",
            " [0 9 5]]\n",
            "(5, 3)\n"
          ],
          "name": "stdout"
        }
      ]
    },
    {
      "cell_type": "code",
      "metadata": {
        "id": "yPLZimOqC0k1",
        "colab_type": "code",
        "outputId": "4b071a9a-c8eb-4d3f-d475-6f9f9adebca3",
        "colab": {
          "base_uri": "https://localhost:8080/",
          "height": 139
        }
      },
      "source": [
        "\n",
        "\n",
        "B = np.random.randint(0, 10, size=(5,5))\n",
        "print(B)\n",
        "print(A.shape)\n",
        "print(B.shape)"
      ],
      "execution_count": 14,
      "outputs": [
        {
          "output_type": "stream",
          "text": [
            "[[3 1 4 9 0]\n",
            " [2 1 1 6 8]\n",
            " [8 8 4 3 3]\n",
            " [6 1 6 6 2]\n",
            " [5 1 8 2 9]]\n",
            "(3, 5)\n",
            "(5, 5)\n"
          ],
          "name": "stdout"
        }
      ]
    },
    {
      "cell_type": "code",
      "metadata": {
        "id": "aWXFKn7aC9da",
        "colab_type": "code",
        "outputId": "bdc3cc86-6692-4876-abe3-0a631d30ee64",
        "colab": {
          "base_uri": "https://localhost:8080/",
          "height": 69
        }
      },
      "source": [
        "# Producto de Matrices\n",
        "print(A @ B)"
      ],
      "execution_count": 15,
      "outputs": [
        {
          "output_type": "stream",
          "text": [
            "[[115  71  95 138  39]\n",
            " [145  68 149 165 176]\n",
            " [128  62 129 154  94]]\n"
          ],
          "name": "stdout"
        }
      ]
    },
    {
      "cell_type": "code",
      "metadata": {
        "id": "FP57CdoTC_cT",
        "colab_type": "code",
        "outputId": "54c60c05-07e2-4013-9d9b-fbb3a3c2e646",
        "colab": {
          "base_uri": "https://localhost:8080/",
          "height": 186
        }
      },
      "source": [
        "# Producto de Matrices\n",
        "print(B @ A)"
      ],
      "execution_count": 16,
      "outputs": [
        {
          "output_type": "error",
          "ename": "ValueError",
          "evalue": "ignored",
          "traceback": [
            "\u001b[0;31m---------------------------------------------------------------------------\u001b[0m",
            "\u001b[0;31mValueError\u001b[0m                                Traceback (most recent call last)",
            "\u001b[0;32m<ipython-input-16-caf68677c2af>\u001b[0m in \u001b[0;36m<module>\u001b[0;34m()\u001b[0m\n\u001b[0;32m----> 1\u001b[0;31m \u001b[0mprint\u001b[0m\u001b[0;34m(\u001b[0m\u001b[0mB\u001b[0m \u001b[0;34m@\u001b[0m \u001b[0mA\u001b[0m\u001b[0;34m)\u001b[0m\u001b[0;34m\u001b[0m\u001b[0;34m\u001b[0m\u001b[0m\n\u001b[0m",
            "\u001b[0;31mValueError\u001b[0m: matmul: Input operand 1 has a mismatch in its core dimension 0, with gufunc signature (n?,k),(k,m?)->(n?,m?) (size 3 is different from 5)"
          ]
        }
      ]
    },
    {
      "cell_type": "code",
      "metadata": {
        "id": "m-nZ_hELDOWZ",
        "colab_type": "code",
        "outputId": "71d74511-66ef-491c-8054-17c8316456c2",
        "colab": {
          "base_uri": "https://localhost:8080/",
          "height": 104
        }
      },
      "source": [
        "# Producto de Matrices\n",
        "print(B @ A.T)"
      ],
      "execution_count": 17,
      "outputs": [
        {
          "output_type": "stream",
          "text": [
            "[[101  83  95]\n",
            " [ 56 122  96]\n",
            " [123 179 146]\n",
            " [127 117 127]\n",
            " [112 168 143]]\n"
          ],
          "name": "stdout"
        }
      ]
    },
    {
      "cell_type": "code",
      "metadata": {
        "id": "uHvOm4etTpUS",
        "colab_type": "code",
        "outputId": "84bb62a7-0b69-461d-c951-74dbaf9bf71b",
        "colab": {
          "base_uri": "https://localhost:8080/",
          "height": 87
        }
      },
      "source": [
        "# Rango\n",
        "\n",
        "print(np.linalg.matrix_rank(A))\n",
        "print(np.linalg.matrix_rank(A.T))\n",
        "print(np.linalg.matrix_rank(B))\n",
        "print(np.linalg.matrix_rank(B.T))"
      ],
      "execution_count": 18,
      "outputs": [
        {
          "output_type": "stream",
          "text": [
            "3\n",
            "3\n",
            "5\n",
            "5\n"
          ],
          "name": "stdout"
        }
      ]
    },
    {
      "cell_type": "markdown",
      "metadata": {
        "id": "cXy9tkuluNdh",
        "colab_type": "text"
      },
      "source": [
        "## Procesamiento de datos"
      ]
    },
    {
      "cell_type": "code",
      "metadata": {
        "id": "vr09dqC-uN9U",
        "colab_type": "code",
        "outputId": "f9304f8f-7c63-4c53-a13f-7f998cac582b",
        "colab": {
          "resources": {
            "http://localhost:8080/nbextensions/google.colab/files.js": {
              "data": "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",
              "ok": true,
              "headers": [
                [
                  "content-type",
                  "application/javascript"
                ]
              ],
              "status": 200,
              "status_text": ""
            }
          },
          "base_uri": "https://localhost:8080/",
          "height": 145
        }
      },
      "source": [
        "# Obtener la base de datos (subir archivos desde tu computadora)\n",
        "from google.colab import files\n",
        "\n",
        "uploaded = files.upload()\n",
        "\n",
        "for fn in uploaded.keys():\n",
        "  print('User uploaded file \"{name}\" with length {length} bytes'.format(\n",
        "      name=fn, length=len(uploaded[fn])))\n",
        "  "
      ],
      "execution_count": 5,
      "outputs": [
        {
          "output_type": "display_data",
          "data": {
            "text/html": [
              "\n",
              "     <input type=\"file\" id=\"files-979c87c2-4c88-4179-ab52-2973654ba8b4\" name=\"files[]\" multiple disabled />\n",
              "     <output id=\"result-979c87c2-4c88-4179-ab52-2973654ba8b4\">\n",
              "      Upload widget is only available when the cell has been executed in the\n",
              "      current browser session. Please rerun this cell to enable.\n",
              "      </output>\n",
              "      <script src=\"/nbextensions/google.colab/files.js\"></script> "
            ],
            "text/plain": [
              "<IPython.core.display.HTML object>"
            ]
          },
          "metadata": {
            "tags": []
          }
        },
        {
          "output_type": "stream",
          "text": [
            "Saving genres.csv to genres.csv\n",
            "Saving ratings.csv to ratings.csv\n",
            "User uploaded file \"genres.csv\" with length 110628 bytes\n",
            "User uploaded file \"ratings.csv\" with length 1462244 bytes\n"
          ],
          "name": "stdout"
        }
      ]
    },
    {
      "cell_type": "code",
      "metadata": {
        "id": "cHzHfmatGJ-1",
        "colab_type": "code",
        "colab": {}
      },
      "source": [
        "# Leer los datos\n",
        "from io import StringIO\n",
        "import pandas as pd\n",
        "\n",
        "# Ratings/valoraciones\n",
        "s=str(uploaded[\"ratings.csv\"],'utf-8')\n",
        "data = StringIO(s) \n",
        "r_df = pd.read_csv(data)\n",
        "r_df = r_df.sample(frac=1, random_state=43)\n",
        "\n",
        "# Géneros\n",
        "s=str(uploaded[\"genres.csv\"],'utf-8')\n",
        "data = StringIO(s) \n",
        "g_df = pd.read_csv(data)\n",
        "\n",
        "\n",
        "\n"
      ],
      "execution_count": 0,
      "outputs": []
    },
    {
      "cell_type": "code",
      "metadata": {
        "id": "KtdMqU0CIeFb",
        "colab_type": "code",
        "colab": {
          "base_uri": "https://localhost:8080/",
          "height": 329
        },
        "outputId": "878618b8-7d92-4ae0-8e9b-286fd789a56f"
      },
      "source": [
        "# Imprimir algunos datos\n",
        "\n",
        "print(r_df.shape)\n",
        "print(list(r_df))\n",
        "print(r_df.head())\n",
        "\n",
        "print(g_df.shape)\n",
        "print(list(g_df))\n",
        "print(g_df.head())"
      ],
      "execution_count": 22,
      "outputs": [
        {
          "output_type": "stream",
          "text": [
            "(59706, 4)\n",
            "['userId', 'movieId', 'rating', 'timestamp']\n",
            "       userId  movieId  rating   timestamp\n",
            "29107      68      180     2.5  1269121607\n",
            "27174     177     1033     3.5  1435535976\n",
            "31176     599     1674     2.5  1498518276\n",
            "8002      217     1254     3.0   955941875\n",
            "57546      19     1690     1.0   965703885\n",
            "(2120, 3)\n",
            "['movieId', 'title', 'genres']\n",
            "   movieId  ...                                       genres\n",
            "0        1  ...  Adventure|Animation|Children|Comedy|Fantasy\n",
            "1        2  ...                   Adventure|Children|Fantasy\n",
            "2        3  ...                               Comedy|Romance\n",
            "3        5  ...                                       Comedy\n",
            "4        6  ...                        Action|Crime|Thriller\n",
            "\n",
            "[5 rows x 3 columns]\n"
          ],
          "name": "stdout"
        }
      ]
    },
    {
      "cell_type": "code",
      "metadata": {
        "id": "lLrV9x3wuMP2",
        "colab_type": "code",
        "colab": {
          "base_uri": "https://localhost:8080/",
          "height": 52
        },
        "outputId": "0f46df86-e021-46aa-b000-f6674c943dbf"
      },
      "source": [
        "# Separar en datos de entrenamiento y validación\n",
        "split_ind = 9 * r_df.shape[0] // 10\n",
        "\n",
        "test_df = r_df.iloc[split_ind:, :]\n",
        "r_df = r_df.iloc[0:split_ind, :]\n",
        "\n",
        "print(test_df.shape)\n",
        "print(r_df.shape)"
      ],
      "execution_count": 7,
      "outputs": [
        {
          "output_type": "stream",
          "text": [
            "(5971, 4)\n",
            "(53735, 4)\n"
          ],
          "name": "stdout"
        }
      ]
    },
    {
      "cell_type": "markdown",
      "metadata": {
        "id": "LFNqiPRBAnWs",
        "colab_type": "text"
      },
      "source": [
        "## k Nearest Neighbors\n"
      ]
    },
    {
      "cell_type": "code",
      "metadata": {
        "id": "CRYPu0qJ-HOM",
        "colab_type": "code",
        "colab": {}
      },
      "source": [
        "# Obtener datos que se usaran\n",
        "r_df = r_df # No hace nada esta linea, nada mas para señalar qué datos usamos\n",
        "test_df = test_df"
      ],
      "execution_count": 0,
      "outputs": []
    },
    {
      "cell_type": "code",
      "metadata": {
        "id": "qDuZjR8gpxJ0",
        "colab_type": "code",
        "colab": {
          "base_uri": "https://localhost:8080/",
          "height": 69
        },
        "outputId": "d2c1d4d6-39dc-4fb8-f870-de350da847ae"
      },
      "source": [
        "# Hacer matriz de usuarios y películas\n",
        "\n",
        "ui_matrix = r_df.pivot(index='userId', columns='movieId', values='rating')\n",
        "\n",
        "print(test_df.shape)\n",
        "print(r_df.shape)\n",
        "print(ui_matrix.shape)"
      ],
      "execution_count": 25,
      "outputs": [
        {
          "output_type": "stream",
          "text": [
            "(5971, 4)\n",
            "(53735, 4)\n",
            "(608, 2120)\n"
          ],
          "name": "stdout"
        }
      ]
    },
    {
      "cell_type": "code",
      "metadata": {
        "id": "R6zNDfpwItHp",
        "colab_type": "code",
        "colab": {}
      },
      "source": [
        "import numpy as np\n",
        "import pandas as pd\n",
        "from scipy.spatial.distance import cosine\n",
        "\n",
        "\n",
        "def jaccard_simil(ratings_1, ratings_2):\n",
        "    # Input: two 1D arrays, same length. No NaNs, \n",
        "    #        but 0's indicate no rating\n",
        "    # Output: Jaccard similarity\n",
        "    \n",
        "    # TODO: Calcula la similitud de jaccard\n",
        "    bool_1 = ratings_1 != 0\n",
        "    bool_2 = ratings_2 != 0\n",
        "    inter = np.sum(bool_1 & bool_2)\n",
        "    union = np.sum(bool_1) + np.sum(bool_2) - inter\n",
        "    return inter / union\n",
        "\n",
        "\n",
        "def cosine_simil(ratings_1, ratings_2):\n",
        "    # Input: two 1D arrays, same length. With NaN's\n",
        "    # Output: Jaccard similarity\n",
        "    \n",
        "    # TODO: Calcula la similitud de coseno con función cosine() importada\n",
        "    return 1 - cosine(ratings_1, ratings_2)\n",
        "\n",
        "# Clase principal para predicción con kNN\n",
        "class KnnClass():\n",
        "\n",
        "\n",
        "    def __init__(self, min_val, max_val, k=5, similarity=\"pearson\"):\n",
        "\n",
        "        simils = [\"pearson\", \"cosine\", \"jaccard\"]\n",
        "        if similarity not in simils:\n",
        "            raise ValueError('Error: similitud invalida, debe ser [\"pearson\", \"cosine\", \"jaccard\"]')\n",
        "\n",
        "        self.similarity = similarity\n",
        "        self.k = k\n",
        "        self.means = pd.Series()\n",
        "        self.ratings = pd.DataFrame()\n",
        "        self.similarities = pd.DataFrame()\n",
        "        self.min_val = min_val\n",
        "        self.max_val = max_val\n",
        "\n",
        "\n",
        "    def fit(self, df):\n",
        "        # df es DataFrame donde cada fila es un usuario y cada columna es una película\n",
        "        # Los valores de la celda indican la valoración de ese usuario sobre esa película\n",
        "        # Hay valores NaN si la valoración no existe\n",
        "        \n",
        "        # Guardar valoraciones para las predicciones\n",
        "        self.ratings = df\n",
        "\n",
        "        # Calcular promedios\n",
        "        self.means = self.ratings.mean(axis=1, skipna=True)\n",
        "\n",
        "        # Calcular similitudes\n",
        "        if self.similarity == \"pearson\":\n",
        "            self.similarities = self.ratings.T.corr(method=\"pearson\")\n",
        "\n",
        "        elif self.similarity == \"jaccard\":\n",
        "            # Aquí convertimos de NaN's a 0's porque la función jaccard_simil\n",
        "            # asume eso. Esto es necesario para que .corr() calcule la similitud\n",
        "            # correctamente\n",
        "            self.similarities = self.ratings.T.fillna(0).corr(method=jaccard_simil)\n",
        "\n",
        "        elif self.similarity == \"cosine\":\n",
        "            self.similarities = self.ratings.T.corr(method=cosine_simil)\n",
        "\n",
        "\n",
        "    def _prior(self, user_id, item_id):\n",
        "        # Predicción si user_id y/o item_id son nuevos en el sistema\n",
        "        if user_id not in self.ratings.index:\n",
        "            if item_id not in list(self.ratings):\n",
        "                # Si ambos son nuevos, regresa punto medio\n",
        "                return (self.min_val + self.max_val) / 2\n",
        "            else:\n",
        "                # Si usuario es nuevo, regresa promedio de la película\n",
        "                return self.ratings[item_id].mean(skipna=True)\n",
        "        else:\n",
        "            # Si la película es nueva, regresa promedio del usuario\n",
        "            return self.ratings.loc[user_id, :].mean(skipna=True)\n",
        "\n",
        "\n",
        "\n",
        "    def predict(self, user_id, item_id, round_pred=False):\n",
        "\n",
        "        # Checar si usuario/película es nueva\n",
        "        if user_id not in self.ratings.index or item_id not in self.ratings:\n",
        "            pred =  self._prior(user_id, item_id)\n",
        "\n",
        "        else:\n",
        "\n",
        "            # TODO: Obten similitudes para usuario que han valorado item_id\n",
        "            raters = self.ratings[~ self.ratings[item_id].isnull()].index\n",
        "            simils = self.similarities.loc[user_id, raters]\n",
        "\n",
        "            # TODO: Ordena similitudes en orden descendiente\n",
        "            simils = simils.sort_values(ascending=False)\n",
        "\n",
        "            # TODO: Obten los k usuarios con similitudes a user_id más grandes \n",
        "            inds = simils.nlargest(min(self.k, len(simils))).index\n",
        "\n",
        "            # Calcular predicción\n",
        "            if simils[inds].sum() != 0:\n",
        "                # TODO: Calcula predicción\n",
        "                pred = self.means[user_id] + (self.ratings.loc[inds, item_id] - self.means.loc[inds] ).sum() / (simils[inds].sum())\n",
        "            else:\n",
        "                # TODO: Calcula predicción cuando la suma de abajo es igual a 0\n",
        "                \n",
        "                pred = self.means[user_id] + (self.ratings.loc[inds, item_id] - self.means.loc[inds] ).sum() / 0.00001\n",
        "\n",
        "            # Truncate just in case\n",
        "            # Asegurate que la predicción esté entre max_val y min_val\n",
        "            pred = max(min(pred, self.max_val), self.min_val)\n",
        "\n",
        "        # Devuelve la predicción (redondeada si es que es necesario)\n",
        "        if round_pred:\n",
        "            return round(pred, 1)\n",
        "        else:\n",
        "            return pred\n"
      ],
      "execution_count": 0,
      "outputs": []
    },
    {
      "cell_type": "code",
      "metadata": {
        "id": "6g7Pr_uPNoV9",
        "colab_type": "code",
        "colab": {}
      },
      "source": [
        "# Unit tests para coeficiente Pearson (todo debería de pasar, ya estaba implementada)\n",
        "\n",
        "# Test 1\n",
        "knn = KnnClass(min_val=1.0, max_val=5.0, k=20, similarity=\"pearson\")\n",
        "knn.fit(ui_matrix)\n",
        "val = knn.similarities.loc[1, 1]\n",
        "assert val == 1.0, f\"Test 1: val debería ser 1.0, en vez de {val}\"\n",
        "\n",
        "# Test 2\n",
        "val = knn.similarities.loc[1, 4]\n",
        "assert val == 0.48723001369349506, f\"Test 2: val debería ser 0.48723001369349506, en vez de {val}\"\n",
        "\n",
        "# Test 3\n",
        "val = knn.similarities.loc[2, 2]\n",
        "assert val == 1.0, f\"Test 3: val debería ser 1.0, en vez de {val}\"\n",
        "\n",
        "# Test 4\n",
        "val = knn.similarities.loc[2, 550]\n",
        "assert val == -0.6071428571428572, f\"Test 4: val debería ser -0.6071428571428572, en vez de {val}\"\n"
      ],
      "execution_count": 0,
      "outputs": []
    },
    {
      "cell_type": "code",
      "metadata": {
        "id": "06QLd3orPHoS",
        "colab_type": "code",
        "colab": {}
      },
      "source": [
        "# Unit tests para similaridades: Coseno\n",
        "\n",
        "# Test 1\n",
        "knn = KnnClass(min_val=1.0, max_val=5.0, k=20, similarity=\"cosine\")\n",
        "knn.fit(ui_matrix)\n",
        "val = knn.similarities.loc[1, 1]\n",
        "assert val == 1.0, f\"Test 1: val debería ser 1.0, en vez de {val}\"\n",
        "\n",
        "# Test 2\n",
        "val = knn.similarities.loc[1, 4]\n",
        "assert val == 0.9424549558857006, f\"Test 2: val debería ser 0.9424549558857006, en vez de {val}\"\n",
        "\n",
        "# Test 3\n",
        "val = knn.similarities.loc[2, 2]\n",
        "assert val == 1.0, f\"Test 3: val debería ser 1.0, en vez de {val}\"\n",
        "\n",
        "# Test 4\n",
        "val = knn.similarities.loc[2, 550]\n",
        "assert val == 0.9671696756264027, f\"Test 4: val debería ser 0.9671696756264027, en vez de {val}\"\n"
      ],
      "execution_count": 0,
      "outputs": []
    },
    {
      "cell_type": "code",
      "metadata": {
        "id": "LcW_TOpePOvv",
        "colab_type": "code",
        "colab": {}
      },
      "source": [
        "# Unit tests para similaridades: Jaccard\n",
        "\n",
        "# Test 1\n",
        "knn = KnnClass(min_val=1.0, max_val=5.0, k=20, similarity=\"jaccard\")\n",
        "knn.fit(ui_matrix)\n",
        "val = knn.similarities.loc[1, 1]\n",
        "assert val == 1.0, f\"Test 1: val debería ser 1.0, en vez de {val}\"\n",
        "\n",
        "# Test 2\n",
        "val = knn.similarities.loc[1, 4]\n",
        "assert val == 0.08189655172413793, f\"Test 2: val debería ser 1.0, en vez de {val}\"\n",
        "\n",
        "# Test 3\n",
        "val = knn.similarities.loc[2, 2]\n",
        "assert val == 1.0, f\"Test 3: val debería ser 1.0, en vez de {val}\"\n",
        "\n",
        "# Test 4\n",
        "val = knn.similarities.loc[2, 550]\n",
        "assert val == 0.17857142857142858, f\"Test 4: val debería ser 1.0, en vez de {val}\""
      ],
      "execution_count": 0,
      "outputs": []
    },
    {
      "cell_type": "code",
      "metadata": {
        "id": "iLJmuV8vItUL",
        "colab_type": "code",
        "colab": {}
      },
      "source": [
        "# Unit test para predict\n",
        "# Si tienes los siguientes resultados, entonces probablemente está correcta tu implementación\n",
        "\n",
        "# Test 1\n",
        "knn = KnnClass(min_val=1.0, max_val=5.0, k=20, similarity=\"pearson\")\n",
        "knn.fit(ui_matrix)\n",
        "pred = knn.predict(user_id=1, item_id=1, round_pred=True)\n",
        "assert pred == 4.7, f\"Test 1: pred debería ser 4.7, en vez de {pred}\"\n",
        "\n",
        "# Test 2\n",
        "pred = knn.predict(user_id=2, item_id=5, round_pred=True)\n",
        "assert pred == 5.0, f\"Test 2: pred debería ser 5.0, en vez de {pred}\"\n",
        "\n",
        "# Test 3\n",
        "knn = KnnClass(min_val=1.0, max_val=5.0, k=5, similarity=\"cosine\")\n",
        "knn.fit(ui_matrix)\n",
        "pred = knn.predict(user_id=1, item_id=1, round_pred=True)\n",
        "assert pred == 4.2, f\"Test 3 Error: pred debería ser 4.2, en vez de {pred}\"\n",
        "\n",
        "# Test 4\n",
        "knn = KnnClass(min_val=1.0, max_val=5.0, k=10, similarity=\"jaccard\")\n",
        "knn.fit(ui_matrix)\n",
        "pred = knn.predict(user_id=1, item_id=1, round_pred=True)\n",
        "assert pred == 5.0, f\"Test 4 Error: pred debería ser 5.0, en vez de {pred}\"\n",
        "\n",
        "# Test 5\n",
        "pred = knn.predict(user_id=2, item_id=5, round_pred=True)\n",
        "assert pred == 1.0, f\"Test 5 Error: pred debería ser 1.0, en vez de {pred}\"\n"
      ],
      "execution_count": 0,
      "outputs": []
    },
    {
      "cell_type": "code",
      "metadata": {
        "id": "HKz8DEELItrz",
        "colab_type": "code",
        "outputId": "0e8c485b-c5de-471d-c903-a71fe42f09fc",
        "colab": {
          "base_uri": "https://localhost:8080/",
          "height": 313
        }
      },
      "source": [
        "# Hacer grafica de diferentes ks\n",
        "\n",
        "%matplotlib inline\n",
        "\n",
        "from sklearn.metrics import mean_absolute_error\n",
        "import matplotlib.pyplot as plt\n",
        "\n",
        "\n",
        "ks = [1, 2, 5, 10, 20, 50]\n",
        "res_pearson = [0] * len(ks)\n",
        "res_cosine = [0] * len(ks)\n",
        "res_jaccard = [0] * len(ks)\n",
        "\n",
        "results = [res_pearson, res_cosine, res_jaccard]\n",
        "\n",
        "for i, k in enumerate(ks):\n",
        "  for j, simil in enumerate([\"pearson\", \"cosine\", \"jaccard\"]):\n",
        "    knn = KnnClass(min_val=1.0, max_val=5.0, k=k, similarity=simil)\n",
        "    knn.fit(ui_matrix)\n",
        "\n",
        "    predictions= test_df.apply(lambda x: knn.predict(user_id=x[\"userId\"], item_id=x[\"movieId\"], round_pred=True), axis=1)\n",
        "\n",
        "    mae = mean_absolute_error(test_df[\"rating\"], predictions)\n",
        "    \n",
        "    results[j][i] = mae\n",
        "    \n",
        "    \n",
        "\n",
        "\n",
        "plt.figure()\n",
        "plt.plot(ks, res_pearson, color='r', label='Pearson')\n",
        "plt.plot(ks, res_cosine, color='b', label='Coseno')\n",
        "plt.plot(ks, res_jaccard, color='g', label='Jaccard')\n",
        "plt.xlabel(\"Número de vecinos (k)\")\n",
        "plt.ylabel(\"Error absoluto medio\")\n",
        "plt.legend()\n",
        "plt.title(\"Rendimiento de kNN con diferentes hiperparametros\")\n",
        "plt.show()\n",
        "plt.clf()\n",
        "\n"
      ],
      "execution_count": 60,
      "outputs": [
        {
          "output_type": "display_data",
          "data": {
            "image/png": "[encoded data removed]",
            "text/plain": [
              "<Figure size 432x288 with 1 Axes>"
            ]
          },
          "metadata": {
            "tags": []
          }
        },
        {
          "output_type": "display_data",
          "data": {
            "text/plain": [
              "<Figure size 432x288 with 0 Axes>"
            ]
          },
          "metadata": {
            "tags": []
          }
        }
      ]
    },
    {
      "cell_type": "markdown",
      "metadata": {
        "id": "UHeXTWHOuWgR",
        "colab_type": "text"
      },
      "source": [
        "## Factorización de matrices\n"
      ]
    },
    {
      "cell_type": "code",
      "metadata": {
        "id": "ijoeab6tuXEN",
        "colab_type": "code",
        "colab": {
          "base_uri": "https://localhost:8080/",
          "height": 69
        },
        "outputId": "2fd65aec-9b69-4a5e-f32a-5c83bdd5a5cb"
      },
      "source": [
        "# Obtener datos que se usaran \n",
        "\n",
        "# No hacen nada estas lineas, nada más son para señalar qué datos usamos\n",
        "r_df = r_df\n",
        "ui_matrix = ui_matrix\n",
        "test_df = test_df\n",
        "\n",
        "\n",
        "print(test_df.shape)\n",
        "print(r_df.shape)\n",
        "print(ui_matrix.shape)"
      ],
      "execution_count": 61,
      "outputs": [
        {
          "output_type": "stream",
          "text": [
            "(5971, 4)\n",
            "(53735, 4)\n",
            "(608, 2120)\n"
          ],
          "name": "stdout"
        }
      ]
    },
    {
      "cell_type": "code",
      "metadata": {
        "id": "r5Z9tGLRSdBK",
        "colab_type": "code",
        "colab": {}
      },
      "source": [
        "# Clase principal para el modelo SVD\n",
        "\n",
        "\n",
        "class SVDClass():\n",
        "\n",
        "    def __init__(self, min_val, max_val, r=100, ):\n",
        "\n",
        "        self.r = r\n",
        "        self.ratings = pd.DataFrame()\n",
        "        self.predictions = pd.DataFrame()\n",
        "        self.min_val = min_val\n",
        "        self.max_val = max_val\n",
        "\n",
        "\n",
        "    def fit(self, df):\n",
        "\n",
        "        # Guardar valoraciones para _prior()\n",
        "        self.ratings = df\n",
        "\n",
        "        # TODO: Reemplaza NaN's con 0's\n",
        "        Y = np.nan_to_num(df.values)\n",
        "\n",
        "        # Calcular U, s, VT con np.linalg.svd\n",
        "        # NOTA: s es un vector de valores singulares\n",
        "        # s ya esta en orden descendiente\n",
        "        U, s, VT = np.linalg.svd(Y)\n",
        "\n",
        "        # TODO: Conserva solo los r valores singulares más grandes de s\n",
        "        if self.r < s.shape[0]:\n",
        "            s[self.r:] = 0\n",
        "\n",
        "        # TODO: Crea la matriz diagonal S con dimensiones correctas\n",
        "        S = np.zeros(Y.shape)\n",
        "        S[:Y.shape[0], :Y.shape[0]] = np.diag(s)\n",
        "\n",
        "        # TODO: Calcula la aproximación de y\n",
        "        Y_hat = U @ S @ VT\n",
        "\n",
        "        # Crear un DataFrame en base a la aproximación\n",
        "        self.predictions = pd.DataFrame(data=Y_hat,\n",
        "                                        index=df.index,\n",
        "                                        columns=list(df))\n",
        "\n",
        "    def _prior(self, user_id, item_id):\n",
        "        # Predicción si user_id y/o item_id son nuevos en el sistema\n",
        "        if user_id not in self.ratings.index:\n",
        "            if item_id not in list(self.ratings):\n",
        "                return (self.min_val + self.max_val) / 2\n",
        "            else:\n",
        "                return self.ratings[item_id].mean(skipna=True)\n",
        "        else:\n",
        "            return self.ratings.loc[user_id, :].mean(skipna=True)\n",
        "\n",
        "\n",
        "\n",
        "    def predict(self, user_id, item_id, round_pred=True):\n",
        "\n",
        "        # Checar si es un nuevo usuario o nueva película\n",
        "        if user_id not in self.ratings.index or item_id not in self.ratings:\n",
        "            pred =  self._prior(user_id, item_id)\n",
        "        else:\n",
        "            # TODO: Predice la valoración de user_id sobre item_id\n",
        "            pred = self.predictions.loc[user_id, item_id]\n",
        "\n",
        "            # TODO: Asegurate que la predicción este entre min_val y max_val\n",
        "            pred = max(min(pred, self.max_val), self.min_val)           \n",
        "\n",
        "        # Redonde la predicción y devuelvela\n",
        "        if round_pred:\n",
        "            return round(pred, 1)\n",
        "        else:\n",
        "            return pred"
      ],
      "execution_count": 0,
      "outputs": []
    },
    {
      "cell_type": "code",
      "metadata": {
        "id": "y4P9Ai7cSdU8",
        "colab_type": "code",
        "colab": {}
      },
      "source": [
        "# Unit test para cada funcion\n",
        "\n",
        "svd_model = SVDClass(min_val=1.0, max_val=5.0, r=1,)\n",
        "svd_model.fit(ui_matrix)\n",
        "# Test 1\n",
        "pred = svd_model.predict(user_id=1, item_id=1, round_pred=True)\n",
        "assert pred == 1.3, f\"Test 1 Error: pred debería ser 1.3, en vez de {pred}\"\n",
        "\n",
        "# Test 2\n",
        "pred = svd_model.predict(user_id=2, item_id=5, round_pred=True)\n",
        "assert pred == 1.0, f\"Test 2 Error: pred debería ser 1.0, en vez de {pred}\"\n",
        "\n",
        "\n",
        "svd_model = SVDClass(min_val=1.0, max_val=5.0, r=10,)\n",
        "svd_model.fit(ui_matrix)\n",
        "\n",
        "# Test 3\n",
        "pred = svd_model.predict(user_id=1, item_id=1, round_pred=True)\n",
        "assert pred == 2.2, f\"Test 3 Error: pred debería ser 2.2, en vez de {pred}\"\n",
        "\n",
        "# Test 4\n",
        "pred = svd_model.predict(user_id=2, item_id=5, round_pred=True)\n",
        "assert pred == 1.0, f\"Test 4 Error: pred debería ser 1.0, en vez de {pred}\"\n",
        "\n",
        "\n",
        "svd_model = SVDClass(min_val=1.0, max_val=5.0, r=40,)\n",
        "svd_model.fit(ui_matrix)\n",
        "\n",
        "# Test 5\n",
        "pred = svd_model.predict(user_id=1, item_id=1, round_pred=True)\n",
        "assert pred == 2.8, f\"Test 5 Error: pred debería ser 2.8, en vez de {pred}\"\n",
        "\n",
        "# Test 6\n",
        "pred = svd_model.predict(user_id=2, item_id=5, round_pred=True)\n",
        "assert pred == 1.0, f\"Test 6 Error: pred debería ser 1.0, en vez de {pred}\""
      ],
      "execution_count": 0,
      "outputs": []
    },
    {
      "cell_type": "code",
      "metadata": {
        "id": "1a27S0RjSdjN",
        "colab_type": "code",
        "colab": {
          "base_uri": "https://localhost:8080/",
          "height": 297
        },
        "outputId": "8c387333-9f67-4f78-de0d-3bd84c17e9ff"
      },
      "source": [
        "# Hacer grafica de diferentes ks\n",
        "\n",
        "rs = [1, 2, 5, 10, 20, 50, 100, 200, 300, 600]\n",
        "results = [0] * len(rs)\n",
        "\n",
        "for i, r in enumerate(rs):\n",
        "    svd_model = SVDClass(min_val=1.0, max_val=5.0, r=r,)\n",
        "    svd_model.fit(ui_matrix)\n",
        "\n",
        "    predictions= test_df.apply(lambda x: svd_model.predict(user_id=x[\"userId\"], item_id=x[\"movieId\"], round_pred=True), axis=1)\n",
        "\n",
        "    mae = mean_absolute_error(test_df[\"rating\"], predictions)\n",
        "    \n",
        "    results[i] = mae\n",
        "    \n",
        "plt.figure()\n",
        "plt.plot(rs, results, color='r', label='SVD')\n",
        "plt.xlabel(\"Número de valores singulares\")\n",
        "plt.ylabel(\"Error absoluto medio\")\n",
        "plt.legend()\n",
        "plt.title(\"Rendimiento de SVD con diferente número de valores singulares\")\n",
        "plt.show()\n"
      ],
      "execution_count": 68,
      "outputs": [
        {
          "output_type": "display_data",
          "data": {
            "image/png": "[encoded data removed]",
            "text/plain": [
              "<Figure size 432x288 with 1 Axes>"
            ]
          },
          "metadata": {
            "tags": []
          }
        }
      ]
    },
    {
      "cell_type": "markdown",
      "metadata": {
        "id": "z8XM3-qsudeR",
        "colab_type": "text"
      },
      "source": [
        "## Ingeniería de características"
      ]
    },
    {
      "cell_type": "code",
      "metadata": {
        "id": "51jdb-WSuePR",
        "colab_type": "code",
        "colab": {}
      },
      "source": [
        "# Obtener datos que se usaran y poner en formato adecuado\n",
        "\n",
        "# No hacen nada estas lineas, nada más son para señalar qué datos usamos\n",
        "r_df = r_df\n",
        "g_df = g_df"
      ],
      "execution_count": 0,
      "outputs": []
    },
    {
      "cell_type": "code",
      "metadata": {
        "id": "9USACiN-Sxet",
        "colab_type": "code",
        "colab": {}
      },
      "source": [
        "# Creacion de caracteristicas\n",
        "from sklearn.preprocessing import MultiLabelBinarizer\n",
        "\n",
        "class MLClass():\n",
        "\n",
        "\n",
        "\tdef __init__(self, min_val, max_val, model):\n",
        "\t\t# NOTA: model ya debe de estar construido\n",
        "\n",
        "\t\tself.min_val = min_val\n",
        "\t\tself.max_val = max_val\n",
        "\n",
        "\t\tself.genres_df = pd.DataFrame()\n",
        "\n",
        "\t\tself.user_means = pd.DataFrame()\n",
        "\n",
        "\t\tself.movie_means = pd.DataFrame()\n",
        "\n",
        "\t\tself.model = model\n",
        "\n",
        "\n",
        "\n",
        "\tdef _make_train_data(self, df, genres_df):\n",
        "    # df será lista de valoraciones, basicamente leido directo de csv (a comparación de las otras dos clases)\n",
        "\t\tdf = df.drop(\"timestamp\", axis=1)\n",
        "\n",
        "\t\t# Processar datos de género de película\n",
        "\t\tgenres_df = genres_df.drop(\"title\", axis=1)\n",
        "\t\tgenres_df[\"genres\"] = genres_df[\"genres\"].apply(lambda x: x.split(\"|\"))\n",
        "\t\tmlb = MultiLabelBinarizer()\n",
        "\t\tgenre_labels = pd.DataFrame(mlb.fit_transform(genres_df[\"genres\"]),columns=mlb.classes_, index=genres_df.index)\n",
        "\t\tgenres_df = genres_df.drop(\"genres\", axis=1)\n",
        "\t\tgenres_df = genres_df.merge(genre_labels, left_index=True, right_index=True)\n",
        "\n",
        "\t\tself.genres_df = genres_df\n",
        "\n",
        "\t\t# Obtener promedio de usuario y películas\n",
        "\t\tself.user_means = df.groupby(\"userId\")[[\"rating\"]].mean().rename(columns={\"rating\":\"user_mean\"})\n",
        "\t\tself.movie_means = df.groupby(\"movieId\")[[\"rating\"]].mean().rename(columns={\"rating\":\"movie_mean\"}) \n",
        "    \n",
        "    # Adjuntar información de usuario y películas en vectores de características \"tradicionales\"\n",
        "\t\tX = df.merge(genres_df, left_on=\"movieId\", right_on=\"movieId\")\n",
        "\t\tX = X.merge(self.user_means, left_on=\"userId\", right_on=\"userId\")\n",
        "\t\tX = X.merge(self.movie_means, left_on=\"movieId\", right_on=\"movieId\")\n",
        "\n",
        "\t\ty = X[\"rating\"]\n",
        "\t\tX = X.drop(\"rating\", axis=1)\n",
        "\n",
        "\t\treturn X, y\n",
        "\n",
        "\n",
        "\n",
        "\tdef fit(self, df, genres_df):\n",
        "\t\t# Hacer vectores de características\n",
        "\t\tX, y = self._make_train_data(df, genres_df)\n",
        "\n",
        "\t\t# Entrenar modelo\n",
        "\t\tself.model.fit(X, y)\n",
        "\n",
        "\n",
        "\tdef predict(self, user_id, item_id, round_pred=False):\n",
        "    \n",
        "    # Crear vectores de características\n",
        "\t\tx = pd.DataFrame({\"userId\":[user_id], \"movieId\":[item_id]})\n",
        "\t\tx = x.merge(self.genres_df, left_on=\"movieId\", right_on=\"movieId\")\n",
        "\n",
        "\t\tif user_id not in self.user_means.index:\n",
        "\t\t\tx[\"user_mean\"] = (self.min_val + self.max_val) / 2\n",
        "\t\t\tx[\"no_user_ratings\"] = 0\n",
        "\t\telse:\n",
        "\t\t\tx = x.merge(self.user_means, left_on=\"userId\", right_index=True,)\n",
        "\n",
        "\t\tif item_id not in self.movie_means.index:\n",
        "\t\t\tx[\"movie_mean\"] = (self.min_val + self.max_val) / 2\n",
        "\t\t\tx[\"no_movie_ratings\"] =0.0\n",
        "\t\telse:\n",
        "\t\t\tx = x.merge(self.movie_means, left_on=\"movieId\", right_index=True,)\t\t\n",
        "\n",
        "\t\t# Obtener predicción del modelo\n",
        "\t\tpred = self.model.predict(x)[0]\n",
        "\n",
        "\t\t# Asegurar que la predicción esté en el rango adecuado\n",
        "\t\tpred = max(min(pred, self.max_val), self.min_val)\t\t\t\n",
        "\n",
        "    # Redondear y devolver\n",
        "\t\tif round_pred:\n",
        "\t\t\treturn round(pred, 1)\n",
        "\t\telse:\n",
        "\t\t\treturn pred"
      ],
      "execution_count": 0,
      "outputs": []
    },
    {
      "cell_type": "code",
      "metadata": {
        "id": "w9eS9PJXS4qA",
        "colab_type": "code",
        "colab": {
          "base_uri": "https://localhost:8080/",
          "height": 72
        },
        "outputId": "874e7ca8-ce30-436f-8b93-be59c2292ecb"
      },
      "source": [
        "# Unit test de caracteristicas\n",
        "from sklearn.ensemble import RandomForestRegressor\n",
        "from sklearn.linear_model import LinearRegression\n",
        "\n",
        "import random\n",
        "random.seed(43)\n",
        "np.random.seed(43)\n",
        "\n",
        "model = LinearRegression()\n",
        "model = MLClass(min_val=1.0, max_val=5.0, model=model)\n",
        "model.fit(r_df, g_df)\n",
        "\n",
        "# Test 1\n",
        "pred = model.predict(user_id=1, item_id=1, round_pred=True)\n",
        "assert pred == 4.6, f\"Test 3 Error: pred debería ser 4.6, en vez de {pred}\"\n",
        "\n",
        "# Test 2\n",
        "pred = model.predict(user_id=2, item_id=5, round_pred=True)\n",
        "assert pred == 3.5, f\"Test 4 Error: pred debería ser 3.5, en vez de {pred}\"\n",
        "\n",
        "\n",
        "rf = RandomForestRegressor()\n",
        "rf_model = MLClass(min_val=1.0, max_val=5.0, model=rf)\n",
        "rf_model.fit(r_df, g_df)\n",
        "\n",
        "# Test 3\n",
        "pred = rf_model.predict(user_id=1, item_id=1, round_pred=True)\n",
        "assert pred == 4.4, f\"Test 3 Error: pred debería ser 4.4, en vez de {pred}\"\n",
        "\n",
        "# Test 4\n",
        "pred = rf_model.predict(user_id=2, item_id=5, round_pred=True)\n",
        "assert pred == 2.8, f\"Test 4 Error: pred debería ser 2.8, en vez de {pred}\""
      ],
      "execution_count": 82,
      "outputs": [
        {
          "output_type": "stream",
          "text": [
            "/usr/local/lib/python3.6/dist-packages/sklearn/ensemble/forest.py:245: FutureWarning: The default value of n_estimators will change from 10 in version 0.20 to 100 in 0.22.\n",
            "  \"10 in version 0.20 to 100 in 0.22.\", FutureWarning)\n"
          ],
          "name": "stderr"
        }
      ]
    },
    {
      "cell_type": "code",
      "metadata": {
        "id": "ulhLSsFiS-8V",
        "colab_type": "code",
        "colab": {
          "base_uri": "https://localhost:8080/",
          "height": 35
        },
        "outputId": "be4e473a-7c40-4d5e-8677-ea33463b9be3"
      },
      "source": [
        "# Prediccion con bosques aleatorios\n",
        "\n",
        "predictions= test_df.apply(lambda x: rf_model.predict(user_id=x[\"userId\"], item_id=x[\"movieId\"], round_pred=True), axis=1)\n",
        "mae = mean_absolute_error(test_df[\"rating\"], predictions)\n",
        "print(\"Test MAE: {}\".format(mae))"
      ],
      "execution_count": 83,
      "outputs": [
        {
          "output_type": "stream",
          "text": [
            "Test MAE: 0.6963825154915425\n"
          ],
          "name": "stdout"
        }
      ]
    },
    {
      "cell_type": "code",
      "metadata": {
        "id": "90_TMnz2THg4",
        "colab_type": "code",
        "colab": {
          "base_uri": "https://localhost:8080/",
          "height": 35
        },
        "outputId": "924cdcbb-a13c-45a1-fdc2-37748d26bf8e"
      },
      "source": [
        "# Prediccion con regresión lineal\n",
        "\n",
        "predictions= test_df.apply(lambda x: model.predict(user_id=x[\"userId\"], item_id=x[\"movieId\"], round_pred=True), axis=1)\n",
        "mae = mean_absolute_error(test_df[\"rating\"], predictions)\n",
        "print(\"Test MAE: {}\".format(mae))"
      ],
      "execution_count": 84,
      "outputs": [
        {
          "output_type": "stream",
          "text": [
            "Test MAE: 0.6598392229107352\n"
          ],
          "name": "stdout"
        }
      ]
    },
    {
      "cell_type": "markdown",
      "metadata": {
        "id": "_kXSVwBUvFui",
        "colab_type": "text"
      },
      "source": [
        "## Surprise"
      ]
    },
    {
      "cell_type": "code",
      "metadata": {
        "id": "-XEr2Cm79Drr",
        "colab_type": "code",
        "colab": {
          "base_uri": "https://localhost:8080/",
          "height": 280
        },
        "outputId": "9db9e9ad-12d3-4aff-c0f0-83cb6490f2bf"
      },
      "source": [
        "# Instalar\n",
        "!pip install scikit-surprise"
      ],
      "execution_count": 2,
      "outputs": [
        {
          "output_type": "stream",
          "text": [
            "Collecting scikit-surprise\n",
            "\u001b[?25l  Downloading https://files.pythonhosted.org/packages/4d/fc/cd4210b247d1dca421c25994740cbbf03c5e980e31881f10eaddf45fdab0/scikit-surprise-1.0.6.tar.gz (3.3MB)\n",
            "\u001b[K     |████████████████████████████████| 3.3MB 2.8MB/s \n",
            "\u001b[?25hRequirement already satisfied: joblib>=0.11 in /usr/local/lib/python3.6/dist-packages (from scikit-surprise) (0.13.2)\n",
            "Requirement already satisfied: numpy>=1.11.2 in /usr/local/lib/python3.6/dist-packages (from scikit-surprise) (1.16.4)\n",
            "Requirement already satisfied: scipy>=1.0.0 in /usr/local/lib/python3.6/dist-packages (from scikit-surprise) (1.3.0)\n",
            "Requirement already satisfied: six>=1.10.0 in /usr/local/lib/python3.6/dist-packages (from scikit-surprise) (1.12.0)\n",
            "Building wheels for collected packages: scikit-surprise\n",
            "  Building wheel for scikit-surprise (setup.py) ... \u001b[?25l\u001b[?25hdone\n",
            "  Created wheel for scikit-surprise: filename=scikit_surprise-1.0.6-cp36-cp36m-linux_x86_64.whl size=1683492 sha256=e3bb13143688f7820a2ad66663b4bd77a1e1d4031a022056b71b176958aabab6\n",
            "  Stored in directory: /root/.cache/pip/wheels/ec/c0/55/3a28eab06b53c220015063ebbdb81213cd3dcbb72c088251ec\n",
            "Successfully built scikit-surprise\n",
            "Installing collected packages: scikit-surprise\n",
            "Successfully installed scikit-surprise-1.0.6\n"
          ],
          "name": "stdout"
        }
      ]
    },
    {
      "cell_type": "code",
      "metadata": {
        "id": "XZd9KDexvGUO",
        "colab_type": "code",
        "colab": {}
      },
      "source": [
        "# Obtener datos que se usaran y poner en formato adecuado\n",
        "\n",
        "from surprise import Dataset\n",
        "from surprise import Reader\n",
        "\n",
        "\n",
        "# Un reader es un objeto para leer una clase\n",
        "reader = Reader(rating_scale=(1, 5))\n",
        "\n",
        "# Los Datasets son objetos que se pueden usar para hacer validación cruzada\n",
        "# Son necesario para poder utilizar los modelos de la librería\n",
        "train_data = Dataset.load_from_df(r_df[['userId', 'movieId', 'rating']], reader)\n",
        "test_data = Dataset.load_from_df(test_df[['userId', 'movieId', 'rating']], reader)\n",
        "\n",
        "# Además de usar Datasets, se requieren usar trainset para entrenar y testset para predecir\n",
        "trainset = train_data.build_full_trainset()\n",
        "testset = test_data.build_full_trainset().build_testset()\n"
      ],
      "execution_count": 0,
      "outputs": []
    },
    {
      "cell_type": "code",
      "metadata": {
        "id": "rZw2aYhQTQ9q",
        "colab_type": "code",
        "colab": {
          "base_uri": "https://localhost:8080/",
          "height": 124
        },
        "outputId": "a328249d-09c7-4acb-8f62-ff6479bd53c3"
      },
      "source": [
        "# Demo con kNN\n",
        "from surprise import KNNWithZScore\n",
        "from surprise import accuracy\n",
        "\n",
        "# Creación del modelo\n",
        "model = KNNWithZScore(k=20)\n",
        "\n",
        "# Entrenar modelo con trainset\n",
        "model.fit(trainset)\n",
        "\n",
        "# Crear predicciones\n",
        "# NOTA: preds es una lista de tuples, i.e. [(userId, movieId, real rating, estimated rating, {detalles}), ...]\n",
        "preds = model.test(testset)\n",
        "\n",
        "print(preds[0][3])\n",
        "\n",
        "# Con los métodos de surprise.accuracy se puede medir el rendimiento del modelo\n",
        "accuracy.mae(preds)\n",
        "\n",
        "# Si quieres crear una lista de las predicciones, tienes que accesarlo así\n",
        "pred_ratings = [pred[3] for pred in preds]\n",
        "print(pred_ratings)"
      ],
      "execution_count": 34,
      "outputs": [
        {
          "output_type": "stream",
          "text": [
            "Computing the msd similarity matrix...\n",
            "Done computing similarity matrix.\n",
            "2.9195045975942766\n",
            "MAE:  0.6563\n",
            "[2.9195045975942766, 3.108259222364456, 3.528186608217651, 2.6249565771736236, 3.365079950852431, 3.075710179543707, 2.161594191944433, 2.5538695408903633, 2.58996017247395, 2.4293376344399404, 2.5651728849253597, 2.6796091614690707, 2.827330394025082, 3.4716409422581602, 2.898406334458047, 3.4701247220484155, 2.3051043317557527, 3.2749039103383737, 3.4669434321246495, 3.301934697476469, 2.3475488564468376, 2.3746950569591703, 3.063781404733701, 2.7423072488735842, 3.529014524760275, 2.625456942988298, 2.3797813107438532, 4.208953524391384, 4.541281871934183, 4.196897340102652, 4.605955543380892, 3.920467283641445, 4.395108975185472, 4.5108800725366125, 3.646510260839273, 4.021260208790445, 4.39551707685505, 3.8429505828176134, 4.023599587785783, 3.847659393581835, 3.8020090761503496, 3.9567490598245127, 4.122536889691442, 3.9108157742902634, 4.043935382235603, 4.220049252580303, 4.043397960223843, 3.8286770677465762, 3.948406756896667, 3.7592833439237685, 3.984662921756658, 2.5550109662161447, 3.337926695749624, 4.076374359761381, 3.252933026955149, 3.325909318089622, 3.627425596852498, 2.459697614645579, 3.611564320972902, 3.2880831562060178, 3.5049598615856996, 3.9039222866465852, 3.4517313135102614, 3.4800933973428743, 3.3449699136938458, 3.744177601626253, 2.7060466345483585, 3.2863951058653242, 3.4676018557608312, 3.524874506960795, 4.0015581898782475, 4.062075417710482, 3.657589380428614, 3.8025147138258397, 3.8447545272696537, 3.7265432680640664, 3.211013663687073, 3.820825295781692, 3.3677390807886547, 2.895458907473334, 4.168914979216722, 3.5634805771879425, 3.7890605962678694, 3.8331614396259583, 3.583783731842375, 3.556275145224707, 3.4965277052260264, 3.730150168087376, 3.5354180259852614, 3.8230095745013744, 2.9826344080714655, 3.967302005014774, 3.5301119278263897, 3.7700718894630274, 3.476425604586625, 3.3021176654046114, 3.588762131049626, 3.5320829014445425, 4.0476511288563835, 3.6001545593873185, 3.7095776815674597, 3.889295317579164, 3.8197357478861242, 3.716184870052106, 3.825611799286328, 3.5349881053567422, 3.2829347694983158, 3.863048786441505, 3.6789589377290564, 3.734948639076598, 3.0871986160018063, 3.04090595647675, 3.9212599643844874, 3.6179453409247255, 3.615874561383245, 4.002588893726673, 3.6691891724983474, 3.646735663249426, 3.386412841626156, 3.3120785209136137, 3.2343114103181154, 3.208253252758463, 3.306425081284995, 3.3880339732378713, 2.704335979594876, 3.1907849607446575, 3.2282281624210207, 3.232401732998817, 3.436273902849617, 3.2492635639042375, 2.626185790585833, 3.3277755307312957, 3.5169129435556234, 3.4459452350991038, 2.533191577614037, 3.0436582835588832, 2.943529226946444, 2.7701262094382892, 2.8097342507776806, 3.612983987650949, 3.432084301879466, 2.7121256463481522, 2.9012248716162787, 3.2905726574079774, 3.8884542827646094, 2.828320294710588, 3.281924826954947, 3.7164503551968324, 2.7039148990484776, 3.173015526533237, 3.5012842675421996, 3.2463076370014794, 3.3816107680353613, 3.3676058057496054, 3.066746454117699, 2.6708859585381504, 3.766795117600817, 2.3659578408953634, 2.5848170883810337, 3.385826151753733, 3.418802592351409, 2.7076132720939228, 2.8920878300391095, 3.373719335046443, 3.1079904308907653, 3.0601237631194484, 3.634784402098927, 2.4880807791894664, 2.9497237038663062, 3.6750459950578986, 3.5836564227005154, 3.5033886179099296, 3.29044696993678, 3.7074200010590466, 3.167458185507336, 3.0247756312372296, 2.8932053732736867, 3.6433560298309127, 3.305111310553248, 3.560999887114045, 2.8845340154943546, 3.5382008035989436, 2.38889665843097, 3.1934494050502815, 2.9959426943194125, 2.860692236977583, 2.2853925929088907, 3.5864209203951187, 3.323059861354828, 3.250592286010376, 2.773911315681969, 3.375827623021884, 3.3898732900491217, 2.5584801556447596, 3.5829807923877546, 3.3081244283833513, 2.3902629469776304, 3.5635867714509692, 3.2837304577987347, 3.4025512011553234, 3.2175925202798408, 3.353852783084537, 2.741513141265515, 3.2833701609412262, 2.9326272445441193, 3.6626144099650464, 3.133809623430952, 3.920801428842406, 2.806067390480695, 2.8408431952311726, 2.659674151416886, 1.8822855675823909, 2.607784306627599, 2.433311536255646, 2.014903731156837, 2.7722036079223735, 2.0500272895494476, 2.2954861800473148, 2.503898443704829, 3.0682601439661257, 3.097684574088292, 2.8961585678161503, 2.247352809856826, 1.8989927099771031, 2.293547682205386, 1.8897611221414792, 1.8626951128674705, 2.1396257327597725, 2.849796459354329, 3.1481361574778117, 2.8639953067208475, 2.4670847688917728, 2.1875877437165694, 2.908232013190618, 2.4753105616015962, 2.099059218768645, 3.092597244979151, 3.040844873299987, 2.280807024855094, 2.753850608942378, 3.0611646859688544, 3.0555569796829336, 2.6653556717618527, 2.075071276771538, 3.0946810460091134, 2.4693857429903283, 3.1467917538447088, 3.438995284773876, 2.622057934222249, 2.4648899187987947, 1.8178622733484917, 2.2636723557187697, 2.6122285608444313, 3.0621168021875267, 2.730818043616279, 3.0814790710617133, 2.88079416698931, 2.439979760060848, 2.917447185283462, 3.145927215758785, 2.571913245293896, 2.7689896641619005, 2.8232236709044645, 2.027330041972041, 2.4011628270105363, 3.112026828814171, 3.193251119841863, 2.2488440827713543, 2.81456118618223, 2.6228457005550223, 3.0911623115469955, 3.0379294203828398, 2.976037613597048, 2.5780381249685016, 2.245015222588337, 2.7867545152584006, 2.879916893596341, 1.4186649158642448, 2.4476748282290646, 2.6676019026942246, 2.8280039662190357, 1.9838035680341441, 3.416820092657273, 2.637863612403916, 2.302198193969283, 2.6471556240245184, 2.4494299036009393, 3.1484786310406827, 3.0040393664218006, 3.044548368220121, 2.731133310644278, 3.0879501069661037, 2.520250604342271, 3.4066810735680013, 2.813099316413103, 2.381541598550373, 3.0748744134024295, 2.7949856088988017, 3.430784081037041, 2.707326728679446, 3.469791787877557, 2.179775596260799, 3.2826525792013124, 2.9711049843759576, 2.0991422772774575, 2.9530709556120756, 3.079085866315446, 2.3513006636634257, 2.6074623068486016, 2.491260462668285, 3.1194362606548256, 3.1106954692093174, 2.726293084590673, 3.0132416791021033, 2.9049230814870572, 3.1049309302683468, 3.031137264698973, 2.589736456045386, 2.9286896034958545, 2.215209250540756, 2.9788567803702377, 2.900616579546815, 3.206224962483036, 2.9488652300660037, 2.7068040729173104, 2.3800559780232717, 2.774430607542429, 3.087553121862583, 2.5858752789636825, 3.0711490580059757, 3.4002362391899963, 1.6767961090036623, 2.62201940151951, 3.040804290558328, 2.2274204868777976, 3.1326071106354276, 3.7423524672777795, 3.494411750004065, 3.0474136071906504, 3.6402449920236952, 3.718174835910913, 3.56311898225027, 3.8875953771648475, 3.531267399012833, 3.127985214972832, 3.3872711223334253, 3.1497419672211864, 4.001995862489906, 3.0353143438531425, 3.0870739015185453, 3.7867479484696718, 3.1905677737834925, 3.608954716296522, 3.644006552642374, 3.7765543239098878, 3.9252933772388214, 3.8269886935069963, 3.0068187003545406, 3.0992127776035066, 3.4570516597437297, 3.224927315041553, 3.614038179681997, 3.4978578032015792, 3.582805791379367, 3.4356209054228284, 3.520225471093266, 3.6805897494334174, 3.6999423795804356, 3.283513405386861, 3.9341307264617718, 3.2600868025341025, 3.07506882634837, 3.1546559224321484, 3.8943085210538895, 3.916882005453449, 3.58815153182748, 3.545638360396805, 3.0665568805678505, 3.9812891601301414, 3.4622721049188367, 1.6130131354404205, 2.6022726437219994, 2.9166301797775316, 2.5917710933058746, 1.969182424217992, 3.3341417941856992, 3.2183826994157814, 3.454902154785481, 3.593709071142463, 3.654181178610419, 2.763437663854595, 2.8488057402890665, 2.7289600303415753, 2.869949368658428, 3.3796200003926744, 2.7764630412701408, 2.9723443076727722, 3.2718397070413845, 3.991969228375657, 3.3126453805528113, 3.6106330548630865, 3.6644831781947045, 2.1316069797561763, 1.8887873836915008, 3.0536380980867377, 3.05045925046012, 2.0440180197846476, 2.8874968338419906, 3.6145459659840995, 2.980961192161054, 3.4055538150816917, 2.8520581465495787, 2.9826125994151163, 3.2902054569726475, 3.346839181712211, 3.127628248119688, 3.129871036188527, 3.4712135286363575, 2.395719761460022, 3.0969895159355003, 3.0708895805418, 3.0357234060158436, 3.2480176815999027, 2.6758504024821663, 3.5815810982905343, 3.749071033279383, 2.9012089078420162, 3.58616175503212, 3.5183234459015953, 3.360870567025968, 2.8002323153380138, 3.6659454165920073, 2.3320089241041537, 3.148894058050904, 3.449793307038334, 3.4086865712344556, 3.5531030435906295, 3.6446379283382404, 3.5052485238601436, 3.210839500202919, 2.609334707711387, 3.048879223514657, 3.5426502436568117, 4.082430809740073, 3.257916021747068, 2.515422917200801, 3.448084559662856, 3.708280438613221, 3.2692290747724027, 3.5133550870109724, 3.3363643144680273, 2.4496601832059315, 2.902073553311341, 3.9961896102250645, 2.4635076201366837, 2.782994589526699, 4.059170001534488, 3.748148581814168, 3.232063079563896, 3.6656512720358645, 3.021932714216698, 3.6624163705140926, 2.7126332158260524, 4.133729005202518, 4.503742606198088, 3.2655056001607714, 3.370465358028696, 4.216921844004908, 4.228622142201292, 4.277970113338162, 4.022072113704665, 3.7444059377358925, 4.217607114416863, 3.9705369667262165, 3.5044577544957334, 3.989516498249508, 4.232467501398982, 4.348835129149281, 3.5472982656897574, 4.222805824334188, 3.9209795539825256, 3.545452424437395, 4.32989653562719, 4.144868131996386, 3.946141863404026, 3.6151134198715944, 4.150940082541112, 4.030134204458022, 4.161867115190605, 3.4553580914392397, 3.6021376986092264, 3.960624380640866, 4.044474752046288, 4.041853284160034, 3.9445577915219814, 4.3738984662147224, 4.008095851681719, 3.8844441257632947, 4.342958976064007, 2.004994830409594, 3.175239682959815, 2.5054885928627715, 3.114399698202624, 3.253553951915121, 2.1882604853206713, 1.0169474131339704, 4.039203376963266, 1.0257466542479365, 2.387227249453368, 4.065956544065998, 3.3010110461857662, 3.7077231773477832, 3.158237896906405, 4.012987768471915, 2.978627847829136, 3.954446501156283, 3.5871826781325526, 3.1943832059003956, 4.012953378946273, 4.029835053668895, 3.5753465897011933, 4.097139225443663, 4.099360328138939, 3.7345086130089586, 3.8030783065249527, 3.3093325682228505, 4.051003014639623, 3.616455322934215, 3.7802188645046155, 3.916836295664928, 3.0393256080472555, 2.8085499406281027, 4.102542774666854, 3.5088983420304967, 3.6168183936654854, 3.397287164741992, 3.502713172551768, 3.5281313975152617, 3.807599657629729, 3.2972407232819902, 3.4651082370924904, 3.662024167384715, 3.413322816706336, 4.155578539448793, 3.9789484661241996, 3.900333816486363, 3.469822647925833, 3.8278167336939095, 4.05342274888657, 4.151355652734447, 3.26085714030087, 3.982962138329271, 3.737605285643162, 3.7307045841239246, 3.3821425596914363, 3.6597821066710665, 4.406158202681278, 3.1033118217926283, 3.9860902048036433, 3.875814845957226, 3.9517070681981536, 3.4718739684800015, 3.9456988755964955, 3.897174833610733, 3.8660532263053633, 3.7318057591953235, 4.300856893860445, 3.3601529497244247, 3.2879236477324776, 3.498798575125963, 3.422790822104848, 3.3027289906973705, 4.695496815596587, 4.789900444713659, 4.520870746379383, 4.60442295785207, 4.6487426061618775, 4.072634303765709, 4.332491474905082, 4.927053893477004, 4.444371600883781, 4.768658810915813, 4.255710059146543, 4.613014078731936, 4.289936859902745, 4.268514245992411, 4.737691434428457, 4.70556583143958, 4.7966084849445485, 4.2997714239129685, 4.858335536915201, 4.84655306576567, 4.761950206863723, 4.421520596088116, 4.345410956388547, 4.464707113196131, 4.061706917558141, 3.57068241921375, 4.217776273753768, 3.615317623496651, 4.530219454110428, 4.582996345595013, 4.717455574700801, 4.143749790728925, 4.284681477419176, 4.641425906711878, 4.449504705572109, 4.514619668405416, 4.027015225560622, 3.98292500289219, 3.349023017204599, 2.710975056858525, 3.1686272273028715, 4.4604274661698895, 4.553103513178334, 4.996491194652515, 4.62061975608588, 4.514638124211671, 4.719046411234002, 4.715289672786133, 4.814422214944615, 4.4477733783633875, 4.627195322831929, 4.647913006701652, 4.61052250203158, 4.837810630265653, 4.509209219025762, 4.57467159504, 4.722577896928418, 4.786423088938203, 4.880109307530929, 4.409127930866659, 4.342258846639234, 4.621166817553952, 4.409591180116476, 4.420779535793773, 4.574094433728906, 4.2161022508178725, 4.775298163146682, 3.0423788400168505, 1.9290590711339233, 2.9144858972757404, 1.6597853096745268, 3.563585281549379, 3.1971595382335107, 2.746243898865271, 2.9429678623185342, 1, 3.3630650964861997, 1.5222925005695513, 1.4864862982916802, 3.4054533205005897, 2.9093346730697416, 3.786660844990023, 3.1294734012386662, 2.538147733233169, 1.9813798501533488, 2.184767213586884, 3.247451171567064, 3.0358853510859087, 3.0562109856043147, 2.6630515876542487, 3.841994315899683, 3.208499708245793, 2.3788770139758797, 2.5716783938637136, 3.326362070246715, 2.9668377718163614, 2.9396893683458627, 3.1430150186860635, 3.1413520344185386, 2.0495641796450945, 3.57352393578609, 2.7114625259467324, 3.2038447027872614, 3.468297943948997, 1.4645676905634202, 1.5661020559785106, 2.8290490522642537, 1.4255819559906096, 3.097348339826805, 3.8009279744504836, 3.3533547562102908, 4.596526352669391, 3.196883053759602, 3.830682488924259, 4.619544711937074, 3.2585506699149525, 3.8229572615319056, 3.5582705322413406, 4.515610058792602, 2.6875802244316316, 3.542773545750166, 2.7013370117951077, 3.936994674439207, 3.786366691189527, 3.7222422084263824, 3.2980187748790994, 2.9299732208319313, 3.6078478976882007, 3.754238380227586, 3.903935361536222, 3.500190366017208, 3.9751071312160438, 3.203224533197277, 3.481112895578365, 4.089801316663133, 3.469045211316177, 3.5519438549796933, 3.6195688983235526, 4.0144680540005, 4.546785196481904, 4.242247039616731, 3.822022224946808, 3.718157483531573, 2.535952460026642, 3.7720924995175276, 4.088469041716283, 3.6492756245575286, 3.248148797934396, 3.5009782951653685, 3.6412732771816345, 3.5217741489128396, 4.376348643035582, 3.4404585023780205, 4.004690218442528, 3.3703947666327747, 4.234816495758198, 3.794996145296142, 3.4635663197634945, 2.686252745696403, 3.4137395151333885, 4.136386824795882, 3.8820358198708127, 3.7304878918224555, 3.7793490777845866, 3.761339010738786, 4.075864259289612, 3.394056635903175, 2.785283427325629, 3.968066744992411, 2.512872340263682, 3.8462658771532237, 4.445331142120445, 3.9730107797914225, 3.5544484761567694, 3.448473511494028, 2.7751276784044077, 3.6904946976025728, 3.479020067114272, 3.757862763632733, 3.6810746754327535, 3.950941050012871, 3.891846760877579, 2.9757014010151632, 2.5530408979125667, 3.5601522456670085, 3.7419911299842132, 3.4353249201511686, 3.7317325322360175, 2.652592781763077, 3.4369888330675535, 2.757386653404207, 3.724238706940402, 4.067069723179946, 3.2963916787774985, 3.7087617178520307, 3.9287872755602704, 4.0064535641878365, 3.207012103759785, 4.134572286984465, 4.142439083864479, 3.951477744819474, 4.124298996665153, 4.039373135669784, 4.003195019485603, 4.044030095412419, 3.9756202402682597, 4.358159753669904, 3.1695919032366784, 3.089729774548252, 3.399672952146661, 3.2976726460367916, 3.1700448883715966, 3.20761289505648, 3.6397471486828956, 3.1887270069376514, 3.4702436931355995, 2.811772941658412, 3.718798699842753, 3.7149828423463895, 3.5840555908266176, 3.7601405374718544, 3.001860758904862, 3.294214667708736, 3.235354134770661, 3.5220231942603166, 3.463559269908117, 3.2791707923452185, 2.6801334134203505, 3.3632345888301085, 2.9186691190559033, 2.881859469988813, 2.4074290709647643, 3.728155773696931, 4.595859414677635, 4.9335709547139235, 2.7026647940864907, 2.3038545722400476, 2.8779051446057204, 3.2466952069989707, 3.0817180002283657, 3.179286756504848, 3.1012217252930854, 2.7801446189489387, 2.694139579695661, 2.1816412724822407, 1, 2.859295417552807, 2.597885982810459, 3.013631504294463, 2.733232150613827, 3.2237418718958795, 1.8516508695675418, 2.467574129040786, 2.4558142651893062, 3.079909974804335, 2.45183862688814, 2.27255959206626, 2.1945392108438546, 2.267620897136316, 2.1030118550605232, 3.480483436262417, 3.3496074712656325, 3.913287512092347, 3.3805675803789494, 2.9978382313509604, 3.1413539901424117, 3.161637523038421, 2.7266165871771806, 3.380159396090881, 2.6088361590430877, 3.8074650620697623, 3.191975274344414, 3.0201950960990542, 3.4814960478629384, 2.591940488038953, 3.432312635828675, 3.4638336716014297, 3.722546970251953, 2.7039076140036418, 3.1513957456327253, 3.4492542567457143, 3.018329656891729, 3.5862819798558827, 3.155573311816232, 3.4664148807608473, 2.949853028334161, 3.586326491453754, 3.0519797347192004, 3.541277872576395, 3.227339637060157, 3.257308492654035, 2.3552682813196193, 3.1423740712816044, 2.768079578900054, 2.5855511975555117, 3.1634972841436477, 3.3527038610928392, 3.486160202982104, 3.448412696167391, 2.0982398360901895, 3.8224219460116053, 3.562570118015744, 3.248491851763626, 3.7576764962057196, 3.689363493935016, 2.8580881256119075, 3.6203654133251146, 3.289225803260885, 2.859672635470159, 3.6309968550345078, 3.420842545433165, 3.658390801109529, 4.17450995967225, 3.884177114865974, 4.63208400730119, 3.8850219348818325, 4.316284577465569, 4.322176697363242, 4.1342611238973515, 4.373049425185837, 4.334688869598808, 3.9318592307115403, 4.352989115931856, 4.373884806684156, 4.261925475305516, 4.056699452617548, 3.7998171739654527, 4.00263590651731, 4.372876642568864, 4.211009121324368, 3.656130992847792, 4.206804335172856, 4.04409951038039, 3.7426001809096117, 3.1858180023152296, 3.5095432019755193, 3.5507401525619797, 3.9112729742845076, 3.8772563404981577, 3.763655610898424, 3.865496123779453, 3.500017673717517, 3.8258724633351444, 3.9276102920147946, 3.4109050805827126, 3.481725062946993, 3.309720166757452, 3.83477872899532, 4.098253489963351, 3.8947767157712905, 3.8891454354003985, 4.264377758529855, 4.090996647309263, 3.2644867305017367, 4.0954816283073034, 3.4506038148096914, 4.116192178007828, 3.655813261891729, 3.0541580952767395, 2.867884879925964, 3.782501198428293, 3.740333365615053, 3.810594646634973, 4.374275230183837, 4.036954342479969, 3.844254654156138, 3.673673033839722, 3.627744975696377, 4.06888845114937, 3.76101421572385, 3.555778497567029, 2.9669477915409104, 3.38567709908279, 2.736136165755518, 3.8063670628683473, 3.506120095948365, 3.326637149286426, 3.853764759819386, 3.958232148438961, 3.4611843152547452, 3.8535196936981624, 3.5702545152158867, 3.581089231153718, 3.872874012466069, 2.703919540304447, 3.5418301767144698, 2.9993115665995385, 3.2161744523150553, 2.4613990358534004, 2.924680930790843, 2.661997765145527, 3.7691475268735224, 2.752779804501645, 3.6532554233682344, 3.529821276275102, 3.5132898341916152, 3.880291595542228, 4.107675324837496, 3.553032828586934, 3.656751769072774, 3.2591969304895545, 3.382934834897602, 3.3581109748593905, 3.9834058750057872, 2.8143409238048385, 3.5649157340519673, 3.5520319407502012, 4.258088519584669, 3.6500008482736868, 3.3655494355602453, 3.694251532418534, 3.37953470171509, 3.1766553256786922, 3.878077715136213, 3.541204634531748, 3.439538523321962, 2.996223181753028, 3.7885318844968507, 3.8939792620734996, 3.221217614809337, 3.3607932723345213, 3.8614679487496444, 2.7829363899396573, 3.44498289191422, 2.585054991149498, 2.6141275815573435, 3.5565058976481545, 3.3745903935360175, 2.8934917753733593, 2.1023738587372858, 3.504038248263051, 3.2369064505762206, 3.4339111650306116, 3.478724894202199, 3.20659436481664, 3.716617222261978, 3.3924828763086863, 2.9858868731448625, 4.220493695200178, 3.8191944204025696, 2.4407758434087015, 3.536116963665751, 2.8174279668057554, 3.8477116283961537, 4.127463327615575, 2.290403015417235, 3.3657217742369854, 3.5941074235663923, 3.4186886386566173, 2.612617896614026, 2.875727413602146, 3.1641671974316696, 3.125388469641771, 3.482765697702346, 2.8783905572787103, 3.3723176219061717, 3.2384699089305813, 2.619114047958633, 3.095059975007121, 3.124052738074748, 3.180770076267086, 3.0685637036817353, 2.7791149259954606, 2.5500320868602664, 3.3821410664444813, 2.877710697660763, 3.6535947497305132, 3.505920029986903, 3.0443120838199307, 3.881747588149479, 3.2361275389431117, 2.409647568403202, 3.03937041911437, 3.5041433891154323, 3.4306066012004113, 2.7922976728769013, 2.6089197978868146, 3.172209322937928, 3.428892969612446, 3.715782512117337, 3.0634544590067923, 3.8213871509561788, 3.5557733464323147, 3.7298420213229666, 3.267146550313981, 2.9289782529919304, 3.4720860972334315, 3.3054107112632534, 3.3793599333819833, 2.679892887793874, 2.7745902629493013, 3.14670137201134, 3.191591354757944, 3.3755637657097974, 2.5983985862022005, 3.13959822662481, 2.779216000293856, 3.3471795848486616, 3.0931492809607324, 3.634632168146437, 2.3939305068675303, 3.4529034370663734, 3.6076843805884247, 3.1682442548500376, 2.7472897302963477, 2.785529452007091, 2.5943228060541346, 3.527430305113854, 2.7140122430118905, 3.1678821525426852, 3.1663538785592915, 3.4448960330000027, 3.7645437325904094, 4.154999883493991, 3.86737222098203, 4.064679825396956, 4.1959988944070785, 4.026365806156926, 3.2884621738964133, 4.094798926562397, 4.436961196424853, 3.991783287465154, 4.246505119020069, 4.1468175383585555, 3.727546637116587, 3.420201305497064, 4.0584180470787174, 4.475993767557912, 4.246343750559675, 4.103116661691871, 4.611017167482655, 3.9678120910023456, 3.529624036059307, 3.8812499073028848, 4.256873634825661, 2.965518747943701, 4.073755645692896, 4.490705406185626, 4.171613937438042, 3.2821840081186684, 3.1803219026694944, 3.4723138225731383, 3.4585382959934328, 4.073286880938312, 3.435603963557012, 3.78026910792015, 3.9382009958332893, 3.943440720076859, 3.41276557175034, 4.079470654033824, 3.2557746734133675, 4.175155267497793, 3.2819877055715434, 4.258569301026898, 4.053142668440933, 4.170764950140658, 3.7494832942957577, 3.4644206718180706, 3.370702024318614, 3.0864222937638828, 3.761200370037064, 3.6660163374730796, 3.872084595992688, 4.10266196750332, 4.144450350760842, 3.4874153655766076, 3.143698963105392, 3.474904572506206, 3.960752619763836, 3.164271271444774, 3.276274085873039, 2.383509601264765, 2.920346138172113, 3.806311787779265, 3.242514542609289, 3.0268772989102892, 3.362225246153683, 2.8462643928470874, 3.482303186358531, 3.1269521712957946, 3.668300222862061, 3.6217992479804675, 3.7815251812586377, 3.7502422371319164, 3.593940979154029, 3.520839459852607, 3.5766423833555487, 3.5376557410542837, 2.888568350581855, 3.0202533653501753, 3.432668753582649, 3.1558242117716864, 2.9496127878713083, 3.603203058092098, 3.9010328179224074, 3.4786861491683845, 3.179467280659809, 3.669853833450187, 3.569722945654092, 3.217267692394958, 3.7553732024942312, 2.7270383149552058, 3.556517129497778, 3.031985000788246, 3.65027158631799, 2.9357755456471266, 3.8563287311588477, 3.8120655038396105, 3.143439816337308, 3.617320006225907, 3.7448840128285252, 4.2189802644653875, 2.682731793003672, 4.058860561913779, 3.3152865414463766, 3.3576106593252266, 3.9216408692068696, 4.080140122046576, 3.9203783576220106, 3.6515081572433705, 3.577262271274156, 3.241364938856304, 3.6212965144242566, 3.5571094251320154, 3.4759503711024298, 3.3951199988140006, 2.8644408837138915, 3.452878808593985, 2.5936696410926023, 3.5902235569818233, 3.190603137808538, 4.1040195289006585, 3.9434267636865887, 4.0888400087768995, 3.30062245445105, 3.38737930614917, 3.4919468875222943, 3.519925569595836, 4.1896279884274525, 3.7982053073513353, 3.314566995584561, 3.5791113269479538, 3.822567625636969, 4.022408402203932, 3.3159819014379943, 3.4143430526951133, 3.6825977804593784, 3.5816526410821004, 2.703305301401678, 3.3602534023666815, 3.59376814334329, 3.7983249023279315, 3.4098394538668253, 3.436010722174799, 3.847479295559592, 4.347837721900999, 4.081361976936739, 3.8580644536697277, 3.49567332307424, 4.086565009584136, 3.943925790909664, 3.737520197742935, 3.144627318947267, 3.5494997302400746, 3.4508299052297797, 4.013120737490766, 3.674294985768168, 3.8003612490823464, 3.657272204681, 3.7433687600409113, 3.755083945317646, 3.7824613825138336, 3.331504179450351, 4.04716412158346, 3.7707742601855703, 3.012788687517055, 3.0353592091554242, 3.5807839921458346, 3.452389877203205, 3.351632549169738, 4.164412303066519, 4.117635807054961, 3.80394258735247, 3.450392557647213, 4.006632568832711, 3.750168908392956, 3.6320712307300544, 3.441427424149398, 3.6264215322960447, 2.901221395429466, 3.8783421365351574, 2.913664265974033, 3.6698519086543175, 3.174542518161821, 3.879746612514396, 3.6077564905339545, 4.185491766381381, 4.054089439139029, 3.927491660108542, 3.6222693485576722, 3.405510206482937, 3.357966837877908, 3.506302796385472, 3.6846586325319364, 3.8177018155942903, 3.514746400914085, 4.200644165831611, 3.21914969606755, 3.5266426951537917, 3.2721986579915847, 3.118002401443477, 3.57298161616247, 3.815884788012344, 4.130391286700663, 3.807184980152073, 3.6346947065878603, 2.717535072014702, 2.9190149192292316, 3.5903194738809283, 3.3215249986933992, 3.06773806029334, 3.9457873282690934, 3.060560091542173, 3.7873410530968705, 3.964781652848579, 3.700062530030938, 4.1432652059419945, 4.120472215263966, 3.2928456849427383, 3.993410088760445, 2.5497593347398517, 3.7100976635752323, 3.3346784930516944, 3.0895114428803776, 3.696537077359034, 3.3245442167224217, 3.0286017391853126, 4.214098323028967, 4.049137134448286, 3.6099508349840947, 3.7260407469210426, 3.8522945179723296, 3.692806190492512, 3.213558807867255, 3.0533400053862034, 3.411084601237632, 2.31126543067315, 3.721722708448625, 3.6122427693033186, 3.107769586118353, 3.049210609965347, 3.957548926302162, 4.107123856806199, 4.042117362703978, 3.9433741785939405, 3.728054619875482, 2.2603084569954417, 3.8039592940425337, 2.713443610431263, 3.301255128297343, 3.273140027454377, 3.739016067706412, 3.4364805853245657, 3.6976822693033053, 4.008714125413592, 3.592756729379036, 3.8283681814283166, 3.5162841309182435, 3.863637206392788, 4.260157715151876, 3.5266405090314823, 3.5313877351149636, 4.067899063866447, 3.6763833775478107, 4.0231634149977555, 3.9766342794288176, 4.0461111174135445, 4.634468163396919, 4.358568596088335, 3.69747133272511, 3.9534698027310906, 3.363031608423994, 3.5421914009040654, 3.9593706851336092, 3.723842087267552, 4.0798075402962555, 3.660239021090918, 3.686396897141599, 2.892829017784867, 3.718588791994781, 3.4969258184054146, 3.9130936170705177, 3.897633411555823, 3.1146989335575705, 3.3658814983390863, 4.115997995811996, 3.8569251516779253, 3.800480741978051, 3.952249498058356, 3.5650954558136676, 4.1943294081458244, 4.226015915201621, 4.038413323214231, 4.472045859335314, 4.300324834934482, 3.855955787929279, 4.0567302781589145, 3.7825214912170217, 3.6129103863568064, 3.8471826642079696, 3.3487556471215627, 3.177867268716135, 3.520098500599686, 3.7938763255201455, 3.5658068076436495, 3.2349817168393713, 3.5453591275498626, 3.9937103835685783, 3.121546806020034, 3.627584221261822, 3.9419693868125707, 3.1572606358506534, 3.79832378953399, 3.404994323039294, 3.187363859665374, 3.8023446674266146, 4.182191441284844, 2.7108406069799016, 3.6821401223276253, 3.39680749585547, 3.6370210827181264, 2.7803910917066554, 3.6214211878280755, 3.4579552812250482, 3.5134191038510596, 2.1086790304364316, 3.091117140749373, 3.7561607777913797, 3.7491067190336977, 3.228564940443145, 3.2614410724241005, 2.8756137186231565, 3.636378005152737, 3.668999573529775, 2.466355040647385, 2.9745628106447484, 3.4877742979717317, 2.8142584892630906, 3.6667952779791384, 3.9535287284708285, 3.7735926600143896, 2.971634111051094, 2.143214420438853, 3.3433488544740775, 3.1553762348965235, 3.226615732126146, 2.1934737771698734, 1.1681640320016173, 2.7901724058693707, 3.386321491247834, 2.8136368248573858, 3.630091858359917, 2.5706159742372066, 1.6407649323792985, 1.490480735699587, 4.155075217876634, 4.061847433859485, 4.518504312669401, 4.713880954000918, 3.7678578517614896, 4.660374689518367, 4.135561224876756, 4.162426157201182, 4.590922956943728, 4.459264968859048, 4.410404823159976, 4.192665017374088, 4.88160232614785, 4.736739980805158, 4.278660347565932, 3.715846897727819, 3.200829445814408, 2.14228127457731, 3.2819292817387944, 3.1237331944526776, 2.679039532920766, 3.194856180843427, 3.4342624011468716, 2.7487020602245265, 3.1253656641752534, 2.8178752901825654, 2.862260743948512, 3.6414764289406403, 4.43903167527017, 3.7413713509158777, 3.1177992211762136, 5, 4.535024352017638, 4.3733646044827115, 2.8826963183677448, 4.765749358476926, 3.2650534571922383, 5, 3.7920969678843317, 4.326235810943886, 4.769310148969646, 4.632974981770844, 3.837597593297892, 4.561614886140732, 4.801010891756628, 4.191619063200028, 4.026188717643144, 4.597751414425228, 4.671499498376019, 3.5000560165439847, 4.4609298290341295, 4.617609327362676, 3.688584931347368, 4.695422571574146, 4.6756517591912905, 4.329516468722772, 2.5196400773287864, 3.145030966943721, 2.764912096644914, 3.8254391060361623, 2.607185539427109, 3.2944507630474518, 3.1399956357152297, 3.1162835864007623, 3.330090522858562, 3.070008533596388, 2.7720619609479997, 1.771262395142268, 3.7868450923513564, 3.0919177269969786, 3.2751850077017286, 2.6724548730845537, 3.132478462276033, 4.203822072273159, 4.387221110789901, 3.7693794090417883, 3.610645546309499, 3.6885939651216746, 4.170280374334515, 3.3455071661466764, 3.9429834438119262, 3.7562905967100457, 4.030971825168982, 3.9083298476979627, 3.86428795168865, 4.30146343649639, 3.914742271514647, 3.5551881529361506, 4.253406654054225, 3.05580321878522, 4.068113698289847, 3.3702571332679874, 4.114546606794547, 3.6430461992288308, 4.134784373452337, 4.170477480066852, 2.9239533136345193, 3.4943869427948284, 4.068932325489238, 3.9185791266588748, 3.249097951633073, 3.58276310616734, 3.93456010952627, 3.1108238664525523, 3.257091996090916, 3.8875321985818276, 3.212815568027689, 3.9122003640162957, 3.966923167962444, 3.479918305705917, 4.2938668687998875, 2.265757034116245, 3.1470051328754423, 2.8419858171999057, 3.7405105788401416, 3.0442580553958396, 4.34166340697211, 3.004039405275, 4.04794869282526, 4.000756797847888, 4.449819224420632, 4.150265858671586, 4.089763374315792, 4.474896523063023, 4.362201562754541, 4.526836074867005, 4.2752810952622164, 4.456457237594657, 4.471732103543927, 4.332440460562443, 4.467395504043537, 4.607018707324517, 3.8743584273132963, 4.462717904745688, 4.185555873951298, 4.270497166709452, 3.7579806276074663, 4.344232319297762, 3.848874949053462, 1.7887856748239896, 3.880069272585644, 4.17320359407175, 3.115109597073913, 3.1240410554076243, 3.828271215045352, 2.9657011734680245, 4.067165314739141, 3.219430103492762, 2.905307478384407, 3.4928042972542093, 4.650674596337464, 3.711823890745285, 4.438113950055123, 2.999141918364755, 3.201466171989746, 2.906707732212048, 1.1324981442027013, 3.5367296945421685, 2.3736248370720796, 3.1898929521898016, 3.670833737004769, 3.5899516881205837, 2.8458116702962055, 3.0764126582943727, 3.08673248280414, 2.6741415864224933, 3.5210789921090337, 3.580816570641812, 2.5740933540759876, 3.297069448595663, 3.8597171252594453, 3.3039894442966196, 3.2943043886797314, 3.792718585053369, 3.4844801308822078, 3.342212492698382, 3.2435491171233237, 2.0848449114632652, 3.4326331788310958, 3.7395377627294772, 3.5788724785556463, 3.395003393385097, 2.761820803566703, 3.429578024879079, 4.011538927297366, 3.7358096010162822, 3.4296577196615146, 2.97158435208667, 3.4034004001110287, 2.757205071016589, 2.806387266931076, 2.6195404315796087, 4.247523666208089, 2.5431552336345495, 3.272901715251418, 3.589805082902357, 3.382919371635929, 3.8456777489267107, 3.2102748461479127, 3.205929345828541, 3.6887095433665045, 3.8170306524217144, 3.130534812541416, 4.814183663123354, 4.659100228894066, 4.224168997619628, 3.3311372637442216, 3.6130472869735852, 2.777007970763146, 3.762376364785672, 3.0686214478138436, 3.167173556522681, 3.041053694894787, 3.142663941184042, 3.4224368137315233, 3.4037373033759604, 3.084509972845376, 3.0853617925397, 3.0749905570537157, 3.485398624172209, 3.365670894300967, 2.9562427667939724, 3.0739922474203834, 3.257489408928566, 2.5360032391420804, 3.318296617289686, 3.288858790672514, 2.5852559925497474, 3.2636799292266985, 3.361811036369286, 3.4424402122642466, 3.3687869667835657, 2.655012270576252, 3.182713445057344, 3.237551271181029, 3.296454704419418, 3.521109927744549, 3.2887892437064132, 3.1659186049347654, 3.3724968811236122, 3.4408184471119614, 3.74672444234831, 3.1144256234458108, 3.9072259726636904, 3.3031877863668435, 3.550181676480212, 3.760166403947389, 3.2244099451426056, 3.5947781682977453, 3.930434466384857, 3.2746517184521045, 3.500891299744908, 3.566668785650023, 3.7745165325632954, 3.7315711256232866, 3.6100384237379504, 3.6191899886281567, 3.3018765681321325, 3.579795360728399, 3.444651566441428, 3.2094591673091792, 3.8262016159034458, 3.4314117267544213, 3.2916981938524086, 3.331011526865801, 3.6781769942058054, 3.664928553587742, 3.8194044165576, 3.749580538359588, 3.9603600548682603, 3.7061307667395558, 3.7519429259623345, 3.732232749810247, 3.682470692438626, 3.807319755384908, 3.5978428782640943, 3.634758539785501, 3.661136353545995, 4.0315988814879775, 3.918056566839581, 3.3221648540884, 3.4320676416694202, 3.7868386165460817, 3.8123150604709917, 4.057702124086575, 3.706639901573622, 3.7819717111063733, 4.0847475893619025, 3.8146306671869317, 3.768672449283542, 3.7469330889931234, 3.758095555192215, 3.802016991642711, 3.6682605121065857, 3.974773544464293, 3.84128240155523, 3.796374498638821, 3.613889127481684, 3.8186741033847484, 3.6248865904949708, 3.7697301787975808, 3.805134474447828, 4.003472643105535, 3.603136783288393, 3.6427555833168705, 3.8672289803323947, 3.544838185511286, 3.8928072266961995, 3.8972941831132144, 3.0834590224008673, 3.7280895892829102, 3.690070456843758, 3.596477574174178, 3.7846560214625846, 3.837157161491661, 4.014660699513411, 3.8207442609623143, 3.249528799930325, 4.410713104482995, 4.5375984876889826, 4.711387727526535, 4.338725664596708, 4.753054335043693, 4.445146718876564, 4.4812489276727625, 4.256045833503777, 2.813069281980923, 1.386660035582589, 3.7137099995997884, 3.155454209051164, 3.555468806710417, 2.449849182556634, 2.8954039961633264, 2.622588997205526, 1.806210383864499, 3.0510389975395915, 2.8942163078687324, 1.8972701996029357, 2.3443950920984, 2.658734325799596, 1.401005332284274, 2.865464397185146, 1.91945090367303, 2.487639774214603, 1, 1, 2.7616186898347816, 2.4260751325279375, 1.9269419271968848, 2.991114348071187, 1.8104342536120785, 2.8912957259592176, 2.355986804506096, 2.6071276932465004, 3.4344864141544145, 2.6751485514901523, 4.066296151298145, 3.767601900854691, 4.191328861834674, 4.053141144792618, 4.101012345579838, 4.2147036956267305, 3.71020733494167, 4.409773862817474, 3.578328166765957, 4.468856566730035, 2.3675154822407203, 3.207897609941415, 3.6325994153487606, 3.135680824900474, 2.5645282939808003, 2.9705977050019814, 3.145209954021726, 3.130983997337676, 1.9187384625540913, 2.7028712820189336, 2.8993270034047387, 3.2052826520524933, 1.3579635098236187, 2.635333276320198, 2.692560651859193, 1.498522300701508, 2.6468769006497666, 2.967119354857408, 1.9069981294740201, 2.1774811890671164, 3.151531457332156, 3.009289178293125, 3.134897259009892, 1.6441591631601098, 1.9183940560849437, 1.4542863588094541, 2.8449866684034335, 2.837467041665229, 2.2246371020313025, 1.7494280739376316, 2.7428165598499885, 1, 1.9877503809087118, 2.8655900688244103, 3.0450822857377418, 2.8274370639501387, 1.5611788322717426, 2.677818727082832, 1.9944844429039543, 2.073754823292896, 2.841712520164833, 2.4960146683110023, 2.640357046533658, 2.2913933312194508, 2.5880185753077183, 1.1231350922037657, 3.039935065364059, 1.7111231865166912, 2.89598368323045, 2.2608299172711015, 2.2971810506138017, 2.164899845396467, 1.8760876250810976, 2.3688678009200146, 2.834264047932135, 1.5468763621582995, 2.3050986397529103, 2.5502597426262175, 2.866609751995722, 2.63078654781905, 2.832374259016999, 2.6739613708074232, 2.5177031132028564, 2.740745805748524, 3.2230920499563718, 3.087380050058717, 3.463838757074763, 3.2371532116544106, 3.100357959965098, 3.204027537260359, 2.743239651438417, 2.9454967530445173, 2.840102580879247, 2.481994085122706, 3.1676397509269836, 2.42198077864345, 3.8366655837440065, 3.1811124808505715, 2.9673105251683323, 1.9858706248569729, 1.1123376599374517, 3.4047843679437992, 2.1542826600294394, 2.658084926637563, 3.1383562907083493, 2.9567686056170084, 3.6320851723268905, 2.6872260274795403, 2.2887260490986714, 3.0543800257500697, 2.8362215585368227, 3.3423038442825908, 3.334151996561768, 2.652642097980114, 3.6119763370559608, 3.162501775415037, 3.4749474357999826, 3.833625085361792, 3.141324498329729, 3.885642272169147, 2.1128576899933367, 3.051173115196033, 3.30863741626332, 2.493554532440265, 3.9342598278398793, 4.490817670131227, 3.927119050792635, 4.28627551533785, 3.1958008503333986, 3.2813998224087704, 2.5045090866475346, 3.9281503581811323, 3.6444798112719634, 3.7164465475156336, 3.3545409025934436, 3.84916495778163, 3.6367492726511292, 2.800912588748072, 3.374796484830746, 3.3761871573567155, 3.0479334014358392, 3.569633519733137, 3.568256522765011, 3.5066121819603473, 3.894704193719589, 3.940355438738834, 3.4014787547437626, 3.0486226524840974, 3.8881052604290347, 3.8624663985830265, 3.8589974726270326, 4.319232208170205, 3.9530873270908007, 3.6291585478169175, 3.8708637344258605, 3.8113396283182563, 4.096053653260192, 3.3684194726916603, 4.007795531746297, 4.0900341857365845, 3.447255794303368, 4.0185348594793, 3.603632957487267, 3.067315144266332, 3.8642237034922924, 4.032688311352145, 3.231015960818672, 3.662097410044554, 3.848590346586466, 3.9254612563047746, 2.720426086792134, 3.4463387468826707, 3.647797762844769, 3.696119229360382, 3.068980420888794, 3.713620303781659, 4.097825434851526, 4.001598840498563, 3.9891596316857787, 3.77395681649377, 4.442681073299991, 4.0032242228719435, 4.136855754397269, 3.726729472854885, 4.419205955527515, 4.483159977076108, 3.957050978429441, 3.5893183807438627, 3.430797533154221, 2.859617235253152, 3.0459518602280804, 3.9318459368162975, 3.701067746601681, 3.9267368892652543, 3.477738636299885, 3.586699711567124, 2.635916486798169, 3.897147931074942, 2.6984696668218358, 2.8976063805566, 3.690871236879772, 3.456463205414542, 4.0256952237187775, 3.5109425675905634, 2.552685128531863, 2.613350468703575, 3.4792047218931046, 3.8793699439330185, 3.902313171637578, 2.9579288721128782, 3.740262847998762, 4.314221567730453, 3.5618951631912195, 3.2033087698942926, 2.506345407312585, 3.3728494641181386, 2.9784443249562633, 3.6260082257434565, 3.4181374427111564, 3.627779197663496, 2.9839327402325413, 2.514154492739059, 3.41287430116104, 2.79177465602467, 3.3879504048513436, 3.7363107593515283, 3.401835340944925, 3.5278795598097483, 3.9304910836847133, 3.321052942051076, 3.4293009492775797, 3.1645569501402835, 3.650814959425626, 3.7973394229733834, 2.9403913741472816, 3.534259970136465, 3.0450409258765925, 3.8759878160993373, 3.3406650834166944, 3.1137050379622835, 3.1486050087386297, 3.236222570582558, 3.6002641373027235, 3.606553669243822, 3.070031668867422, 2.473487800417301, 2.4330891544979325, 3.0991074206490046, 3.7759936395683407, 3.110565861469013, 3.428365904489017, 3.167328746839852, 3.430714474828206, 3.7356131478312755, 3.4709529355199518, 2.720758384268012, 3.252905104493896, 2.354308664184389, 2.9291155055928493, 3.3916634341368788, 3.803067060226793, 3.8387052072631027, 3.5558504830976987, 3.717043995166968, 3.1322718883448166, 3.4513378076404746, 3.6618263125184036, 3.770058063238207, 3.503964116482431, 4.291509330973111, 4.066646175044347, 3.3929950520555607, 3.795715516035835, 2.8887062977426554, 2.7813906360694514, 3.348658842049725, 3.379833679349657, 3.1965624948028317, 3.3729433441492502, 2.650094099780544, 3.895220931079785, 3.752465055626837, 3.5186249015230775, 3.4395812899549774, 3.8004265569912454, 3.256464579146003, 3.0528325923624595, 2.61416807015161, 3.3548465287934857, 3.511814533824466, 3.481238040249406, 3.7640784452901657, 2.605246187240182, 3.3575861612794284, 3.376558451061859, 2.6480884372511033, 2.783620135581282, 3.627935441013705, 3.997279118107767, 2.8120020549766696, 3.5830789456151093, 3.6668245151028453, 1.9641797125620224, 3.268149547940382, 3.330933910138123, 3.976432842338037, 2.653741276133313, 4.113007316443454, 3.646845891016227, 3.5727037287195764, 2.4306448489725208, 3.44618064449293, 2.9967340591717817, 3.325461933591859, 2.958582888140318, 3.05236315762557, 3.726786907202533, 3.671923322611009, 3.4734311374402265, 3.5545378275909947, 3.685429629917817, 3.3413943929083474, 4.679572104194619, 4.578843515107707, 4.665790467582233, 4.693276880990197, 4.638712455517162, 3.0116216703660905, 3.658133769124078, 3.120846322729085, 3.0576690016662527, 2.747789812964303, 3.3259742126824783, 3.2396995681182927, 4.075426633971528, 3.9261282326283156, 4.396086889686123, 3.7570345445316926, 4.442535960421828, 4.286717350322623, 4.356705199877635, 3.86098045669337, 4.416423555379547, 4.590433806837227, 3.451530112148628, 4.568958773147004, 4.632126932946801, 4.180716162490331, 4.559803650016708, 3.998336449620547, 4.3535534565028895, 2.2403304518007574, 4.078481624266498, 3.83671241123533, 3.7356524257902355, 3.7547056148567406, 3.1082504223145735, 3.8221599623331626, 4.599911883594785, 3.8798936938778343, 2.877939828556629, 2.7695589446973354, 1.9988696614513257, 2.4955682603465004, 2.635770274043177, 2.2227619844970583, 3.2479718473918853, 3.0446245881709024, 2.104986225250075, 3.049268230705472, 2.830403970666259, 2.9911265748012696, 2.5046568416809802, 1, 2.504861188537094, 2.206576465961251, 2.9144799560558825, 3.289025490220916, 1.87390002732984, 2.730740124219013, 3.077748307274296, 3.940526165574569, 4.301498591978247, 4.124517715773696, 4.021886733462709, 3.94718615858623, 2.5917781592292695, 3.9994870010182275, 3.9534208589403455, 4.12482755806787, 4.325654595668208, 4.050214348492204, 3.9724179474094794, 3.9681059638021488, 4.036018680884057, 4.230378095038063, 3.596861692112418, 4.060847180062661, 3.8312711521605216, 3.990341615230701, 3.933434635468773, 3.4424750899545042, 3.511142085551255, 3.5046349140226924, 3.469721150568938, 3.480385038946005, 3.384761564332549, 3.453784556658268, 3.135709236354483, 3.95595106849265, 3.636686143393439, 3.498770177213125, 3.475910446806282, 3.366040797528046, 3.6688941024505937, 3.970386654618706, 3.581408697013382, 3.5611687029788004, 4.2311156072796825, 4.132090211093137, 4.122701803136156, 3.5971814482905295, 3.2667900982523808, 3.4101070846249804, 4.741062733276416, 3.5095542055090045, 3.359330212003162, 3.9082393897273042, 3.829653352485452, 3.5374850006024787, 3.433571396415035, 3.9049280347428628, 4.157229503110691, 3.9067921561674535, 3.7198519843529887, 3.7945098773820183, 4.060293138631717, 3.4900177341149825, 3.366008376242773, 3.9363692159897345, 3.4470755437783622, 3.3480607279109638, 3.694040889451979, 3.748078002070509, 3.8741015695366663, 4.43344778143872, 4.428090136630851, 4.511534720772516, 3.7780459286110477, 4.719757081512559, 4.461447923059988, 4.28652205049162, 3.762143577887203, 4.293520943247054, 4.386867616819887, 3.2562381223973933, 3.7046213542046833, 4.42583932169, 4.028120720461897, 3.9063709624881784, 4.258439532508895, 4.335903052249839, 3.7195294881537126, 4.40441514764541, 4.102657269512199, 4.245617862930733, 3.9599335071870754, 4.18361664422459, 3.741395666723938, 4.4487104654967276, 3.7573111931626024, 3.6506322957099866, 3.5021706120529914, 3.352695947994248, 3.115540808548067, 3.336961147071728, 3.8493520112064923, 4.146085450046328, 4.241519633057924, 4.070463698928513, 4.283650738845292, 3.701111257533538, 3.8380799383851203, 3.482885370065922, 4.165338828452401, 4.00015380959905, 3.7861125433137346, 4.003178741776538, 4.313672874628008, 3.099583030272722, 3.5649043690114213, 3.715302890940545, 3.8303587991877133, 4.3557643549779055, 4.3303541521517275, 3.6526560568830013, 3.167174924392152, 3.682767534878752, 1.8381985071163782, 3.982653176574635, 3.762251929646708, 3.411971371441479, 2.847319925236086, 3.912473590034465, 3.2956348209460007, 4.5869439609788705, 4.4354985356979375, 4.460593913484573, 4.127771053718421, 4.20841067189872, 4.204114708519383, 4.096991715831823, 3.24821441762154, 3.931023600372174, 2.487629157763288, 3.7730694940714287, 2.9154793354175643, 3.0714803424848496, 3.381102601241617, 4.0416759121587305, 3.5248243398369588, 3.2629339799657897, 3.501850448278117, 3.7202688717613337, 3.9171123006801394, 3.277166305594998, 2.7760254424406847, 3.275567236813709, 3.6140923368816114, 3.7427982925057104, 4.133279033049075, 4.015666565674976, 3.8848114017894733, 3.570624324272688, 3.655181886608066, 3.3559156712252496, 3.8698321997366345, 3.2094492041214435, 2.7434519723259196, 3.5673733120746296, 3.1040862473069333, 3.362830869945885, 3.1337151199442497, 3.332421781660965, 3.2799618410278972, 3.420873677697394, 3.5737690766827614, 3.2713380183232523, 3.5993592750302135, 2.907904955644624, 2.4500105701873736, 3.8369756221013827, 4.715369173794166, 4.662998484116535, 4.099255900218866, 4.558780991600132, 4.630252988276793, 4.546594596502663, 4.504190139271001, 4.7338941416047335, 4.0600568457383694, 3.8873301096046675, 3.8632785370479494, 3.5966246344098827, 3.4001002516542553, 3.579099653195868, 3.796739911255425, 3.8361086245212, 3.9576633028744097, 4.000126642973526, 3.8676843566428323, 4.28463227189959, 3.7617626980174395, 4.320118422207961, 2.3072377069178973, 4.0851354165875895, 3.286518236615268, 3.5608512064232265, 3.841960116297627, 4.211505094883127, 3.1111403763241463, 3.783469266910397, 3.964579507315474, 3.867623295134979, 3.9503458467884904, 3.627635319233726, 3.838377046719808, 3.64738469457176, 3.7291364613627502, 3.6113628549825254, 3.9890354551813196, 3.5764933290007614, 3.694980302859882, 3.610711563260677, 3.9919534240007937, 4.188427684083491, 3.4967608175665035, 3.5464602168616017, 4.007197749078471, 3.9391946473902086, 2.5724483658004025, 3.8022492273041237, 4.013719387388713, 2.7283228202918828, 3.147324734104657, 3.5813527981332682, 3.8432689125344695, 2.7009118902703473, 3.9533248269267705, 3.220880976948841, 3.4140976764795083, 4.029129123919156, 3.860671414216244, 2.8937172609564206, 3.768602836606305, 2.853676479588089, 4.091733762405599, 3.092573071747094, 3.7838564603465783, 3.7972758298462486, 3.248476894165891, 3.056265055670375, 3.8011189683851914, 2.963624039850295, 3.701206716925311, 3.9887231518091344, 4.129422559015846, 3.4935402614322677, 4.31773023360752, 4.4060983560411175, 3.836048807875843, 2.403942464227157, 3.7535924820179165, 3.54886017497838, 2.7086385057057774, 3.9918628779218484, 3.721620654785069, 3.9555367056752644, 3.4779185455150103, 2.0930610537902448, 4.429137215379233, 3.586127096034419, 4.135478016437763, 4.094495709715357, 4.409941554317503, 3.0306703677058486, 3.706429641742764, 4.016861035531874, 3.9091239168226357, 3.743026420896167, 3.6353230511011794, 3.0988247015075134, 4.386333846290738, 4.005318791277119, 3.976216721873858, 3.163741511291269, 3.5826913275160517, 2.707451647802902, 3.109285739445064, 3.7063309284417896, 2.939496695776258, 4.236517180969968, 3.218263950859572, 3.455957842995649, 4.085261204352456, 3.5828870659351733, 2.9321473386623937, 3.2251589094439663, 3.8048985888066853, 2.837951341883243, 3.860969097400986, 3.3159500818288925, 3.8214470228259114, 3.80553586359335, 3.2374046554576816, 4.260883453982093, 3.4549319594224146, 3.1556686828384204, 2.6215493961009937, 4.095872108743595, 3.885747254527608, 3.5041314346014847, 3.438540512053536, 3.6107721199358855, 3.885548545139672, 3.3871704960633657, 3.1577574218168967, 4.244935317126534, 3.912474377191237, 3.2783413534647914, 2.721275467977123, 3.692048927661263, 3.284982566100536, 3.411528688036489, 3.451275289969372, 3.144638269439861, 3.9890221221533007, 3.90719806248462, 3.3323570841842884, 3.9703424835750383, 3.0174492184601083, 4.085939228074946, 2.8335533097638272, 3.7220411044670674, 2.892837449585219, 2.85647678757482, 3.3948481149921457, 4.1863701481063655, 3.5481729529113557, 3.7044683728972165, 2.578004855680219, 3.934023402960375, 3.6299869216116245, 3.5576158291781663, 2.3659984645060304, 3.9759995686283345, 3.688270647951959, 3.6504664135991147, 2.420238090400896, 3.851946477492117, 3.641839015030945, 3.2852227331167, 4.008325538032523, 4.088273717456491, 4.060923862738988, 4.8273913574984695, 4.350347545339069, 3.9437487393853417, 2.938992988287086, 3.914346699233177, 2.980901299900933, 3.807009949030945, 3.8965143672746287, 4.069534644321457, 4.3366210740756586, 3.768889523148775, 3.603664091895482, 3.956952259644772, 3.230357790226659, 3.8045405009831588, 3.656830366899977, 4.036886351874572, 4.02991639756568, 3.990687758881131, 3.959822602749918, 3.958013736889179, 4.571950332026184, 3.5457636563850463, 4.342561133938895, 4.207936401707667, 4.205745877516173, 3.5186946724015087, 3.753318546744373, 3.156032098411945, 4.225219694905826, 4.064567371934927, 3.369649573612093, 4.317325830584587, 3.1852652814835576, 2.7211856658674036, 4.4120860733478455, 2.91173307033196, 3.6501134111039533, 3.7562146518691835, 3.6558968385175667, 4.135951621007789, 3.728265794193721, 3.1780185965448133, 2.709573882343833, 4.091354564865693, 3.1745097761728998, 4.04318633995176, 4.292976832990855, 3.536897357759173, 3.880027246320562, 4.030422909065482, 3.828917329923076, 4.021276575169541, 2.9697098802719646, 4.203030028118657, 4.279647577962951, 4.196254152540758, 3.4838937361351494, 4.3461817095330595, 4.106327725699653, 3.7671059022797535, 4.27252683832928, 2.8138532486893766, 2.627375878901447, 3.307837911831776, 3.9236086709657845, 3.9509293349373524, 3.6116337101895972, 3.697135451144437, 3.968459926666403, 3.8856256431771463, 4.018528314477832, 3.5642540076705203, 3.7195628413752404, 4.090833207328415, 3.248834121274775, 4.228267244312255, 3.6036499212113298, 4.021299492885343, 2.749519560150683, 4.089125336221169, 3.5353722494724305, 4.067068449072947, 3.4090279685871594, 3.4811743147883707, 3.6068432737329226, 3.913975881879476, 3.523949555847684, 3.6847719567227912, 3.729807056117424, 3.188794127921791, 4.150326578747939, 3.5264469362910247, 3.7371736073279482, 3.363535333417209, 3.1166144071152897, 3.2466597114437805, 4.092477551349479, 3.995595316590932, 4.413181675214543, 3.77602496883547, 3.1276030949182414, 4.091520581420252, 4.048800841272204, 4.514315521211066, 4.524289583385847, 3.8084328588939673, 3.9155150196085375, 3.8753452315849257, 4.04070468974055, 4.235876624887173, 4.0839233115935, 4.0053003317191855, 3.6736828007569087, 4.364999485316308, 4.6425630881066615, 3.9583945837699117, 4.2002487435038125, 4.27504681793634, 3.819262947063264, 3.7251719287537366, 4.0740486072095665, 3.1721267050784028, 3.7757020191827224, 4.105811674766322, 4.0323848698203975, 3.9250443093646186, 4.337965847651608, 4.023975305062157, 3.222488970502897, 4.425275069809993, 3.909560113723764, 4.373157366079394, 3.864460508531327, 4.6959180594660666, 4.023318549894504, 4.195515522703348, 3.6056335913724133, 4.6180805111921295, 3.7769720790248753, 3.7523749614563666, 3.9096055139293844, 3.7109455424020052, 4.2913701573394, 4.661070489168515, 4.6830352063225975, 3.588237699803799, 4.1244607677143765, 4.702990379227317, 4.700671254502859, 3.391721055886513, 3.482888400235652, 3.2802514922223565, 3.579022449610425, 2.804822845345461, 3.6388533026440153, 3.3332015411489455, 3.41511352227604, 3.753794600422324, 3.227739643961497, 3.71705157193582, 3.7675131040829553, 2.452353701761461, 3.0631566059343047, 2.947977635984749, 3.3199583939582715, 3.1107413256527314, 2.8510898290871682, 4.169408577465069, 3.75950533977033, 2.2473304749314638, 3.9213456206163344, 2.001665571195023, 2.0565056431555884, 3.1945229689605177, 3.0179681748524163, 3.1860292122743736, 3.7450239284003444, 2.168046782712545, 2.2185799631339043, 2.8859425275801764, 3.300123745723439, 3.434735502532163, 2.314350739854036, 3.444431005959584, 2.435009205346857, 2.5291156656841354, 2.7525295056405357, 2.5029056637131504, 1.6831568285445995, 3.0390017271528724, 3.9540345319921633, 3.676225680014588, 2.0929254443564322, 2.8139335218607826, 3.8329358238488616, 2.7362262728673987, 3.4399754503972684, 2.952228327401131, 3.845144709096463, 2.33121395548146, 3.30281449811688, 3.3447183825724904, 3.338619035597128, 3.034251396578321, 3.120483312315705, 3.3894006669581564, 2.0405075009015037, 2.682561886647681, 3.272860713733987, 3.294457760680098, 2.3083069957733544, 3.322680618682089, 2.8629233855622, 3.8103247369905926, 3.1800897048818295, 2.54487972249188, 3.1495806037129976, 2.7862372815557253, 3.1274712616738936, 3.0786839391352485, 3.1209033248578346, 3.18322374408204, 3.399188338354904, 2.7530724889626046, 3.1856957999947935, 1, 2.742683113150216, 2.3614237178634747, 2.5394966057475163, 2.587858511701609, 2.870360101360512, 2.8218295111059826, 2.096959754256237, 3.151113793471107, 2.966129968852639, 3.0623781286693057, 3.0262602556419376, 2.6126111250600976, 2.5764899262316563, 2.6223479266129264, 1.5030722638635765, 3.070553442534372, 3.0679045191466705, 2.563531712405684, 2.5769795120979277, 3.1142978695914842, 2.2509694078005165, 3.664387019249139, 2.024233067169645, 3.208400675210941, 2.5590153099009054, 2.8598591351964795, 2.5753743131310736, 2.550938356039571, 2.8276351342028314, 3.173562390932214, 2.9912690330173217, 2.4526162301938266, 3.618074802674029, 3.5301041524983807, 2.8963778828429128, 2.984158174339883, 3.030873387270303, 2.968758627911441, 1.3858233521830483, 3.4615840288567847, 3.3560013692280126, 1.9157795102942055, 2.0872018805911936, 2.519455936814767, 3.2309268480212108, 3.053103422224667, 2.616877864787509, 3.0061240491649786, 2.974842378474593, 4.458416351294899, 4.430204801371004, 4.559487287581886, 4.696081998028731, 3.696697204766625, 3.7991907447678606, 3.7103649520726028, 3.6177131648607133, 3.8816167051162807, 3.949949462793184, 3.6655302936387235, 4.126228505435423, 3.4169944117065087, 4.273122799263127, 3.442399971999766, 2.7047764911209526, 3.7365615819352485, 3.210855025903856, 3.7112137158516396, 4.2891186846571925, 3.281228276868886, 3.9989655362150365, 4.209279960008504, 3.319668048759284, 3.7573523052661857, 3.4597103523089983, 3.5115340978860443, 3.7333823096900582, 3.134927009937998, 3.233853734021946, 4.10340024210222, 3.9000449982000442, 3.8691870543484215, 4.028840470740524, 3.6172817472446552, 3.5020783403459124, 3.8884950836347416, 3.5603792421108613, 3.278210111107276, 3.522242448864161, 3.773621111639833, 3.5139849104102936, 3.6161335940104036, 3.9443370913429683, 4.010184041289272, 4.256405142948068, 3.558945869308091, 3.9181921772029695, 4.202116358439295, 4.2584126642687306, 3.895882956294826, 4.1730432603456595, 3.733351924811188, 3.810850649606035, 3.4841545707548476, 3.6662570751374375, 3.743557820797211, 3.802539592214449, 4.113073508595123, 3.767463369143664, 3.6602706642666227, 3.3150197869893185, 3.7180156818399586, 3.641503540731015, 3.7217407615707065, 3.1156861740378914, 3.7451732095163504, 3.160034189775964, 3.9504579353417117, 3.701978809848673, 4.026062860052172, 4.210891524850751, 4.108220723539744, 3.960327598137053, 4.401381775451283, 4.619654445172362, 4.083402975272795, 4.5236992674575, 4.169688931930245, 4.125946367836486, 4.179853591155519, 3.9634315437179835, 4.454448827244978, 3.683699058071845, 4.404867902431751, 3.9536364963141373, 4.276526537142344, 4.078157201563243, 4.595802087206071, 4.5923512089123415, 4.111856443725047, 3.616866430191986, 4.432112619115594, 3.3080244698142174, 3.6084400652162167, 3.7643787712621486, 3.556009326733823, 3.523078835957025, 4.161151147409525, 3.9663979707982406, 4.306128397398118, 3.508168009048483, 3.8175760056736223, 4.582833383472303, 4.722387666026074, 3.4293383394400405, 4.106844164444333, 3.618142104756483, 4.190607924324787, 4.125584174678612, 4.251974091470955, 4.769647039728922, 4.431199128823295, 4.303657891552316, 3.786076561026449, 3.753216423463613, 3.4410743675771664, 3.089385942620159, 3.7378437096519455, 3.6750256873935823, 4.249714778911955, 4.048695468806872, 4.004167720395101, 3.9004898578010985, 3.4811678395927177, 4.544835271089882, 3.703621156109264, 2.917755611860896, 3.6216745502833967, 2.9950500208946456, 3.2559352702359727, 3.928375502148413, 3.501680808351286, 3.8222852870749167, 3.677049595281897, 3.4129744289938073, 3.6974766716392304, 3.539873550745018, 3.5266112471324296, 3.705600976470069, 3.370548786255937, 3.442549356984615, 3.5703670590849534, 3.6491328920609325, 3.26248710037173, 3.7355159712276254, 4.0839232794550595, 3.6354376807141118, 3.9199704550522427, 4.150794275494576, 4.338282892531764, 4.2067300208682, 3.554709307405355, 3.948302026117509, 3.6432146161192893, 3.830094393713317, 4.146256486709145, 4.028533312069394, 4.390414071695721, 3.9066404042734852, 3.304030034248096, 4.031875119141451, 4.598257263692228, 3.7159467245934446, 4.370693721840649, 3.0706447843377864, 4.104013834643765, 3.7793550469717685, 4.22881600520285, 4.045642321388454, 4.232342733855842, 4.442035258634899, 3.6980620240535043, 3.894137506089543, 4.139606790624676, 3.5164293935909052, 3.8872339744911564, 3.8103044328836426, 3.9128158006086764, 4.071636328686683, 4.378937856838072, 3.8725466453163606, 4.217165724095122, 3.9881433427368287, 3.9407559107074936, 3.785582848151655, 3.4162128537205683, 3.8902711146648534, 3.74327015133731, 4.655992905527232, 3.1863525669675123, 4.010027346536507, 3.138626942470955, 2.7049633696654065, 2.2373803690887524, 3.524383701427965, 3.511053271822801, 3.440806428329573, 3.898434164699706, 3.7098933800057363, 3.926052229014916, 3.5764921668726615, 4.263064498950314, 4.344889632430048, 3.679087515647249, 3.088292830512813, 3.8623521150092315, 3.907682828029013, 3.759369166202747, 3.666865436241038, 3.710643166282069, 2.4642491671521807, 3.7946237402136345, 4.11231348844005, 3.9906621727760427, 4.197275700572845, 4.525535632064592, 4.433288584346506, 2.979149171621282, 3.072999121591823, 2.5713168765802443, 2.338199037881403, 3.1488048416927907, 2.610286720826878, 2.704435668161796, 3.068129436141138, 2.2406990851470594, 3.176890534413595, 2.512775024738379, 1.7936883323943646, 2.037440729102721, 2.2171222384886313, 2.108909186193671, 2.3907847538697036, 3.326083488201791, 2.9185978751646506, 2.4017982663503914, 2.433071906602703, 2.027279276799265, 3.5874597003096795, 2.848941938007126, 2.612764172484811, 2.438399300467466, 1.849507109388754, 2.974387169700205, 2.7240188052081513, 3.2835873610818584, 2.2870347370094866, 2.785688894077777, 4.686653637860507, 4.698267727469379, 4.579404605272456, 4.757272893689817, 4.6122494178328335, 4.649060990648551, 4.105136378430984, 3.775966896734076, 3.1053725407926547, 3.5502321620436597, 3.57053735006201, 3.8386216375194797, 3.0014030916850385, 2.0491270697634336, 3.068674947197813, 3.248859334718379, 3.1564457416964005, 3.479979306083686, 3.770727367642209, 3.698119537506182, 3.838568069961331, 2.947444663547275, 3.3504051268680524, 2.9437952553431006, 3.312947472665699, 3.0215047327268305, 2.705703833080828, 3.27333337754205, 3.576809980482726, 2.256439043118686, 3.5182953484386386, 3.0644637407104245, 3.5822348781004347, 3.7842475263569093, 3.1110325020005165, 2.885539949115386, 2.5390428782137944, 2.9055811775566918, 3.3587226119232447, 2.7341671301864188, 3.759154526759187, 2.527074442155133, 3.750353497815552, 4.1625438456046755, 3.148525987473364, 3.3140798925161032, 2.772402301898202, 2.647237810952643, 3.0860953159037825, 3.5892149981220047, 3.7965372736409755, 3.9531420198446368, 3.7032445343933182, 3.768002211458981, 3.3601751829439634, 3.5824313389720506, 4.228180723716319, 4.237102312035419, 4.598622838841494, 4.136716829896773, 3.296383386750297, 4.256785153640186, 4.746740495331687, 4.70422140842776, 4.570934993035434, 4.584670076125042, 3.2081573335528173, 4.059254114699942, 3.6043019781200734, 3.9074595164553303, 3.7132893224917134, 4.608760481741298, 3.8055012423129257, 3.7228526445213905, 3.6843656137486085, 3.8671421070701437, 3.9535235716245567, 4.462108740445981, 4.085716268467232, 4.269252302190373, 4.603183596154421, 3.4227205767292217, 3.979784670537572, 4.090282831072983, 3.7952636279949434, 3.9343213556222554, 3.4778960372648924, 3.7562957507298913, 4.043623367493459, 3.5849584771632697, 2.8146082178633134, 3.781472858960915, 3.572816993275738, 3.7146878398728425, 2.6465008952192237, 2.774911149073745, 3.3359611481485296, 3.848089077214828, 2.847032314658648, 2.6988932787423203, 3.8709063707720555, 4.241586711934309, 4.232478530292832, 4.237726738135049, 4.425771010675823, 4.786032968590571, 4.6787542065685574, 4.510307158567839, 4.55736175301097, 4.104744485840825, 4.135833587643983, 4.500211446095136, 4.535936499625667, 4.112971689069774, 4.272382265345404, 3.945678261448596, 4.091637122616242, 4.276241515408622, 3.8632075616949546, 4.328853263044824, 3.4990846063387817, 3.9991587741867995, 4.3769976362035905, 3.9708401399643174, 4.072967466524323, 4.344927567780832, 3.878390964011108, 4.090086307614517, 4.14703302807391, 4.131758779999022, 4.599276340199762, 4.383568953438989, 4.900633374020426, 4.26439287776746, 4.235404414702861, 3.460651283649562, 4.391567672144709, 4.327349625623468, 3.354702087028758, 4.884306058561784, 3.6518771190995967, 4.376601472252054, 4.238416562725351, 4.277054772891177, 2.9937289239128093, 3.6538970638101205, 2.857243175045857, 3.6201553956897885, 3.489263723435135, 3.3029076033722906, 3.1296806370580144, 4.1365740335041865, 3.881791161389073, 3.580690748808245, 4.536495834514681, 2.6140559139517054, 3.0577119244135322, 3.43595889601361, 3.132659562510881, 3.6418856182607326, 3.3412206590773756, 3.417833149483132, 2.8287888593606736, 4.151640624647393, 3.6825027775612558, 3.011658404329832, 3.0881571634361094, 3.41216280547555, 3.5923623603129715, 4.04054582387678, 4.021138133799058, 3.9210434839032566, 4.2865912430986, 2.1402375586994893, 4.237603900197166, 3.4257999089652267, 4.464584528431817, 2.6831195332854656, 3.3874390814475737, 3.2922970142136734, 4.077136243567572, 3.1390845664303044, 3.9868667574419185, 4.256562857346422, 4.312394326875672, 4.028650558823837, 3.5471514282895757, 4.633558748796328, 3.8334300206786023, 2.945111078428165, 3.7066637640810787, 3.8925494643516494, 3.605903070511305, 3.3225972300602646, 3.429555594821773, 3.88209042564387, 3.6021190299702472, 4.258737075564133, 4.23151229422021, 4.773403345446074, 4.476936595828383, 4.0115795841303985, 4.365732202067072, 4.3416488462372875, 3.8731972797168535, 4.302022338229541, 3.9681597833867, 4.101444116512497, 3.1858935227370777, 4.996093188333287, 4.3278783280644655, 4.26405261669352, 4.499189488794897, 4.814122786544708, 4.575580890182892, 4.668945991130127, 4.34042461402001, 4.012855840194807, 4.588105324270334, 4.397366604575244, 4.276569268765579, 4.257129640627964, 4.098722381011312, 3.219117496163581, 3.898871336477263, 3.005265309775788, 2.6443597173983333, 3.3882188930708157, 3.183205642359699, 3.928741375415564, 2.7240493082331083, 3.055863993494871, 3.611873162357435, 4.069340399181171, 2.427173629125154, 3.112654795287257, 4.135931485441093, 3.2426969002295283, 2.846687369550017, 4.04672495763369, 3.4882285393452293, 2.733245432079295, 3.9930624384650595, 3.690937538240358, 3.868722597434586, 4.335237471236599, 2.6009532670284496, 3.12849004333483, 2.639814491657798, 4.013004427633748, 4.276051143535942, 3.211204857845247, 3.726487480618356, 3.927030637431681, 3.628283190785076, 3.907596550752033, 4.162078346197347, 3.915803014285452, 2.9791021066849788, 3.094957447135877, 3.563209694949407, 3.0902810252718655, 3.0737533508546804, 3.421415874591193, 3.6684675245431433, 3.161038623183939, 3.160876856061337, 3.0285751870440234, 3.5439389716778713, 3.3235912380900023, 3.720456511405932, 3.98554519213978, 3.366491123787824, 3.126178375073541, 2.951458276894641, 3.4531329862506426, 3.3303222816340687, 3.174483724567929, 3.669839293688482, 2.5867544478158866, 3.7706446636870186, 3.577596473579279, 2.523228408431733, 3.0927163586716535, 2.91388664485197, 3.5208637227117343, 3.1789951587886573, 3.26612478553284, 4.301995097444032, 4.0714072020656475, 4.150990927122336, 3.7055985020868767, 3.7747693443627046, 3.814846031436097, 3.9901018913373227, 4.365408253974173, 4.084865156462477, 4.251417852020904, 4.289289644060692, 3.4810164166397373, 4.297261299456239, 4.392505748887762, 3.917466559172742, 4.341827599315409, 3.4190679610900165, 4.255741753376856, 3.4675550123423142, 4.114297649073696, 3.5632756781042967, 3.6103685333595763, 3.3476751122992985, 4.068997014887421, 3.5241713967213744, 3.2420378566179693, 4.195808099284407, 4.07482062820052, 2.5112965003096495, 3.915230395423077, 4.259072452844593, 3.4669298868416805, 3.5893204614853897, 3.830626559652421, 3.1663787653770745, 3.4114733728371425, 4.007053970292139, 2.8414068858202413, 3.00052298430683, 3.84833695826592, 3.52688597281249, 3.911284657893447, 3.3149352292686234, 3.492719623947638, 3.6952376152414717, 3.3027805730546045, 4.110349046938103, 3.4181237454976543, 3.7655292937032745, 3.6664239476879725, 3.356601952164548, 3.293748521155746, 2.8225099752429834, 3.145149462928951, 3.9010373120093145, 3.381129108151486, 3.4305163979778426, 3.433546385898559, 3.5975224506518275, 3.5720725127133934, 3.467373965710437, 3.661290433075984, 2.776695939282231, 3.7906924629732863, 3.206678832214408, 3.381023747613139, 3.4340823751638827, 3.8692266116839074, 2.2645360906522027, 3.94712067250805, 3.3420400845311495, 3.143010870419216, 2.756753484343869, 3.22499785271686, 3.934608896817133, 3.5032589184755203, 3.6194176241472893, 2.9371350649968924, 3.1679701423865745, 3.52631549680519, 3.8282728848497003, 3.488313945237783, 3.6310622593295436, 3.716036051304521, 3.7648815983190778, 3.7841337494975105, 3.1336644768418314, 3.600556564716747, 3.7045103819809824, 4.073035202178698, 3.4944842844158566, 3.4633603705893696, 4.012115598220234, 3.2799949835847673, 4.266494993553866, 3.582610658504793, 3.4447731826069696, 2.8990055905135743, 3.219864884214051, 3.72236838829813, 3.5680704232917897, 3.6575487347446054, 3.948072224858295, 3.3454016269186035, 3.089635694408794, 3.7085275621485474, 3.332662570792608, 3.5329062222269214, 3.673678526723604, 3.855744734471139, 3.5750463512279254, 3.0047994634557154, 2.4614067302284575, 3.7176585656669188, 3.760022977904569, 3.8563020330307927, 2.980068653247174, 3.8029780200198577, 3.7132249510047393, 3.475407546064633, 3.559813555443485, 2.9278464673377727, 3.6203876331244143, 3.0828406967512803, 3.618469660600287, 3.436688210227771, 3.6003170166767946, 3.718730487439106, 4.283392976861464, 4.484115781478353, 4.660071986247683, 4.187932362615084, 3.9944649907288152, 3.153026347026734, 3.4822736041518385, 2.566120366978102, 3.4756765096707727, 3.8240059291336697, 4.80322288895911, 4.202052051707958, 4.766465537291364, 3.9728140918253914, 3.2088049745416987, 4.478198492981165, 3.9104225065526337, 3.9356157217733676, 4.4170950499315165, 4.4732625330470634, 4.030060427988678, 4.129896634513088, 4.383300296977585, 3.9599532178474424, 3.754467489466469, 4.178361134545775, 4.193007843234327, 4.303371249157121, 3.9989852896893923, 4.038643614249881, 4.056393096520384, 4.134434041850089, 3.896079766561564, 4.097065863488122, 3.750008355769507, 3.728240242308706, 3.7391947636286225, 3.9447473930258807, 4.3911336745787155, 3.749044954960414, 4.2617430946407815, 3.596142499086306, 4.227138064756303, 4.504643421395421, 3.773700936432617, 4.627671661087826, 4.193688934762119, 4.05490760757382, 4.538437787045078, 3.639317478684632, 4.09209959760349, 4.154240527416009, 4.219100300269589, 3.2920377371308693, 4.157484349839176, 4.183805403423507, 4.193450127301874, 4.27322081083054, 4.111381873003103, 4.1968432794893005, 4.234624915658457, 4.52311571349167, 4.224590396605056, 3.874256683352225, 4.390954462627583, 4.291046929470057, 4.150867028164049, 3.7648889307074365, 4.2732879995011315, 3.9075270270427214, 4.371619372880287, 4.00031702212525, 4.053493280957828, 4.094685545702575, 4.238766013349271, 4.591479080947402, 3.4265440063033497, 3.6614686229138727, 4.2107572167899505, 3.9994563987489187, 4.206784625135007, 4.1289981335093575, 4.278375293601863, 3.812736341501502, 4.576541145943128, 3.9195187909038833, 3.7467985302699973, 4.246673599510008, 3.6621517587887475, 4.094490758978826, 4.5952110772499815, 3.9650416375414475, 4.372448988192138, 4.416197699566456, 4.152170458310318, 4.160880873434901, 3.2176850963432924, 4.083421693589597, 3.465130451393088, 4.815708681808104, 4.190654686848435, 4.27604166660698, 3.5727618432802526, 3.5422714965021407, 3.7474797129457, 3.9960312136696654, 4.437900444971854, 4.291320677075529, 4.331808593727732, 4.3919731222541625, 4.2579748051014725, 4.338603752998565, 3.8928713005112336, 3.38627483355775, 4.537244224264223, 4.273481331364857, 4.525828615440643, 3.953579381553718, 4.0548203330265125, 3.665680517853777, 3.5654327753302932, 3.823191915230917, 4.552881382501513, 2.307714897877325, 4.136430194913612, 3.4529542964008977, 3.7978113514143477, 3.7382955467797396, 3.265498313740333, 3.465271217845188, 3.2957992516782455, 3.875351553226231, 3.5009073627455245, 4.264533370561704, 3.610191642791631, 3.3419232599245237, 3.292764190257833, 2.7371258945383916, 3.070965431988283, 2.9851019903608003, 3.495647273383758, 3.6385366551877993, 2.864859205079016, 3.029200421068751, 3.181062867134479, 2.7761972642481014, 3.2496071312227706, 3.788688871575741, 3.352481936067316, 3.7434085197951985, 3.5708654364303816, 4.045939106908119, 3.7411322025405136, 3.4223357895354294, 3.8701083513506616, 3.1242784605108094, 3.26166510109508, 3.681259144899624, 3.8411620056712414, 2.685731049697846, 3.202427359669175, 3.468769600290389, 3.3261909883330762, 2.826573861962469, 2.9594115318608814, 3.6936477617488483, 3.7200818584761226, 3.616563380964549, 2.8044422249335543, 3.7908995732437383, 3.575243570224311, 3.570128428332257, 3.3265828245560827, 3.7943969404155404, 2.5367115429628475, 2.6633647994363567, 3.351955199235144, 3.515496718592866, 3.418530407528484, 3.6049807253746584, 3.6067741847425077, 3.1130914475770406, 3.5754778366304074, 3.6104899727737374, 4.234162859504366, 4.085101143249113, 4.082254459124893, 3.5070559980619183, 2.9159780138134543, 4.070493129352648, 4.197889701909828, 2.9298936964261904, 2.570732822407079, 2.4969163167067583, 2.7778988238543945, 4.25394156434485, 3.202844916421429, 3.23331403164906, 4.722403767607045, 3.679321648603023, 3.8493034837003743, 3.718736892869254, 3.3190187859320415, 3.6081114650020094, 2.963166535083527, 2.9167024567486166, 4.077903603307184, 3.9402358493440444, 3.699519865695085, 3.4256180393831057, 4.406272766497062, 4.484133405529554, 4.507342984349815, 4.55370391582589, 4.6223037902346835, 4.619575821125522, 4.420144347179152, 3.9515955828981197, 4.011242302637788, 3.375749793022117, 4.233427759906978, 4.218173702219429, 3.7862055362220377, 4.121076572074792, 4.7038060761226355, 4.840606971665168, 4.55969096687414, 4.472452553509522, 4.296517111646607, 4.630718238159101, 4.643115382452689, 4.284164440098332, 3.3798152358683766, 3.360908092967748, 3.3718096661031365, 3.838548131172619, 3.3694419821245, 3.9050322899255443, 3.915141913414372, 4.077132792675115, 3.3699707220439676, 3.243165945227222, 3.210814511224973, 3.4810425530961777, 3.147954867025858, 4.034920477346653, 3.7805825018856543, 3.9002765527113277, 3.6679674953333987, 3.6981777503700553, 3.5877179184916654, 3.8682478251252825, 4.135215067763449, 3.6944260140470395, 3.6455147361647717, 4.175634660065483, 3.4443884250963848, 3.742585609247244, 4.266106315556862, 3.07659905740885, 3.718718536802471, 3.18825048732863, 3.2599344868549918, 4.025832599885358, 4.291574966833462, 3.329418550403471, 3.229755247471461, 3.321070335685808, 3.523384157934578, 2.740128571510469, 3.3470054081474268, 3.733759073477049, 3.3368273013190004, 2.63056277872598, 3.896990326334687, 3.4157691040315137, 3.2557295017502046, 3.64427457085928, 3.579373014670649, 3.72622247985936, 3.589771965403251, 3.3311825544891924, 3.346579159511399, 3.6167993602785256, 3.637142944445812, 3.4587573923913792, 3.164330587283771, 3.148346752515758, 3.5922658523142013, 3.1450441296957345, 2.033757094958026, 2.117208269587524, 2.5016377251006925, 2.9792827645385325, 1.9778531358931342, 2.813708431641251, 1.7262631733440201, 1.9265489371676094, 4.379425736847584, 4.435625147173917, 5, 5, 4.989751700560132, 4.74452953356872, 4.87160490037948, 4.745866599894749, 4.1834073352408625, 4.891412410840006, 3.098606730948262, 3.114928479930066, 4.850873379865153, 4.265354013956619, 4.216741872608075, 4.164271475810542, 3.0784284278191505, 4.395984473781263, 4.040000777737579, 3.4752688982872297, 4.41337005601336, 3.371466094651625, 4.905576479829689, 4.040498011268377, 4.567796288570489, 3.886471126602612, 4.013417511773573, 3.95614285389113, 3.665452651542942, 4.093338069246984, 3.577590219499053, 4.291067456104974, 3.9477557572315076, 3.543461588720432, 3.9526310592709466, 4.114394452152043, 3.66539896706509, 4.130403314677108, 3.771199482399987, 3.5763891930038847, 4.269177795114773, 3.9976239829157656, 4.426717783584355, 4.576327840937685, 3.3041662904643943, 4.370037384647523, 3.3474595799170017, 3.5686698617852004, 3.577415543858323, 3.569253742012029, 4.001075715431851, 3.9149843109286473, 3.0049664054667353, 2.5999810662057614, 3.6598852458081117, 4.035426048042128, 3.4081214614890287, 3.599101948937302, 3.81685858479209, 3.155853867620871, 3.7089556917354085, 3.4105709814674996, 3.084069672142393, 3.020129472887967, 4.155287928453434, 4.705945352030584, 4.303158359703671, 4.135897334694256, 4.405173785257261, 4.371954832379054, 4.60813286043578, 4.525445693653034, 4.558844989620633, 4.326127431712425, 3.85540319211905, 3.410819795691729, 3.3384318328906613, 3.5473455639673035, 3.670459550192585, 3.7837201419953135, 3.038769565661546, 2.9348818259762446, 3.1506981171441573, 3.2913664720863323, 4.322040258771486, 4.53907525170439, 3.7966702819865734, 3.3954267244852487, 2.974338584483193, 3.4049686507526005, 3.513755130509498, 3.6091818597166245, 3.34044759026672, 3.560920403695254, 3.445448430482469, 3.861487964164284, 3.942938458847993, 3.921407789291274, 4.318783038949069, 4.382281931388451, 4.068473983661693, 4.438847254011079, 4.214238591291899, 4.326482119690644, 4.241244033845124, 4.256852912415819, 4.276178853872249, 4.099545386474421, 3.8475974028060866, 4.002672579075912, 4.0788825813972, 4.134074186890407, 3.878960243358767, 4.192947185646493, 4.001949679923444, 3.287716889922962, 3.9136672394446497, 3.881986715720716, 4.688864497251802, 4.2137788833362615, 3.693958533048071, 4.612367461054977, 4.3666427461145725, 4.367863913538938, 3.9208755355164397, 4.4404094056406676, 4.197605098232559, 3.691558224407421, 4.034753267178121, 3.9869748471943884, 4.567363444615319, 4.203344224247824, 4.394125297421367, 3.7426564721929676, 3.8938254821335203, 3.6371716199865256, 3.928715333094427, 3.889997201523542, 3.7911731505173116, 4.012615536246125, 3.3727940172545035, 4.293439156240797, 4.427235512626428, 4.4812766772234855, 3.458671096216187, 4.441050614403773, 4.3760016114457585, 4.290890401520111, 2.7606269488854833, 3.5918451805497753, 2.8221669536414034, 3.1645250741258315, 3.132570389256763, 3.7244761337669114, 2.996934446826667, 3.9641343959350577, 3.72811344086753, 4.190266233666043, 3.991774210002237, 3.929218264652654, 3.9399993908658337, 4.069133412402553, 3.919595433828871, 4.246909675680476, 4.09202049094506, 3.932623389215223, 3.7042103209915256, 4.16231792919139, 3.9952516934750757, 3.470813856066282, 3.964034543925311, 3.8752434669264684, 3.521614072024487, 4.257219194266754, 4.390322186821531, 2.9601150299439762, 2.702423256471809, 3.3519478372681526, 4.50278455176473, 4.155923214349516, 4.242483447031554, 3.816808556217102, 3.8249815964706837, 4.195752547774838, 3.182282095163952, 2.9954577600150385, 3.548131152613606, 4.003305411196193, 4.173981056710012, 3.2184281651199815, 3.595889945176681, 3.7136502189123566, 4.125636637733426, 3.5392621998835962, 3.7900522090441857, 3.2150981085569166, 3.9926944878245494, 3.4389203658452208, 3.153192241096704, 3.2440632693512446, 3.9140947877386245, 3.0526765559747377, 2.986677645323102, 3.754499143180868, 3.5653814094957648, 3.763208032369559, 3.1875690547125397, 3.376894254517116, 3.9833032769484307, 3.21660268199367, 3.882149634442235, 4.063718233592323, 3.295485328905113, 3.828379173451909, 3.8956359511916996, 3.3417556214764352, 3.315166279230531, 4.211752669687368, 3.2637018924806283, 3.1807871868049724, 4.5809843582295535, 3.4713901885571743, 3.2794992329933033, 3.500696945964434, 3.43125488778985, 3.357934826560326, 3.322326501527763, 3.3901795026672934, 2.2729708212401603, 2.9891900859054172, 3.5120358730676102, 3.266813164109519, 2.9732429206924738, 3.5533127210543887, 3.0569643359795475, 2.894436579091249, 3.063421678684478, 2.9147972121397547, 3.3589047246662154, 3.1089938916262927, 2.895998202967889, 3.444194625788967, 2.6313819362014805, 3.4145867736417936, 2.4346051183504627, 3.4276710503729784, 2.6647595027481294, 3.4672680291922315, 3.41971863407825, 3.0037560425697123, 2.680137840407659, 2.7454942428582343, 2.8975447966626304, 3.2555111172815896, 1.2546652433403218, 2.8232547539796893, 3.290819089301499, 3.6522300210302285, 2.3266093986087313, 3.1642956059272227, 3.326059467507768, 4.06955327716698, 3.5911419193254384, 3.9949203335107835, 3.9632037850022432, 3.8825298356648745, 3.989310881204066, 3.897665708180337, 3.906505180141664, 4.001349499718465, 4.209575432669702, 3.620777936470699, 3.6187952491067357, 3.8326756080265465, 3.4099494505010655, 3.5126614231321147, 3.308738425461427, 3.8297249660480563, 3.533118203117685, 4.169935026922812, 3.460920864318364, 3.0412896499521715, 3.0290227403927013, 4.005117750259097, 3.6372821706154754, 3.7304816520653943, 3.3225044429537034, 4.1790546581028645, 3.063216777498884, 3.421918128481032, 3.3560468462199737, 3.3024921195465273, 3.8944578054098016, 3.7683266192580733, 3.497870857643095, 3.810234298431225, 2.583892703899229, 1.3509322135430577, 3.12083952992382, 3.1845396812754148, 3.526029813041919, 3.912599283527587, 4.541825474001746, 4.051269189566492, 4.428528425295086, 3.9813607600460625, 4.286943687498391, 4.174149745962855, 2.553394120272951, 3.3164273353592546, 3.175872340846339, 3.1056764943216986, 3.191372244068379, 2.3321894829027863, 2.1702786571515302, 2.2244946137241732, 3.3816486017435663, 2.7085138799382786, 4.573674817909699, 4.530400288532332, 4.095240232811663, 3.3505319511598426, 3.19897602968127, 3.0682368807861082, 3.561653391254526, 3.2386497487980654, 3.5381147285469794, 3.684206955724347, 3.6591282002312076, 4.028032646807231, 3.5712493706263246, 3.3917493300417614, 3.1137916291017693, 3.258844305777542, 3.1621290177219805, 2.6671538597519375, 2.081907241803161, 3.7064219128798417, 3.8099503347272665, 3.0548042040787498, 3.5513100711451324, 3.431206683277647, 3.4992820914992904, 3.9292159296264813, 3.7118426593099594, 4.0388539981307385, 3.0306570879061283, 3.4136294409949786, 3.356750142336115, 2.807539896493376, 2.5114677421647054, 3.687212505389288, 3.0896305387240655, 2.670796271490954, 2.5281554792787584, 3.446117164221119, 3.318083803478373, 3.0977779922043975, 2.6982357335303955, 4.1162270337640985, 4.059684060418985, 4.16554604025035, 4.591712936228905, 3.8547529818950754, 4.350492341819411, 4.451627625447422, 4.456794304694376, 4.423792080880771, 4.378410092645316, 4.463708814005941, 4.506225731359711, 4.611609251696573, 3.3502631458064607, 3.911004067710416, 3.1087095722226663, 4.037709432440173, 3.3673240202156545, 3.9851741468827058, 3.7277323911221236, 4.324220633892634, 3.653348813945281, 3.304251401315957, 3.8647691769783727, 3.7217050037963753, 3.0258971559681287, 2.719324799639742, 3.998990893375774, 4.149500687172948, 4.046850576760446, 3.882521776831836, 3.7850899295722464, 3.9468220709673685, 3.668369754227335, 2.9827847018204348, 3.5265679022410006, 4.103002460668478, 3.9370993566054446, 3.8447913828208984, 4.019703611267223, 3.5888528002707893, 2.8538788168786047, 3.6460359132545013, 4.249912805003122, 3.394282738119469, 2.985346534164692, 3.556840416625636, 3.8933022830472392, 4.014443601104743, 3.9086640559679817, 3.5456519010406775, 4.513139252147516, 3.79740160480229, 3.9731018664355746, 4.380370540681925, 4.143773856213346, 3.5880988711525728, 3.2929766250391017, 3.0300500364797682, 3.7872906433038653, 2.7259778016320086, 3.4821884582060303, 3.249773296636698, 2.8519334348710763, 3.866690446507952, 4.531877308681242, 4.166941835838569, 2.5928239859183666, 4.528505836184409, 2.7310243888173673, 3.6197670096540397, 3.9908514369745234, 4.597123761094786, 3.818730961492313, 3.775612205975366, 3.6517658222192155, 2.801451935796356, 2.582257385912161, 2.5914167526025365, 1.7288006896665062, 2.8399031527062477, 3.9998545857247487, 3.2033118242679866, 2.9026086469944614, 3.4324620241534003, 3.7744676367947885, 3.7133013023326753, 4.006637191384498, 3.77683025895344, 3.298883032340195, 3.548618086328383, 3.952367153593468, 4.117974608386272, 3.566451325179346, 3.69476686570845, 3.496160479252129, 3.543483908761681, 3.8223918564618233, 3.5792881912675614, 4.154305026897341, 3.4991863435503836, 3.7713492037197454, 3.063987002070806, 3.761127972445716, 4.1860518663313755, 3.5288072016773917, 3.840166772534416, 3.7406185431541483, 3.967924412692364, 3.444759420552715, 3.6683370506294253, 3.523850712776669, 3.6960690213897163, 3.659966212475848, 3.9902564823093036, 3.332601947045636, 4.034109640119305, 4.122589356084183, 4.401169361185106, 3.7381245652130475, 3.834481917287907, 4.107144539344953, 4.294432069150436, 4.178909208792375, 3.5545986058299315, 3.9874143429995725, 3.885273151284535, 3.777084483903327, 4.061070548879037, 3.31779194885161, 4.434028416663293, 4.131404784010844, 4.281366657726154, 4.665598657809408, 4.2115139230720455, 3.8129338635625087, 4.0158725152398675, 4.321307327440156, 3.96647604437844, 4.058209408384788, 4.075864246878097, 3.3924546327030916, 3.569458628965582, 3.636221835288252, 3.8967336498734175, 3.6889446438952365, 3.378998154934629, 3.5319750481071437, 3.7330194555548113, 3.7999143623939418, 2.830153150481012, 3.079143297726842, 3.66137532708578, 1.7262327770585657, 3.7889756570607243, 3.029611194297194, 2.781984971051629, 3.1255820111360637, 3.1307852948594674, 3.1873709991126833, 3.803318261935821, 3.355240593212959, 3.18406080546906, 2.3285947357370897, 3.4353399635543664, 1.9235135197586777, 2.5704117578633197, 2.8190326639825116, 2.9979746716368627, 2.961501935619615, 2.8642539482727782, 2.7902157911832943, 3.5587561403401833, 2.9671088007439312, 2.8921824574845854, 3.468883514200816, 2.8626936285100824, 3.0007981576522433, 2.8512503421290663, 3.4959037224447758, 2.4733014706141643, 3.273660188317545, 3.2875829891553305, 3.526358235089301, 1.8088691974863513, 3.4357996564964015, 3.525814302938414, 4.219380180188418, 3.9289472603714963, 3.61620510501944, 4.568890143642058, 4.5294307524263475, 4.341583734569588, 4.41069131495076, 4.068842078418826, 3.9927314399042166, 4.492559456732219, 3.832986494509787, 4.2841152348603595, 3.96734743200614, 4.325807412897547, 4.244159206130954, 4.537017356703656, 3.953945011323805, 4.340512346288583, 4.274500919734307, 4.2924358565790515, 3.3817901266095256, 3.144540512961731, 3.2941416405261292, 3.4870824110557352, 3.2581906481817917, 3.1628397764498493, 3.148900869492913, 3.0251344863290734, 3.990995561214475, 4.053770524198076, 3.6280875019172316, 2.9357467756098528, 2.9842141825808413, 2.606011942943142, 3.2874567994360904, 3.476522027719766, 3.148440324895585, 3.065978617972169, 3.0962078564289737, 2.905830392590867, 3.099893874142525, 3.2887197478982158, 2.9471977786448647, 1.6145202840771007, 2.6195383602452202, 2.0635950708924153, 2.575290749560393, 3.591325398049113, 3.0551763224196766, 3.7738835550427003, 2.5520084872177344, 3.391551922228443, 2.6642168199805907, 3.2703021781551205, 1.9365994841626333, 3.3337928637932808, 2.75944375267793, 3.015509317951847, 2.6716305761429675, 3.497653550283478, 2.753143775370975, 4.340610834744181, 4.454575957655711, 3.811320443359677, 3.8706015376091876, 3.5181388227324324, 4.006962129448921, 3.7003337783077863, 4.060977608207596, 4.1921720844242785, 3.961920046434145, 3.3398625537660385, 3.679335810393133, 4.221835991828867, 4.600135797276408, 4.003090977760278, 3.804475832594443, 3.7260595617202075, 3.9846131744558972, 3.066261827112253, 3.4666774548418964, 3.8418718943463244, 3.55375073747348, 3.4836965066569774, 3.3956553803740155, 3.041990571688005, 3.5791679923289954, 3.0774601545751135, 3.672367588674666, 3.944093160457013, 3.619179713955521, 3.98985532692309, 3.46323230202646, 3.603394323274207, 3.825877259857955, 3.29941309634391, 3.8909634481869033, 4.018879859134811, 3.2099126532926086, 3.8754018538364328, 3.9010753049316573, 3.7256256913630565, 4.2922971706481405, 4.319579900515628, 4.013611115840709, 4.095222547712439, 4.341306453074147, 3.097840339778903, 3.69385249047638, 3.365249318630772, 3.730201081679535, 2.889770648159564, 4.008385916215652, 3.7877119742967893, 4.020263185970554, 3.75436130956007, 3.978048126260777, 3.975029371312455, 3.6799623630502127, 4.387468436208541, 4.06888506668251, 3.7549043454200386, 3.942289155983496, 4.026074737892819, 3.9010189233115247, 3.4854158111430724, 3.7192879347745, 3.7169521575817153, 3.6273177506089023, 4.126667465739717, 4.117286460246526, 4.553236096256835, 4.14609539204625, 3.62102562641294, 4.071528963313774, 3.7671557871942314, 3.6199679357678227, 3.829290201371214, 3.5417231039886574, 3.869194046101285, 3.248218842637944, 3.1859895236968363, 3.469436792779366, 3.599610742571348, 3.743511163145509, 3.563194807021849, 3.3725114033403534, 3.31948867050534, 3.5125307347911034, 3.8129698372775227, 3.6113683402532697, 3.5597768247825825, 2.431779983668073, 4.307988266199899, 3.2795729859343896, 2.551323124185174, 1.6904872621417268, 3.3986174040491717, 3.7914623113702346, 2.717636013603842, 3.8099842872895113, 3.614534612234117, 3.8569356758956914, 4.163020013141823, 3.799493079742524, 4.335653283778167, 4.1363442311490335, 3.9693559589473346, 3.6760977699133117, 3.951147870604816, 4.2156750150377365, 4.027657474620415, 3.841221410253343, 3.9112983286763003, 3.728241194864757, 4.058636311430904, 4.013358647950471, 4.166425056959, 3.5419772662313593, 4.483410015999224, 3.283578837846807, 3.472422345575244, 4.0915605504192945, 3.6063524979553003, 3.920854746668774, 3.6706085087453633, 3.631625512712068, 4.319120805163166, 3.7499487790031685, 4.244840408763909, 3.3962823132561564, 4.253113152356896, 2.820502972979692, 2.8511601216720472, 3.0580154614320505, 3.1818174642696913, 3.8146764534331807, 3.4855153295953105, 4.282878121727442, 3.9962010067346476, 2.819536883024616, 4.088306147396326, 3.605127121558112, 3.578493855483183, 3.7044655394463724, 3.7227501087868378, 3.5817223688003597, 3.7387767325065955, 3.57555403131918, 4.343261213611439, 4.204805877519821, 3.718014556934608, 3.7823885137562208, 4.14148896220413, 4.0669734487528215, 3.9440130424842352, 4.0724853992038605, 4.046763506219905, 3.9649047516319578, 3.7989960160291143, 3.5011445650735253, 4.113795595898657, 3.3688599038299545, 3.421787893612592, 3.1005162159849897, 2.96479318209498, 3.643488594283343, 3.9240167594838393, 4.255883012183108, 3.9812519292989137, 4.055435140489169, 4.198718478051897, 3.475839998839233, 3.5917505992201586, 4.028901793898965, 2.815615442110106, 3.583532538517215, 3.8006112894411253, 3.8827473828023633, 3.2934237765597087, 3.6927119365346086, 3.809619031400628, 3.1343385590405157, 3.0480458655946037, 3.7239861875087565, 3.5871115652841814, 3.454497960829215, 3.5529420143696, 3.351436206430153, 2.854145022590891, 3.320373160050923, 3.1751454464542666, 2.7633898866539846, 3.4624841131392246, 3.285439133640765, 2.984238568423579, 3.458393497932451, 3.1621798798055964, 3.22117344716059, 3.0307120376660097, 3.523150206549469, 2.578132636771405, 3.035760936385297, 3.6895077399031417, 3.333834010865459, 2.7215753120337944, 2.2267768760411855, 3.7382648321837815, 3.9005831558564403, 3.554449031554822, 3.3710862029278434, 3.6153229741203714, 3.7837343375513584, 3.8420972799883155, 3.451364222234576, 3.8392819758713133, 4.087987732497427, 3.5968332813471, 4.6043588238726665, 3.5289871993466577, 4.15555546826631, 4.500959179562083, 4.4778491530790285, 4.508475285849485, 2.875824615616375, 4.279392269867224, 3.9096337933511807, 3.729945937641386, 3.9026469464113025, 2.893439163602389, 2.9503740963332152, 3.265122574011134, 3.3850182740848407, 3.3041297538005474, 3.3056644128031687, 3.3504881287936477, 3.9856169349002273, 3.6754924876144965, 4.0060592633987415, 3.720298579643461, 2.8640979418756523, 4.2993545354592495, 3.717439417090736, 2.63792642276285, 3.5686725638820262, 3.687114105135761, 3.7634077879037173, 3.9155553656557402, 2.320017522264151, 2.896671191144591, 2.9816352620358417, 4.571594484983013, 4.403239158300906, 4.503907294195972, 4.5215852567472705, 4.33902636856014, 4.2252737879083115, 4.495087718252786, 3.3352692636890624, 3.376690477042718, 3.3385928877039914, 3.1245282061169033, 3.305554510281657, 4.657296180764894, 4.515098224494199, 4.628581072153078, 4.176144805586783, 3.6638064329713482, 4.006931585265835, 4.469734479795761, 4.858081191661967, 3.842238554371735, 4.230531289839832, 4.205870581678126, 4.101690500985704, 3.578086554116828, 4.032837757635564, 3.9580813430196775, 4.333730581183401, 3.3578852761425635, 3.523848254181736, 3.1939502181094013, 4.334848944898521, 3.9712416812283484, 4.07521125106506, 4.163093978704932, 4.074390673718796, 4.224515135240623, 4.6236157237288475, 3.453153818295891, 4.8701614721425575, 4.536560059058349, 4.392900993773315, 1.3247701323582206, 2.5395206158862402, 2.358969038178468, 1, 2.7928408609141377, 1.8647453523225572, 1.7169726779463979, 2.807066523809127, 2.552579354823397, 2.734128182675094, 1.7658803769214035, 1.8189623056873352, 2.4202652313645543, 3.1071381816508143, 4.536342666544138, 3.0047403135264776, 3.6440572263391484, 4.257416697203949, 3.6508032450676895, 4.061368418250411, 3.6411991589988153, 2.413654828505133, 4.028782331303242, 3.7392898475559, 4.212158379703255, 4.405168049101336, 4.542866130596851, 3.53553030725354, 4.035268646916227, 3.63393608986966, 3.972425225055152, 3.1078773261559967, 2.972226632375954, 2.837952539018068, 3.38372175855727, 3.9465133957011664, 3.8924387801246128, 3.6573470827581116, 4.099240478651233, 3.560574188518819, 3.626839031823094, 4.105947127105955, 3.796746558487196, 3.7819766380103723, 3.83230750441664, 3.85952191022377, 3.4238789542859, 4.184174841435271, 3.4763771377994033, 2.978046241078248, 3.7446199341926003, 2.7170377363378138, 2.482016056753016, 2.297001217902614, 2.5444077322660728, 3.420008524517942, 3.9558081074774356, 4.223281919102302, 3.8705242951966308, 3.652048469345198, 3.8646764098033852, 3.3940562851807523, 4.007908745645545, 3.590624911890516, 4.000546880664857, 4.017228652860315, 3.6494104816505155, 3.847824311896279, 3.968204216327546, 3.7667954779130546, 4.128086310392273, 4.247590594432751, 3.608400837831995, 3.4962996760861778, 4.039873698200453, 4.5106766342042794, 4.054241185154419, 4.417778456302505, 3.5699740397698454, 4.453610870298893, 3.736533559592881, 4.22847472168122, 4.20073280960303, 4.4897941537691635, 4.685647948312239, 3.2209681531859093, 4.031193997888293, 3.922201991317015, 3.614797543180893, 3.18538942731613, 3.6116726382614606, 4.20695870974225, 4.027767048490509, 4.465438803407747, 3.861821647082615, 4.195143352161234, 4.062846552437633, 4.556517488942082, 4.688543403584754, 4.72472196752714, 4.864395730553355, 3.9644102721497854, 3.8275419855960844, 3.71122466566817, 3.7513241903657915, 3.5472696403005104, 3.686598436874294, 3.947999766647787, 4.53544718770715, 3.9462326913847128, 3.3554446028350573, 4.345502587317617, 3.8263487413731885, 3.174154213026631, 3.584785576498658, 3.4838883053037604, 3.3632244538592873, 3.7294839333799046, 3.7725487122632066, 3.604189355365412, 3.9488753397111593, 2.519949982466991, 3.7343485958928944, 3.224449086343234, 4.065422739004077, 3.8445336371574, 3.9054563781319955, 3.82311506602159, 3.8206810747288396, 2.3262398681807315, 3.382363927999033, 2.3728320513676993, 2.1538581121910103, 1.4816248348305694, 2.127755444235443, 2.494709015271836, 2.5169760549519085, 2.5263799268678655, 4.030826850534087, 3.399267040754897, 3.4875658838160377, 3.855745491115896, 3.091263958720381, 3.0012911530605066, 3.898499899209718, 3.9229562067460777, 3.8376917311098175, 3.8920276885159377, 3.5475091170048247, 3.6590215644326443, 3.710704151275383, 3.4287955556870937, 3.32003882476902, 4.219126266648612, 4.005935511231825, 5, 4.880099018808872, 4.78145870002856, 4.57809477069281, 4.0257104391222605, 4.909810877541594, 4.772142001411913, 4.689118385118037, 3.7770422123423026, 3.475618082816549, 4.037105857616499, 3.7403829257431203, 3.2397143837953264, 3.8130181914941064, 4.031870279936362, 3.0090788636895995, 4.134331030498745, 3.8393090334411024, 3.732675281864271, 3.805259769380185, 4.099072746806412, 3.175844899205902, 2.447264706001606, 3.877609637860599, 3.1600346043657304, 3.652468316751152, 3.505925814580225, 3.948345702687497, 3.967863080035663, 3.5557638790085853, 3.0949369659868173, 3.8532409810072763, 3.9969015391175553, 2.8958982585788045, 3.036126033747501, 2.5879492445495593, 3.225741039283534, 2.5090762331886496, 3.105187531349162, 1.4325497306046007, 4.12548484826913, 4.222013838515719, 4.273512160219479, 4.114155132178467, 3.9188017935774906, 4.288538782935765, 4.0276119066382075, 3.6500205398709715, 4.167433800167213, 4.47203729716313, 4.033131966427016, 3.6262187752580366, 3.9464964623881413, 4.8737556509657045, 4.604843052676619, 4.8366859754541585, 4.720334345910571, 4.055159052779669, 4.776534740834299, 4.661955429898489, 4.624954644514582, 2.7066057544885673, 2.0466269058266158, 2.3551155860086315, 3.2436610387122267, 2.7385555146697507, 2.1240972122710997, 1.7444043145808616, 2.4069470984513948, 1.8531666724446982, 2.7656530981139955, 2.8930953746686177, 1.3688564447116893, 2.2341328030817724, 2.901542149475183, 3.255341204483787, 3.0087908840434108, 3.398230111257878, 3.3501127934965504, 3.224732302650116, 3.0500098909876523, 3.7352874261974955, 3.399449201862951, 3.2267136015445512, 3.2814394777183535, 3.2396307349755284, 1.8739294322871891, 3.1879573829325247, 3.7099342894167524, 3.7773246959809796, 4.294137259241332, 2.4932867089362207, 2.6358770027603287, 1, 2.439256594215691, 2.924740813558131, 3.110285105424301, 2.834330727687477, 2.256838999048174, 1.821566977449514, 2.5885385038569386, 1.3243876841077455, 1, 3.439282352357431, 2.844987252691579, 1.354656023680687, 2.053330139512092, 3.4616653424994857, 3.0414150964458426, 1.8239212069433948, 2.4573667315905197, 2.3171873477778195, 1.165612485836858, 3.2970257019565685, 3.919578643765089, 3.0049260757115057, 3.3409426312805195, 4.132183662867863, 4.03546712884645, 3.9328821079184877, 3.16911259362782, 3.5163784599929047, 3.771312161136126, 4.410997818994886, 3.7285340941007803, 4.007313652333196, 4.449113714395489, 2.4923162915030788, 3.057158631749473, 2.8416414266298604, 3.950698802631894, 3.2122208980196696, 4.166201009387787, 3.8840870538419163, 4.211585635900773, 3.6647288930224606, 3.4719662014061177, 4.164376415967981, 3.9070882590242797, 4.24247650817948, 4.677486330824919, 4.417994798298262, 3.7629675975593933, 3.96750472057348, 4.4190910781905055, 3.2619631221851373, 2.984663952887673, 3.3776368501155205, 2.823252382944874, 2.511013844922042, 3.405540950252396, 3.859611854111587, 4.102737599281338, 3.5792873615189778, 3.966687678740672, 3.43781342682318, 3.064653644973801, 3.715493059788605, 2.681673939838598, 4.008637498650961, 3.6027359726600974, 3.800760336296107, 3.821702076630831, 3.722180282168257, 4.007070343434652, 3.975521122083669, 2.8464515090790106, 3.873086360213189, 3.350958362555498, 2.8615381685441874, 3.794876396346825, 3.395481388088778, 2.7106341705646577, 2.8720166741428894, 3.789431109299234, 3.7105734967296344, 2.415885198159256, 1.4676186885900688, 2.6104336328754068, 1.4948196676590664, 2.053513635222694, 3.312907324684614, 3.190162754207774, 2.855942828275174, 2.7865593981093992, 3.731334791258375, 2.6319726186558636, 2.4339990599469905, 3.2755144895543498, 2.9320704827264152, 3.349351996392143, 3.178419941585775, 2.5401638433994185, 2.9085093978389347, 3.3435190788513443, 2.6277723465791913, 3.5152097910196543, 2.136707675366311, 2.2843003194197955, 2.8196291838706973, 3.2967499111645364, 2.735084130976004, 1.952878078556029, 2.587655598263582, 2.815368425095778, 4.439878386668982, 5, 4.275157547671677, 4.245500920582311, 3.6283646214956877, 3.926863361738333, 3.803691562211554, 4.21965988520389, 3.851345952300626, 4.042530663424677, 3.867071554596246, 3.814919743793644, 4.002875098648362, 2.217346547520489, 3.8590270904101733, 3.319432889913123, 4.452072724542516, 3.8887780436396024, 3.7779258467549153, 4.11518765116013, 4.9420073009216985, 4.499715939716254, 5, 4.7714807707887, 4.791553762218699, 4.58392766956712, 4.324031426936575, 4.164448949981489, 2.8977775621912847, 3.3254756616778938, 3.5911213366882317, 3.0328741701506736, 3.827589347844714, 2.7836187647777497, 2.5501543368957096, 3.3742502525560196, 3.5451115709432783, 2.581652618189679, 2.9510964134081124, 3.647516296203508, 3.6425549759177684, 3.817778383409803, 4.847293895976719, 4.472750250413364, 4.588356932981452, 3.5324323177381505, 4.210114680051731, 2.9470601893072295, 3.333155677301224, 2.8867868488710373, 3.8086589994346443, 3.0187674693332154, 2.8829774389844847, 3.163643150191684, 3.1567888821879238, 3.110136376765117, 3.6311819928301006, 4.416037264478386, 4.626359231735338, 3.8689389061515884, 4.220452191814914, 3.708262071802318, 4.131561798235605, 4.342657022201923, 4.119110091011802, 4.082495492934575, 3.4097101051549963, 3.4909289821721026, 4.0251213237705, 3.940268222411183, 3.241500640368401, 4.406880971662498, 4.476616857162173, 2.765055504642838, 2.7530982304213256, 4.295360344998157, 4.376150618219386, 4.217512763986316, 4.2798554875226325, 3.944863728732104, 4.195330582127496, 3.541851141206031, 3.9960103389926314, 4.053831286149601, 2.892346476879407, 3.2538369178237128, 2.859508699158108, 2.936770141006856, 3.2653236227799045, 2.227395018092133, 3.2363818943416467, 3.482530610369291, 3.1929396016601657, 3.4901392892349272, 2.436230507446689, 3.107473757610707, 3.308767928736188, 3.0905861791195286, 3.290139160898464, 3.101124177637326, 3.2926664862727852, 3.2723376572339977, 3.037480991253308, 4.069904462196628, 3.834950328187313, 4.036659319186876, 3.8413788700213183, 3.8349176888080905, 4.215942688838867, 3.6395388380711906, 3.100810648752946, 4.0826214212401, 2.7748862551444295, 3.850526124798856, 3.0424140093782324, 1.9262208046632363, 3.816670393234417, 2.0324278955604598, 2.9112449713440234, 4.654400299171213, 4.932761848990519, 4.744743997929721, 4.880307713468068, 4.768905002592649, 4.052510627496966, 3.1382823047576385, 4.618118323482673, 4.220494847866215, 4.135190004302382, 4.48738807139729, 4.168898104993705, 4.14854213599773, 4.016260111511834, 3.65128913727534, 3.9436039181442992, 4.278161652100813, 4.254066253565289, 4.018250918026266, 4.396428870702246, 3.5748936727437166, 4.029828918711125, 4.190224019089771, 4.37667001753452, 4.126346748433864, 4.18218418493001, 4.222672307019647, 3.3775320538761426, 3.9361570926415093, 3.768842104249092, 3.551938735955685, 3.949660819486741, 4.006832688712752, 3.868764947755582, 4.1515580858144645, 4.106025614905657, 3.788327780754309, 3.1077248620158113, 2.6853570989477316, 3.7305693656034227, 4.081447301590336, 3.8850435102620433, 3.1828140705259202, 4.294882976848411, 4.360034818531109, 4.4796182047687765, 4.534488996584241, 4.307468079250574, 4.15411665045563, 3.9984135610319065, 3.858582597431963, 4.198081446772842, 3.636488583012655, 4.032302863689089, 3.726478795983113, 3.783541043000739, 3.5044972963418943, 4.271273865402261, 3.6522035877831502, 4.004153290003593, 3.7962328871072955, 3.79530634808401, 3.8086905475428647, 3.0987903895482076, 3.4901178391576764, 2.970582925313205, 3.9943635872657066, 2.9934357464591628, 1.6513074302667052, 1.39900823525469, 2.5087414849490077, 3.4623426327692033, 3.151581873618051, 3.4639295267335735, 3.9705917332343863, 3.426409568683939, 4.186445534406048, 4.171935406730511, 3.795167398896447, 3.6309182749155, 3.7399301636174282, 3.7457533601918533, 3.553994295042138, 3.9768909554298157, 4.056923154399363, 2.800517939042159, 4.1858499909942015, 3.7621209877201154, 3.3680732871983294, 3.9557031339523316, 3.8150250001626906, 3.248608741567783, 4.21984937650389, 3.981306435934145, 4.098585204124474, 4.115804529939919, 4.310835984546699, 3.885213215133637, 3.806790636038693, 3.933089550081465, 4.453275828925578, 4.528763012261992, 4.451425282899162, 4.5144651947544405, 3.823050691392474, 4.812055745037773, 3.431385740876452, 4.263644168107367, 3.4194890722121465, 3.7431440335262636, 3.3070660263749576, 2.793649719738988, 3.2250922457936873, 4.206550014146356, 4.673226481595712, 3.9616043615471135, 3.9917227448616877, 3.6186572474494336, 4.084826462410602, 4.379844145026979, 3.734022829195183, 3.5055932104191467, 3.414314280503833, 3.6159826221881026, 4.03182603482464, 4.052420102808023, 4.258185279027486, 3.8272505594946984, 3.7712402220828443, 3.6572765226242554, 3.116873440168164, 3.0846433757155403, 2.8303842344134065, 2.658031870674763, 2.8830146923618964, 2.071665430404936, 2.6037148919620594, 3.412638276581454, 3.5083578520349716, 1.5849825431473559, 1.4201736618765008, 3.1236210758972214, 3.9013612463901968, 3.5579336354999156, 3.6599524309688087, 3.831809103824665, 3.7644803466995023, 4.2319237136633365, 4.146104082210517, 3.736432233255701, 4.433410291975012, 4.233979528135249, 3.6682825035276396, 3.7727147795609857, 3.8469464275328584, 3.6046882597350796, 3.4428184733875105, 3.8656315549467526, 4.165372119106103, 4.462693257196981, 4.59985871466395, 3.9605089689498296, 4.340287513466617, 4.578926478045175, 4.245478578804813, 4.412606359388687, 4.574654205921429, 4.703672882818507, 4.533588045890212, 4.653315772975806, 4.458931334117485, 4.170696770983316, 3.864070587380701, 3.8536182332504807, 4.135696749861072, 3.933760317973711, 4.187879888271068, 3.925620359312852, 3.287647219598461, 3.9348759966531963, 4.3477386289987985, 3.563974804782589, 3.567265276493549, 3.9670381944642563, 4.587723980344217, 3.5967496074171716, 4.112829146761027, 4.418718887413282, 3.803788396355573, 4.2300082271488355, 3.8376652218046767, 3.7768081808678, 3.925020943198868, 3.8055358332908944, 3.6702083966970283, 4.154887626742438, 3.537418176625574, 3.969836283009278, 4.179635964604022, 3.74765054978369, 3.463647718710807, 3.58520355290691, 4.723022344025507, 3.601486354061489, 4.040505761021781, 4.422446535892531, 4.075574967387535, 4.452234802333726, 4.040222319073082, 4.2454051947554685, 4.214716373103682, 3.978267292183591, 4.180261007979611, 3.38419607152814, 4.250078996030952, 4.492231384571964, 4.317511059472261, 4.555972470289364, 4.262131296583308, 4.178604529302933, 4.337149877426494, 4.414630459136496, 4.429835383470395, 4.339618686358186, 4.36485304371137, 4.455266441039874, 4.380910108944863, 4.31873616648136, 3.6001271488078186, 2.8916158914340566, 3.6399877319936564, 3.850870147178552, 3.8370953583906653, 3.227279876883313, 3.7610938232762665, 3.1098282251568294, 3.397143425778753, 4.095094553748988, 3.9581747912261456, 3.9158935866522344, 4.2461267976118515, 2.3873242556626586, 2.9266053852179525, 2.9457154357455635, 2.5083682599440156, 1.9860835143339721, 3.20315738588029, 3.8612698773858165, 4.158744668640407, 4.104360496235113, 3.9543338566905626, 4.568087195123702, 4.414952876117637, 4.550215419605034, 4.297549007737727, 4.374134969514222, 4.423640090451033, 4.747062219572365, 4.4547591348673, 4.995913178207546, 4.744945192825511, 4.359384368944579, 4.435739743188188, 4.565476256396407, 4.2646725196250355, 3.702387734197255, 3.6107561808857764, 3.9061051276759207, 2.6632250834049747, 3.7700377835610963, 4.0245889742568846, 3.517013404442421, 3.75938574046757, 3.816125476083454, 2.359339180427404, 2.8020216345759597, 3.8885622205538968, 4.286801080478957, 4.281870210156907, 4.040075646820638, 4.388240716231285, 4.243184863741593, 4.316239261427973, 4.537760219378882, 4.130904823092115, 3.8201487675400188, 3.637362549070739, 3.525299085825738, 3.696600726321937, 3.51733864902448, 2.4759442750411056, 2.905821132787689, 3.190707355384445, 3.2928959822018475, 2.8534986673189087, 1.3362298775157333, 3.983877016094591, 3.572095522476679, 3.752816396183136, 4.172182343550544, 3.6707963692642203, 3.906266729635711, 4.43340642120339, 4.193096635197337, 4.201830996663035, 3.886220497817257, 4.324730337474578, 2.9911848605394713, 3.9669925310480214, 4.0560048290741655, 3.806696896493131, 3.6900385235009727, 3.579741281214461, 3.319275756830076, 3.9841907734313193, 3.808404499031147, 4.174888952040205, 3.6251920956006116, 4.144664596860384, 3.021232498000209, 3.409257903852788, 3.252405700448414, 4.158110915976666, 4.286520954531682, 3.0804431233484006, 2.9769109298217855, 2.526042850173435, 3.9446455258268567, 3.369719386445062, 2.9533149769721554, 2.999177708399174, 2.5850241754110996, 3.014337494582981, 3.7666565005722434, 2.881417921216383, 3.1192752853073253, 3.4891091545617807, 2.642768640136156, 2.8620753165594817, 3.023316857834198, 2.778739889224033, 3.3063794798639576, 3.1662182898688647, 3.6806568278965686, 3.8870851602869885, 3.1754001734156865, 1.7332940160266457, 3.5231736974869863, 3.6870278368287797, 3.36386909239453, 3.3638627254469333, 3.1700695469019857, 1.6550945027165302, 4.627144476927869, 4.529278006941687, 4.747437972029719, 4.7735126250255595, 4.3446599831181665, 4.661761971083253, 4.353815140802261, 3.7134839823312813, 3.645929822460615, 3.74961279976121, 3.9402143187909275, 3.7928384131775195, 4.149532018455202, 4.0138294521861235, 3.4964511211721296, 3.334724946183111, 4.232418806052783, 1.0477901986469784, 1.5451919953931623, 1.2918307336211707, 3.7991988505249776, 3.6855205804147544, 3.1209100845839037, 3.841014611647831, 4.332140040212311, 4.924059326165992, 3.2390166883664477, 3.4814686190409274, 3.2193819397594834, 4.063288357876811, 2.6892190030469507, 2.6923231394283524, 3.463467850805525, 3.9530116558291857, 3.684933108077553, 3.817357732396639, 4.182403348566115, 3.4400724708666055, 3.3181932847022795, 3.815369397871606, 3.4819200111536035, 4.361388199223319, 3.2027829249757556, 3.0473618272994436, 3.7216023759873704, 3.6859238771100333, 3.776685588117572, 3.649057396729353, 3.8577355767158994, 3.8411301414605084, 3.79398928199605, 4.018810160903591, 3.8664652598571516, 4.044642527007063, 3.410076714172578, 4.207924257896998, 2.6720272480098592, 2.716810623301851, 2.218472010666016, 1.981045561463771, 1.5496614379135738, 2.719821532635345, 2.5236281644428233, 3.527176813099686, 3.3539596573263757, 1.7692162227202473, 2.381637379670465, 2.9017064057495596, 3.0535032218715807, 2.6772703658819736, 3.453362712821104, 2.4158022406933135, 3.1131996968661593, 2.023013458930584, 2.6442857910054562, 2.3034780729969158, 3.4172467448574335, 2.4321072083675057, 1.9707798363198954, 1.8819683096439246, 2.655877045987394, 2.951646435591283, 3.3671828841628417, 4.362802676537436, 4.489501676676089, 4.014387042478324, 3.9365926507105, 3.538561882428178, 4.040466601528934, 3.9965939534097954, 3.503394513039925, 3.9771285496858266, 4.138999787087369, 4.29033781165434, 4.484806488008378, 4.3429757745239135, 4.448879035947848, 4.262493807129949, 3.2476648296625727, 3.746112722643083, 5, 3.677398527064147, 3.0774914989907054, 3.6435761734864127, 2.8322990505292176, 3.8487254267311086, 4.238063488479968, 4.222835270486716, 4.082559674804851, 4.183184764689296, 4.263755566386697, 4.300596068840831, 2.1789587507671198, 3.025718641450457, 4.036694053635813, 3.8122445311002435, 4.2299914068148246, 4.145044752314287, 2.4265566429492567, 3.9098717937896046, 4.44214694385436, 3.6817406786277127, 4.2672576694350575, 4.299171796531209, 3.516810685606454, 3.4834312932820173, 3.202275435086022, 4.020186439566228, 4.201723260071468, 3.781707452634513, 3.5998321725741977, 3.9680376056270825, 4.627864472103033, 4.877551517530791, 5, 5, 4.462933349702497, 4.236912352398098, 3.2215837137641614, 2.854924327877516, 3.8406034147988484, 3.0528617118984633, 3.5077887337325873, 3.9418974198078334, 4.330439026858475, 4.145074321571066, 4.745278330860634, 2.965173344946667, 1.2484978799742767, 2.546165208790608, 3.5431701401590905, 3.3785930749698543, 3.0731943610204118, 3.3521278334789146, 4.035277573414847, 4.186536307164702, 3.741384066776814, 3.5751540878866868, 3.696986310122407, 3.234372640175618, 3.5339261153644443, 2.840932864174505, 3.093291400567449, 2.412714238177138, 1.9531250977088719, 3.3361181736996084, 3.5797087454575474, 3.1750524978017274, 3.532487222392394, 3.7595516231430963, 4.197741516856011, 4.934290602663236, 4.8508328680566395, 3.3318156028420507, 3.029457519950585, 4.579145958721392, 4.219854815336651, 4.456391259026301, 3.526021977936251, 4.142659503281912, 4.4510508874821815, 3.985513444244591, 3.9134847475738486, 5, 4.274631941308922, 5, 3.90567222982857, 3.5626926803608674, 3.1344024560032837, 3.9328768497780997, 3.0686557182722365, 3.366833307270413, 2.3450272988628735, 2.5271926757328065, 2.1836909447474335, 1.7375571251054365, 3.001206386564697, 3.0694470968404457, 1.9668683165965832, 3.899322450123603, 4.3859858614371365, 4.190438358908436, 5, 5, 3.1055900131528693, 3.2090991334442114, 3.8671154301943385, 3.470032952927381, 3.5215500443744188, 4.582545526604991, 4.4860893945879186, 4.094198042670991, 4.3791934590979835, 5, 5, 4.090163377713864, 4.237039827171961, 3.8707525314090296, 2.4918788307999993, 3.47093383904575, 3.9560698455794183, 3.0203931924075826, 3.4898760930078883, 4.479558162037613, 3.2038728571435415, 3.365179145034574, 3.3737426493429763, 3.1016507473082178, 3.7440558912876223, 3.629341151116488, 2.647303112778886, 3.055871520528043, 3.333385562804618, 3.335140056706579, 4.076501153512286, 4.5190707896540365, 4.242282764245008, 4.501425717605951, 3.8867457175190805, 3.3430602976105863, 3.7215496098695664, 3.349570268333536, 4.615151126485504, 4.878756203773379, 4.784277843044098, 4.822237995411071, 4.756613460770405, 3.8575114857450004, 4.029100327023415, 4.5227714239116565, 3.8612348250108557, 4.317561837052497, 4.131398654228529, 4.4127185244448786, 3.538308789164386, 3.3501576276827594, 3.4675115908380993, 3.7754418266679197, 3.9069162158747934, 3.918322732389269, 3.521972214379139, 3.3483172799101166, 4.170995254398886, 3.800635909365836, 4.188493247340162, 3.8105145853366693, 3.7381415443734394, 3.217396523574952, 4.052253406838734, 3.3573582923253458, 4.733374288178137, 4.691124072285784, 4.845772902730021, 4.856956266744128, 4.279537514871079, 4.640916852619987, 4.137450073703512, 4.189586110550838, 3.943539832760807, 4.008044041950071, 3.866919023543292, 3.9182006531977267, 4.546024454807913, 4.009225197385827, 4.401818016278577, 4.718957182952996, 4.33296726838752, 2.6490193974808545, 3.230187491682249, 3.4101243269758674, 3.4355698887475703, 3.612761301248641, 4.353597997079848, 3.7950562576193407, 2.6085372614264286, 2.9248408535111334, 3.2477404209781326, 3.0100294273873796, 1.1268916368364428, 2.465212801046691, 4.668412911724794, 4.494262277692799, 4.885136277686325, 4.8733371609151845, 4.51840038896451, 3.726493452382445, 3.515354961299284, 3.7530626959584685, 4.378791573675647, 4.033102316745795, 3.9546291438120473, 3.7905266290581756, 4.362939712388601, 4.554778513650892, 4.760289498967071, 4.039113604800698, 3.789607697369291, 3.6829928633997966, 2.965052233337829, 4.2832416725916325, 3.7051427452824917, 2.5911463078758965, 4.28572428871324, 4.221164421146459, 3.989879522900477, 4.3303419897703535, 4.138116347270846, 4.098143945100669, 4.191866061843265, 4.127681364310187, 3.6769827084247795, 3.8186320093235495, 3.6970782227074857, 3.531235279414093, 4.095176482343262, 4.265117863018926, 3.7802550281608145, 2.4806926692767997, 2.068624015542656, 3.073096916919002, 2.486661870146634, 4.513842226355406, 4.124066096172011, 4.562250344926465, 4.376556858700931, 4.27601603656823, 3.327460950607821, 4.05257228222944, 4.200386584881687, 4.260677871234776, 4.3934495578212776, 4.382273846399566, 4.2885285300316855, 4.596078583862958, 4.767623098984744, 4.9097802170427025, 4.975945487288302, 2.940145753046801, 3.280667248827884, 3.4660989131278734, 3.4870768320331815, 3.727524522758957, 4.131748193245157, 3.6337580953602173, 3.877388910210512, 3.2185865754846223, 3.3743931362345325, 3.6779006974696418, 3.0462213425904983, 3.41228777099665, 2.7263536016396817, 3.758676391589338, 3.7487519792242345, 4.045580272964745, 2.079455132639552, 4.4708120066846515, 3.8380734107548817, 2.3428931303732505, 2.6608873077983617, 3.214066918427577, 4.151546853307961, 3.653477863114978, 3.66119603675224, 4.039122388024026, 3.606795793652452, 3.2233587157706567, 4.996762247069154, 5, 4.981480148494108, 5, 3.379537933911258, 1.9403439128015856, 3.8904454579495265, 4.070197340883845, 3.841462787808016, 4.487588928570474, 3.958276003625538, 4.442441105094815, 4.104455860246638, 3.7772942819131465, 4.100704508378432, 4.006385704114434, 4.731850125974371, 3.653264268997952, 3.693248677333198, 4.069172687298732, 3.7756573676632996, 4.026565441772853, 2.849875977331785, 3.6305984168106074, 4.809682357046116, 4.741757999339127, 4.696364780332684, 4.710115869893306, 5, 3.8536497878313507, 4.360253843221266, 3.65325183155109, 3.252909774687266, 2.315582788167922, 2.8836840753474164, 2.5705999347527237, 3.652775897660594, 4.345322052333602, 3.8597325385415395, 4.272668879579673, 4.294596597128822, 4.1616263353993395, 3.6762444886156, 3.575734679573513, 4.086026132319278, 3.6907773750563737, 3.961770574914143, 4.299776227032334, 3.420376238322799, 3.9516161405399406, 4.137625818787243, 3.6862020692692568, 3.9052685508976004, 3.666657271511685, 4.3865630773991, 3.7376794383218237, 3.494113797622831, 3.9820521992543076, 4.083330770295443, 1.6159300010790563, 2.905114302040936, 2.601475645167617, 3.0873625005019254, 2.6617399615355586, 4.524374744297269, 4.317708707300825, 4.293508521750796, 2.964823135542031, 3.00465161822208, 4.29223504916421, 3.9363812490729253, 3.8692531822208536, 3.7867570224110354, 2.767739796649015, 3.7022480594649383, 3.877387446938421, 4.062699759084401, 3.7393237248689184, 4.343852265945773, 3.662678316795196, 3.8664068385745853, 2.871025849512713, 4.646474991362201, 4.170385075142445, 4.877761809241513, 4.674052100432901, 4.8042416858996075, 3.1536026747107186, 2.37939294105058, 2.6940830724962463, 2.7552112681885372, 3.895111649352899, 3.2946375353213355, 3.8177739746255686, 3.99330890483402, 4.403500692760075, 4.427307237664788, 2.038355901164661, 3.953567132543117, 4.0192917127342564, 2.664218549335396, 3.604644012109021, 3.589238517601905, 3.4294551881815103, 2.846055030972377, 3.1509329775437367, 4.286806455511538]\n"
          ],
          "name": "stdout"
        }
      ]
    },
    {
      "cell_type": "code",
      "metadata": {
        "id": "wDckRea7TSmk",
        "colab_type": "code",
        "colab": {
          "base_uri": "https://localhost:8080/",
          "height": 89
        },
        "outputId": "1345023c-b96f-4bc3-9946-fb0d5ec30fe4"
      },
      "source": [
        "# Demo con SVD\n",
        "# Demo con kNN\n",
        "from surprise import SVD\n",
        "from surprise import accuracy\n",
        "\n",
        "# Creación del modelo\n",
        "model = SVD()\n",
        "\n",
        "# Entrenar modelo con trainset\n",
        "model.fit(trainset)\n",
        "\n",
        "# Crear predicciones\n",
        "# NOTA: preds es una lista de tuples, i.e. [(userId, movieId, real rating, estimated rating, {detalles}), ...]\n",
        "preds = model.test(testset)\n",
        "\n",
        "print(preds[0][3])\n",
        "\n",
        "# Con los métodos de surprise.accuracy se puede medir el rendimiento del modelo\n",
        "accuracy.mae(preds)\n",
        "\n",
        "# Si quieres crear una lista de las predicciones, tienes que accesarlo así\n",
        "pred_ratings = [pred[3] for pred in preds]\n",
        "print(pred_ratings)"
      ],
      "execution_count": 35,
      "outputs": [
        {
          "output_type": "stream",
          "text": [
            "3.0784904843938006\n",
            "MAE:  0.6603\n",
            "[3.0784904843938006, 3.2349057109240484, 3.650699742959973, 2.7444193291419143, 3.644967358943398, 3.1511539099640364, 2.6862130012804957, 2.582199291708063, 2.673027613455873, 2.7318642089554572, 2.7873256151898644, 2.5772963610133512, 3.3804960615230004, 3.757190910843641, 3.2579501788404968, 3.7084388383721456, 2.3437067079891953, 3.511755725155248, 3.2695662092784397, 3.3684215077355044, 2.314267303338224, 2.7222230975376025, 3.333001674166826, 2.9170902927949927, 3.6607344877994996, 2.6406727813738087, 2.50920931033568, 4.187735140646698, 4.67395144078944, 4.331706168383595, 4.440951011193426, 3.770609904771476, 4.344496031510306, 4.331208217238757, 3.5145401430704495, 3.9892674106359567, 4.3522334345927085, 3.339182639033426, 3.8821312353737882, 3.6143268254956835, 3.942614960047042, 3.8282208644315467, 4.051951591326037, 3.7463172430012635, 4.03746519500213, 3.9659548890740863, 4.11409902781195, 3.3675514738933714, 3.7348884714702697, 3.784494217922396, 4.255913186990447, 2.6482736492744285, 3.338399660615909, 3.6013303933114544, 3.414489836430267, 3.5482554069768764, 3.7282315777281116, 2.4203582914777924, 3.54368787163819, 3.423099475217983, 3.765090873723116, 4.108411634133778, 3.2931535729550823, 3.4477537367184254, 3.73473891189977, 3.972788493780072, 2.897209669320923, 3.419303060069265, 3.576378532264541, 3.267163721900251, 3.6815772665681386, 4.08440154726147, 3.672242652116099, 3.9286508334282955, 3.8333835726328997, 3.8500323763529853, 3.4990352673309144, 3.879654737847628, 3.6540675782357184, 2.683277321430303, 3.7392023005462582, 3.6712788086358588, 4.150386636553646, 3.728492121378604, 3.559759170536234, 3.756345466325222, 3.3351859530606753, 3.610151134501062, 3.337617798199823, 4.108347415219863, 2.829162916866791, 4.239235921546587, 3.7882012852715787, 3.9515494199260237, 3.3272266709210707, 3.2931248819024797, 3.9208344321141455, 3.359212741864272, 4.225143501958125, 3.846950141399083, 3.6969628943512127, 3.7944139749485397, 3.9226648790012604, 3.780204181469806, 3.8093876309986, 3.259641572719637, 3.5482329528061998, 4.236903575150694, 3.830960961922014, 3.630060111017468, 3.1545829401626264, 3.035819765569662, 3.9402109902798976, 3.721953142986587, 3.595018654387703, 4.1261746130636014, 3.512693153739855, 3.681594114926751, 3.7665012588272213, 3.279908874147525, 3.222619122588435, 3.615443722163849, 3.676206251096534, 3.471757428639813, 3.0538811417031373, 3.405471043452667, 3.61544468548799, 3.3599826209616688, 3.268422461268839, 3.3892502996656613, 2.787970707113789, 3.178304820888334, 3.5305667081990117, 3.5357664549112178, 2.548260730496207, 3.274674555181882, 3.1858190905948742, 2.6324994521164786, 3.1897925226775965, 3.9684551371796086, 3.3623698449663526, 2.7667517295571966, 2.83580930572089, 3.1516105472035116, 3.5132722364322557, 2.607404576820134, 3.386237883216954, 3.3616202810951625, 3.0198571501654126, 3.1692708215615957, 3.111844184317173, 3.0780760229987676, 3.139436864508291, 3.360115416055683, 2.9356300108101436, 3.0038128425427697, 3.7482989929521255, 2.6348091005057515, 3.074467967824147, 3.8622289570483592, 3.2828295681247774, 2.9273697342216383, 2.5496421625368266, 3.8612007414650424, 3.1852963296017034, 3.4064098558342497, 3.3116716468526395, 2.7203201529161483, 2.573060424660282, 3.5251436998632526, 3.489163723252372, 3.3894197027256405, 3.7508489642448133, 3.7329369988704495, 3.4567734406957253, 3.195690895854137, 3.0515054134555992, 3.554750553568705, 3.4159167942050668, 2.988534338792662, 2.845425623679097, 3.3096886321206616, 2.786756611849361, 3.0538698997668665, 2.8397937749932067, 2.855145363196532, 3.1950856950305284, 3.547679320810143, 3.396068979277204, 3.5913154102607283, 2.986164795802879, 3.5510285746937247, 3.403667982898574, 2.9070831663684924, 3.5445615344816694, 3.800947838023675, 2.5522437254661217, 3.921866492540845, 3.404855573212044, 3.196305744438117, 3.469305197416408, 3.401211825728332, 2.5728877758695963, 3.6589374341887386, 3.282258767988704, 3.3644130663337775, 2.966864969423333, 3.5032782748189204, 2.8605345652059193, 3.216806050541795, 3.3827502886711485, 2.1290520765732865, 2.407489830246563, 2.72182426299867, 2.2488478067919626, 3.190951953493992, 2.5328840708017437, 2.3406240691074216, 2.5065965949698885, 3.518182407093599, 2.8624689262911707, 3.0019778031138387, 2.404581648699098, 1.9682363276711456, 2.731449741146598, 2.2351747800889243, 2.434459435414987, 2.3975562584223695, 3.023764576637921, 3.122874125968541, 3.2988074440023407, 2.7727940221983975, 2.257509441339969, 3.4566033021253775, 2.6266179548107527, 1.9428789580039285, 3.1089949363936804, 3.0978759871661823, 2.4733303736580505, 2.773126086618887, 3.2503355125009583, 3.4920822181829063, 2.7995875553418412, 2.000740174899122, 3.4548065453955483, 2.720167574526612, 3.4073221868154353, 3.5842726270597653, 2.6569974280673208, 2.340872284939194, 2.3761513223580613, 2.473797098094591, 2.7065968291893734, 2.9673237231848115, 2.799936841673361, 2.992424438748818, 2.8938380647401583, 2.392973327529621, 3.2937309578517278, 3.381451689303336, 2.6354580976929025, 2.754291583901881, 2.840952096423582, 2.1556004825857906, 2.477711146833167, 3.3495319443692493, 3.201976387755911, 2.589909555771111, 2.9752650685919866, 2.784902186681203, 3.0467141373516036, 2.736588128177821, 3.076992988289237, 2.437969290100698, 2.120350756459487, 2.954816703940779, 3.1536506806097964, 2.0123444065252603, 2.5203498000950066, 2.474811229987135, 2.770566752640819, 1.9997899371281236, 3.3990077753577403, 2.6651916809063643, 2.5143583377161565, 3.131108116199046, 2.4692815373984667, 3.4858713059132778, 3.0314242704346457, 2.9263045006618857, 2.67788222212161, 3.1971397888004636, 2.873362320335352, 3.515123799894869, 3.1392046983591912, 2.742211969776324, 3.12615915208063, 2.9356020272105536, 3.6245316861831864, 2.899575785967039, 3.3562842497447547, 2.4154393974569435, 3.6132657857826835, 3.270415610417583, 2.0831344041738507, 2.9590747421933696, 3.329946571725363, 2.544973136675332, 2.5152784978411, 2.8448908409523157, 3.062434971014742, 3.5952564363387207, 2.834486031999279, 2.9690382960532857, 3.0680337089891188, 2.917761355185411, 3.0426262797382244, 2.473192032250705, 2.891517017532096, 2.513787784365205, 3.058849600314787, 2.934147181019463, 3.192909578917317, 2.9853595422276427, 2.5338223229958676, 2.868521071608528, 2.997918685938268, 3.2322904389608587, 2.575783791609107, 3.277501911834015, 3.1621600697659065, 1.5918154506906286, 2.6948551449723324, 3.1908609319486168, 2.8029912638318333, 3.2235546101759565, 3.9100567392163006, 3.688119027004062, 3.0789929962486196, 3.732372104789402, 3.667552031879551, 3.6318026943692385, 3.99589010031281, 4.058601431668923, 3.15091825314666, 3.285983568869908, 3.416343650473757, 3.8805228347957206, 3.2971134544105856, 2.880592322208897, 3.7533041049717895, 3.4060698507679295, 3.5787956266850816, 3.764468223694529, 3.5942436714575408, 4.035695076115585, 3.9254275388050632, 3.2158322418436995, 2.957250791374904, 3.5324211611137293, 3.317573364325273, 4.182198288730462, 3.5374876606218617, 3.6989909514368, 3.483370582995659, 3.442278194077748, 3.7342995941110333, 4.132317679785807, 3.3247281453419033, 3.8970340436818396, 3.3447148861562592, 3.2684803574115775, 3.180511914438421, 3.827896871758476, 3.785045858025723, 3.351563068075473, 3.5276626894816943, 3.468598845704618, 3.6850286698815458, 3.65241200130766, 2.3560490188481276, 3.0083279473551463, 2.950022575836961, 2.793362091678161, 2.155421139441448, 3.559882086167463, 3.265885884016904, 3.5866532732370784, 3.722432444403359, 3.5053771290591373, 2.8524240793655133, 3.2672448725316623, 3.4060411046317456, 3.49737375718178, 3.7779105253675556, 2.8684256130432213, 3.097998461792285, 3.5652108866346897, 3.5312081643946835, 3.6200217305358144, 3.4697170432615296, 3.898380435306493, 2.0604943127726916, 2.669286874924277, 3.442659387922744, 2.7440400036474983, 1.953706452441354, 2.7964441458369054, 3.3165018552608108, 3.2514969528176385, 3.718697407605515, 3.342758641304404, 3.2476053969246874, 3.421696320352382, 3.4220960153957187, 3.4923612367091272, 3.1364163834913903, 3.63201282622408, 3.0941737379929846, 2.974693072692613, 2.9570215563035926, 2.9148001018603966, 3.0820986870270413, 2.9686638429274246, 3.9382706266553376, 3.616821970495306, 3.1536043945469086, 3.791697675174234, 3.5661193689340194, 3.388019217385776, 2.5331517643565657, 3.4988275650415543, 2.6427873037482716, 3.56862268035843, 3.631292833549489, 3.722600142968573, 3.3781499931804517, 3.4076390437004553, 3.508643851444091, 3.5501086241766107, 3.094184433528285, 3.4359974034451275, 3.566191365786005, 4.211368188295866, 3.4508729888611045, 2.682475929206562, 3.275475664742859, 3.795412232792729, 3.465206452746525, 3.501622479802258, 3.287815989123958, 2.514306755207259, 3.127248886933292, 4.091360358927274, 2.691637163587063, 3.5802061195977495, 4.027114919815486, 4.375099774487279, 3.5240226036939895, 4.4460405305843125, 3.727595257971023, 3.991433582298168, 3.258649628001729, 4.066300769104257, 4.479050029283224, 3.524921618195286, 3.6164874209147926, 4.301580775373532, 4.111570643827264, 4.156301933826088, 4.235985985322706, 3.6172932530343163, 4.1920679948240815, 3.9943708500129462, 3.409298106605545, 4.183170018692182, 4.430590468886166, 4.316422669651733, 3.4590344755451565, 3.9817349137411697, 3.7879511870544356, 3.307229128258277, 4.3836224146316605, 4.070717109332128, 4.009450055400908, 3.2306268982823196, 4.069879631130908, 4.137077920308543, 4.3245150885309425, 3.399315279810087, 3.2184108077219555, 3.689680843735804, 3.979652242857053, 4.17338159638206, 3.8286711798023263, 4.213740527140497, 4.088093572756403, 3.948058422390345, 4.357815855951445, 2.3019999448029727, 3.066057261107832, 3.1667634860159386, 2.932171850656558, 2.482080162149439, 2.481942603213718, 1.9546634115045023, 3.6400880550108443, 2.1596358047891173, 2.8819804543162495, 4.145314905599755, 3.363271857646528, 3.8661222539691225, 3.003132642081488, 4.1272307847423955, 3.453442245898995, 4.251380978599847, 3.4966719557000423, 3.197263782484132, 4.129427254868162, 4.188463096929484, 3.6008495233460813, 4.086221335155103, 4.060271882719689, 3.7317243571778174, 3.9242252415606993, 3.1484113711537276, 4.207032616718841, 3.776851321017326, 4.061950687582968, 4.119585359067249, 3.1745654339806104, 3.17352476887391, 4.3648320465780195, 3.3773808636460183, 3.5615928993413064, 3.376374188897656, 3.3999251723860677, 3.6159182082328862, 3.9459599527297056, 3.3303326439273073, 3.628848373399084, 3.682371881693202, 3.585159567897489, 4.168341572420373, 4.114187753420539, 3.8764281928235733, 3.6228361552915054, 3.837407379116003, 4.143986291976886, 4.215792306305334, 2.9113504134087123, 4.0201358641057, 3.625974042853165, 3.9338245788171524, 3.5602880482219366, 3.5832593529721026, 4.45316833264103, 3.1757269475824352, 3.9465274541695265, 4.324191792012887, 3.9084035325454374, 3.5774697670683735, 4.191069890909644, 3.8784889559462403, 4.060403739988179, 4.027591699164498, 4.751830943542821, 3.7855467915460848, 3.7621418690000907, 4.086572479751065, 4.026491145478794, 3.960348449990049, 4.519486644647628, 5, 4.37016439861551, 4.51280680176213, 4.731158557251668, 3.7857475504535816, 4.220648318135846, 4.832054158572861, 4.317673456295902, 4.713258830612989, 4.1199789011095085, 4.593996126094141, 4.105751652978759, 4.357531368482774, 4.925909349760535, 4.657931012751248, 4.714785750533307, 4.179522035025457, 4.860078594743554, 4.83453797910582, 5, 4.379853558053571, 4.355091581761384, 4.51489726912025, 4.070237787534039, 3.493287833696249, 4.048214187052373, 3.4492431118060067, 4.187243895411531, 4.278816779205142, 4.237921201344291, 3.8911215237321786, 4.062404101635323, 4.477838312988439, 4.161005234570987, 4.264949838347862, 4.189450710270419, 3.8025870045008396, 3.2068964107898577, 3.1534791538976914, 3.3594697440499233, 4.174622916793333, 4.74699434079643, 5, 4.409681124760227, 4.328325979001166, 4.741286236215175, 4.588820522587226, 5, 4.269256493150428, 4.31205171727764, 4.800489345594304, 4.499225063606962, 5, 4.416388418425539, 4.452778322681237, 4.3541259100450205, 4.60458914142248, 4.979885956727029, 4.403286189426342, 4.044964468645586, 4.665928439983842, 4.2008696128042535, 4.172094616896718, 4.34068686269679, 3.993467838863444, 4.678447488823313, 3.076884667543806, 2.471007632915842, 3.050561616949909, 2.747805471179724, 3.882052526243188, 2.5563223737976637, 2.6311788724164407, 3.3230965069456913, 2.1027575695867133, 3.7334038910654765, 1.9098352131091416, 2.5196148393864157, 3.541950793952467, 2.877118701843667, 3.8607257763870098, 3.299194186767679, 3.0492719401868533, 2.3066890506088975, 3.107961821881803, 3.180967326956757, 3.1077303733711203, 3.25122565845278, 2.821820185062281, 3.5814615822751197, 3.0935943755575916, 2.6800687808610473, 2.501021867629851, 3.026329261725677, 2.9860647512169796, 3.351239695623625, 3.0168053117566984, 3.8595334498592124, 2.365058548144667, 4.043810197828344, 2.841993794029325, 3.1375321208437783, 3.443712236660516, 1.920134204296125, 1.596868850853898, 2.9400695939842327, 2.4902286914563097, 3.081497474523592, 3.5410738924693947, 3.0895785532342033, 3.8407084945011687, 3.3584271599660123, 3.7025936177342897, 4.348939658964323, 2.9518838452402334, 4.0959813996472, 3.439677704825991, 4.310712051800358, 3.257821206324881, 3.989443613298657, 3.1610844677936383, 3.8382450357859774, 4.403151344207611, 3.997992679119498, 3.721372269734628, 3.1372411836657683, 3.7723219514366613, 3.6546633355534297, 4.034933720628736, 3.6121736384634833, 4.035543425706329, 3.180426723016972, 3.9381674706747636, 4.305159470497498, 3.8261613855604777, 3.786961864027457, 3.6664112615696665, 3.9982879521810215, 4.6177605728214655, 4.31812414836672, 4.291291895046878, 3.9708324353536697, 3.419859227468492, 3.735910546546369, 4.491030475839208, 4.001230656005184, 3.4956143885217204, 3.204496928356913, 3.940074558953919, 3.548552294286728, 4.475190174937026, 3.6456670042510235, 4.250528837713617, 3.8419782927048223, 4.078973582755855, 3.885423363069897, 3.6066207953138196, 3.1346328869083244, 3.510273931637958, 4.437565421124601, 3.975889473800204, 4.129446347354852, 3.5103461838624557, 3.8389795314597284, 3.782533565222229, 3.793036044758625, 3.206701099956316, 4.386526825234734, 2.988946452086594, 4.157923935504569, 4.160497347482019, 4.138394627261796, 3.7129603739094366, 3.5133737606108495, 3.261478677218132, 4.005429820495655, 3.8142385542173214, 4.095706367703049, 3.7284224216363073, 3.942152936749361, 3.484485775065327, 3.5970959996732446, 3.037329588763714, 3.8779302878982036, 3.831822219658877, 3.8024921806801006, 3.790373070537568, 2.863790647572295, 3.648659582098347, 2.742629330990054, 3.4485736958483635, 3.79378261220082, 3.3267508266179693, 3.9115816416763565, 3.679544848520373, 3.9476577171301246, 2.909445434905269, 4.195185434064502, 4.31450335566328, 3.459844509743317, 4.297324735427723, 4.129281310970441, 3.769882554540095, 3.9579548796482955, 3.520847411488914, 4.037214903521044, 3.043184987082851, 2.8093414415259677, 3.4312350639398663, 3.57562280238443, 3.214619049286558, 3.2906041482409063, 3.8042838768756964, 3.1108809910466735, 3.6949727787756856, 2.9912176663895296, 3.6572096011296527, 3.83066961822662, 3.4687277328385, 3.4603101749513656, 3.034775679004397, 3.2723797436491293, 3.225367347276065, 3.5541000447460958, 4.024320925905346, 3.4932584180423634, 3.0420555791134127, 3.3132984288791296, 3.3994834915342746, 3.162894295216223, 2.7241208544775466, 3.653572911226093, 4.154008916646985, 4.038420759718039, 2.623153857468289, 2.8327077563088405, 2.863255879561334, 4.172718662478875, 3.203237590683959, 3.145506692766822, 3.152464691155095, 2.601714009895817, 3.345817166763066, 2.912270398777421, 1.6528945163665671, 3.3333120859519263, 2.9209841199537356, 3.1069475308410133, 2.685724127043688, 3.3672814614613773, 2.9377410645337902, 2.7530772237726966, 2.7289528171666984, 3.2717307671873606, 2.815704824725618, 2.8444547990835627, 2.904968441975835, 2.8564392015386066, 2.4139240354116622, 3.153242519936269, 3.1795594981996054, 3.6291826742412905, 3.3220844720582736, 3.296506571855756, 3.269327309699445, 3.188094955630386, 2.4465005794681094, 3.4321217882306074, 2.829570063918233, 3.7872387440088744, 2.901687970994914, 3.1155635475396295, 3.305288774120342, 2.684689179566748, 3.2430761816314013, 3.443032111488124, 3.7535085179181977, 2.876165818851701, 3.3682195061611244, 3.3029732837859025, 3.047445353790411, 3.602995183225713, 2.8934469403756076, 3.6053582833547497, 3.201189742477229, 3.461972579466632, 3.2167085615788684, 3.75529003325005, 3.4852145421093823, 3.2527301953889274, 2.159123047969119, 3.46145829155416, 2.754405005880102, 3.012513920799389, 3.5289570748280257, 3.577877688992765, 3.619774808018168, 3.6055833845785537, 1.787656661611673, 3.519651400051072, 3.656131891171888, 3.450814649412814, 4.006083107505753, 3.3554504001602328, 2.8343232046858056, 3.3659934923832657, 3.597224350921832, 3.1469012137443233, 3.730436361384763, 3.222742445284765, 3.583726740205168, 4.002744094610222, 3.9031418838751115, 4.300474597441187, 3.8530212493283145, 4.108061231586604, 3.9945464155249715, 3.9214584078758654, 4.2720597819127955, 4.225336978492065, 3.8185682600924964, 4.495376902248061, 4.603968171912052, 4.058930578708045, 4.056974327925601, 3.7416807569238997, 3.9192408174757474, 4.168449157873374, 4.097462824255952, 3.7863762883945125, 3.9882069859542644, 4.34647495238064, 3.615368607162966, 3.3665447476156825, 3.326830826291209, 3.833587625648476, 3.9513538561531223, 3.6658859731103903, 3.844940664860083, 3.84757037046907, 3.642338708414261, 3.4066954797941875, 4.01467552518275, 3.448732376280132, 3.427986708347228, 3.2898831905542005, 3.762655852065317, 3.7769234731149197, 3.861687459528874, 4.17700359118372, 3.9931634813135437, 3.825326415525906, 3.456410104082453, 3.806265526790656, 3.579215405528702, 3.90617029782072, 3.553247507230532, 3.1019431454042037, 3.2412919978575627, 3.703844871023061, 3.680235443799557, 3.7900472774139757, 4.01491145240858, 4.011710704635487, 3.943290181729482, 3.5456785056851126, 3.357651252898334, 3.999151104221082, 3.8416533307884033, 3.461050159424492, 2.8440060910448146, 3.189835393731571, 2.8223743402604295, 3.6994554440106873, 2.86208927371571, 3.516225897704287, 3.729683638124018, 4.248383257781803, 3.1743980318152825, 3.6033794641003434, 4.006347918437401, 4.071509980319555, 3.8089708557340356, 2.8612479517367913, 3.7848797769658256, 3.2824192504125245, 3.6381412276566842, 2.7239648146986184, 3.051882663769867, 2.7751404047284813, 4.430002188491438, 3.2219306881644765, 4.155500192176149, 3.7040184209631657, 3.656291280199848, 4.1575323534934645, 3.6964655381078115, 3.316920110463496, 3.772929102067438, 3.3277334938551792, 3.3689773481640897, 2.9925293330222766, 4.088460443978621, 2.6116651781807767, 3.4044394643198026, 4.169976114859751, 3.878616716582144, 3.494437714918643, 3.4616287220082596, 3.4945609073759023, 3.0612790219069264, 3.0314584869246133, 3.83241394743844, 3.4056716625617733, 3.624130176239642, 2.9526290266065796, 3.864040185747747, 4.257536583733301, 3.442497553774685, 3.4456070810057655, 4.121893955393562, 2.864570889090345, 3.608376508095742, 3.1578605637959885, 2.689456580641807, 4.077425594798134, 3.6684402512172434, 3.3174111932923394, 2.885466824341111, 3.746786764463035, 3.1736980881731878, 3.1598852810366247, 3.8916242074798815, 3.4703890134655215, 3.9849006558962285, 3.8447608456092683, 3.462977399439147, 4.43222655025761, 4.314530221580952, 3.0322464458253076, 3.591018121020626, 2.934868268261316, 3.741211766887598, 3.9532726289996676, 2.681131182078046, 3.382567256421454, 3.834202209826513, 3.4706279204218036, 3.0193704250866675, 2.958520753499754, 3.250846180546357, 3.1671714779629454, 3.653323124210236, 2.9982215083301864, 3.4810964370746587, 3.196966257305049, 2.6019623569350157, 3.2764985126692827, 3.4099552507106283, 3.6071946851149725, 3.0336028502114574, 2.8671933739958417, 2.5490107642972366, 3.5308762823767057, 2.7103087862927957, 3.926759984087163, 3.8846992329917045, 3.078539888112296, 3.9909402400264793, 3.405800225856473, 2.806591294171261, 3.2033918888302293, 3.557481831867691, 3.841880178256787, 2.7831511907826396, 2.9687559319462222, 3.3137973098425424, 3.5919151250812615, 3.746830453149698, 3.1453991266426624, 4.048185974769646, 4.117706104637921, 3.9974300647354037, 3.2203660492379877, 3.041200018695785, 3.6227000670371536, 3.405874181034709, 3.7177368244087186, 3.196798615413104, 2.87326913376871, 3.112944997069687, 3.2070051069694285, 3.633463054288506, 2.824691962386364, 3.265205606295297, 2.975273393983231, 3.4496553861455226, 3.1701560785449767, 3.8518953346224376, 2.8607166833565234, 3.634986644093912, 3.838470988455353, 3.283280612241849, 3.044543615283315, 2.919176461390439, 2.6383224388699675, 3.332444062255154, 2.878950446704383, 3.229869062375055, 3.1658477113578236, 3.468718353712899, 3.793668042411582, 3.46686792451236, 3.745827198971167, 3.923237952175461, 3.677063691407126, 3.9170109794989685, 3.454254314232414, 3.7249989088461866, 3.797485510483049, 3.584569949101095, 4.0318686204860175, 3.4516307289909354, 3.30413626230671, 3.2074768129127946, 3.9612578610377334, 4.364534693074448, 4.293613158216505, 4.424777956278699, 4.484521046034264, 3.4186840386674113, 3.489002011597888, 3.956791894291086, 3.9009857910766037, 2.8341114887335035, 3.816423286840988, 3.9725897260814933, 3.86482481805488, 3.208355269358141, 3.2798441222701764, 3.122863935730961, 3.750448874171611, 3.909447840203771, 3.105650498288226, 3.805704400220326, 3.7604885039492446, 3.984925227674104, 3.335433641208488, 4.476474970739116, 3.44093514451252, 4.417360381104739, 3.5339822482789356, 4.401896235647126, 4.022197121115072, 4.169642620926963, 3.6623213389486176, 3.144589767926513, 3.2724043212030964, 3.0286953143535804, 3.810428432559721, 3.876815987798726, 3.9962965965676625, 3.9864794998528494, 4.2140045815349065, 3.6329498837213756, 3.191983249627644, 3.4534238977655587, 3.6726194277711266, 3.2309098865904042, 3.3523100981510847, 2.6479188918933447, 3.03755698651344, 3.9476513788018615, 3.6840290167480068, 3.210781574000604, 3.655513318531227, 2.722608691355431, 3.4517259712554873, 3.182970358792555, 3.929753175756377, 3.7421626675011797, 4.067262349755431, 3.697253510953572, 3.818761115147887, 3.8556342535818673, 3.9371186386924752, 3.63719976279625, 2.9538429029299538, 3.011947922387683, 3.3980590850223544, 2.957052074619283, 3.0355021595742326, 4.078509050567691, 4.10222618910841, 3.9080099984582093, 3.3172461472318497, 3.700651771512745, 3.729282580992219, 2.8554801311716367, 3.9308143694070776, 3.176097947768658, 3.397556988329119, 3.279023821822975, 3.781160772700732, 3.1211777423890075, 3.9593272282229104, 4.123884207726959, 3.0457743707616385, 3.5293119403592894, 3.7020288972115014, 4.343122573537783, 2.9055397568168084, 4.179915500210972, 3.280863334714879, 3.446976985915853, 3.925782555872124, 4.139759725288529, 4.1216544138218065, 3.9232062550351747, 3.7562238175281073, 3.3470111860487233, 3.2160221480234483, 3.475747852042117, 3.295357976610815, 3.382738572116212, 3.2671004998225124, 3.130531805045562, 3.1659490477968095, 3.6035055435984207, 3.365758296205142, 4.016079350148685, 4.077066162987719, 3.9784260555292197, 3.5229526078897693, 3.673190007415858, 3.537068218934797, 3.3411410472022345, 4.069246978178112, 3.6657227558457404, 3.339012104849988, 3.3456640885663482, 3.9574900014710583, 4.217023285242961, 3.5267362807751312, 3.699536132601016, 3.5943502226042234, 3.8885166256886836, 2.9142504582386257, 3.351745249133733, 3.623775996177945, 3.7388612604547315, 3.296932111765073, 3.504658729003549, 3.852928979331961, 4.69085708352163, 4.216380717431501, 3.6235242578762756, 3.5838973786467174, 4.171070436568327, 3.543885915246341, 3.9932171210675116, 3.2279595806141983, 3.774197640243771, 3.597066983250271, 3.911765029288992, 3.9277403527543524, 3.811753479851911, 3.898704020202494, 3.865300531205387, 4.042527656705725, 3.9404327148295124, 3.5868861595385537, 3.9713001500908582, 4.051361203009987, 3.3088705752291663, 3.254897922941621, 3.7177126427284435, 3.6967128395906843, 3.4124590379156876, 4.36696341880198, 4.4041572125035735, 3.8297378817836853, 3.4212900925493748, 3.697365538713394, 3.851986729975357, 3.9663785505079754, 3.608744273150192, 3.724094136048919, 2.778071662658353, 4.379981146876535, 3.2233944242747663, 3.740685499545138, 3.143727844729242, 3.941173276700149, 3.613434774882282, 4.182009820073093, 3.8416996747034755, 4.119299184866211, 3.5283707695339697, 3.411368504356382, 3.604536736076948, 3.616689589676659, 3.3487259171367323, 4.057599182894972, 3.4653637197129616, 4.376010719811133, 3.5092881744779025, 3.607741827294907, 3.480595548200616, 3.2850864473138968, 3.5364022579796623, 3.8729585356276575, 4.2428429547149715, 3.6062411805244006, 3.5811195817983954, 3.137709179377491, 3.1404482377260377, 3.6878686353791723, 3.1024183833031973, 3.329280242853633, 3.706555327826112, 3.1982210930255923, 4.008917100372551, 3.7646987456475567, 3.5783273240767985, 4.269678033112038, 4.087860717291589, 3.4804427617448064, 3.6908815704726785, 3.0075580840224, 3.527883801202749, 3.1708033058020346, 3.262103869348935, 3.668608861499598, 3.4724986243520397, 3.0879647087186393, 4.04700284523872, 3.5892517922989917, 3.4262523869802948, 3.5698406486167498, 3.957067184990055, 3.433248380201424, 3.3625532166597583, 2.780240828559889, 3.2663192161784655, 2.220861360552522, 3.7687871439346456, 3.503923989256242, 3.133713054636228, 3.1759521054971556, 3.625982685236393, 3.7657046163693555, 3.7226246845278133, 3.494528114992668, 3.6348291010160145, 2.5558557485671427, 3.924735758162224, 2.573485997894091, 3.659754568448418, 3.1564648904874004, 3.6038213664099703, 3.312808708526402, 3.653872207051391, 3.6630195564021957, 3.5849299960276695, 3.393810715679038, 3.4226279398114294, 3.6513193976918523, 4.466211671134685, 3.7696945069408807, 3.638589889885173, 4.136928429388588, 3.9899243000162667, 3.9657436317827526, 4.129252433465608, 4.1437354383664236, 4.503894769134232, 3.966095460685943, 3.551690854257308, 3.9630911175073926, 3.3801031591273634, 3.7130390651488354, 4.000765778110524, 3.564312201680736, 4.173251075292591, 3.810735569615159, 3.4332226570239714, 3.3382179994491694, 3.655781897056772, 3.7764814648583673, 3.669976128462744, 3.7511767612932365, 3.271980879707658, 3.646227155237078, 4.153926983074586, 4.092062454438279, 4.002712225013512, 4.08016709757861, 3.524808648096605, 4.396669850076676, 4.26032795097577, 4.131830039264334, 4.126023638171133, 4.349873994150464, 3.699665644082465, 3.825845041911603, 3.8044627805871087, 3.644935235228556, 3.9315351787590935, 3.5572912290438845, 3.3438413268300944, 3.6132665943547853, 4.224869416425925, 3.7074046840920016, 3.2363199582502675, 3.4876786758820306, 3.968866782985312, 3.0858413097168698, 3.593968989130412, 3.7647808226590502, 2.9848580602068107, 3.4717008200405655, 3.7464784125421087, 3.2458816990441437, 3.7311355638310593, 4.275996879289807, 2.632278900878504, 4.142634804837152, 3.5479517585734537, 3.8218674495506213, 3.146137606451074, 3.60986341878528, 3.944685519112378, 3.4915518908016816, 2.481350887643724, 3.3029507293219713, 3.7050476249737345, 4.140869761046071, 3.4514744009298783, 3.469823997003479, 3.3737429367222123, 3.7660433439543506, 3.7527108397871376, 2.9804170592194663, 3.5826571403580556, 3.743336725769522, 3.237012794446639, 3.8885282304047757, 4.094974252616768, 3.682800571154125, 3.3318772364958997, 2.5014382589659605, 3.249376491943437, 3.431931124597634, 3.3361922513054285, 2.366020392810336, 1.9716933295864794, 2.8656323217780826, 3.2717028742949212, 3.05117646475507, 3.50904430331752, 2.9148134322795727, 2.156975710067663, 2.1605531080879006, 4.132299056246013, 3.691321908565319, 4.565564851163196, 4.974216625689833, 4.0289578754875395, 4.784190803376862, 4.056619747582531, 4.179326770113683, 4.511248323369938, 4.6208547022367945, 4.685282702602841, 4.493996574622941, 4.983892319068795, 4.865824188872027, 4.070815606635344, 3.4940681330310106, 3.4545398767568622, 2.699794132920705, 3.311274882398129, 3.013730170085362, 3.1118727780553055, 3.5613606511784313, 3.5741801690494186, 3.006078593949811, 3.2621214636929508, 3.12564195358526, 2.9141353483867407, 3.7010275600884386, 4.051514048388415, 3.45151657339172, 3.260011465830137, 4.3987438530602905, 4.271694900567718, 4.360160110950082, 3.1441310515323377, 4.015425317020126, 3.2140759585859606, 4.819803462081935, 3.787359665279389, 4.306563674380195, 4.635326090931495, 4.540277991823547, 3.9294366376152827, 4.230588292813395, 4.540172991256501, 4.162984757944602, 4.088115536790713, 4.3107925254320625, 4.791226624333402, 3.8699841109036086, 4.253367296000187, 4.349674764584198, 3.9365245960067625, 4.684409567755527, 4.185459837542954, 3.7704633951409234, 2.892970326007276, 2.8260824703850878, 2.589311392807133, 4.22175697662947, 2.831071309310101, 3.594783507614244, 3.4398948351794276, 3.071485961478437, 3.686405364146122, 3.0877924721420418, 2.665225205208698, 2.199835918913448, 3.9729289600177253, 3.0840011247238217, 3.6498647087660796, 2.88377277162508, 2.993822824216839, 3.93111048069844, 4.5214509145786455, 4.1056396111169216, 3.4524452521174616, 3.550943995030978, 4.112798151473921, 3.579107203246621, 3.8695129761746725, 4.100386675612309, 3.7096346438224863, 3.477206498133676, 3.789275760271908, 4.948242565527845, 4.285271016417736, 3.6456358400311104, 3.9685631229897207, 3.2519999476917882, 4.312869243362976, 3.1204631457085963, 3.8209153946328906, 3.972578723101505, 4.218321321038054, 4.1750953707934375, 3.2382635744200603, 3.155150360777714, 3.3208010359847178, 3.5472332880905197, 3.3211569417937756, 3.501882871501695, 3.804152184791654, 2.882235372529775, 3.4791145042880687, 3.9010966343588276, 3.0077295511691355, 3.656711199895493, 4.102529001725058, 3.272374028062904, 4.305925935625557, 2.7147049175241964, 3.319486378091525, 3.117726432155489, 3.8194226318565647, 3.216159118833832, 3.816171328500911, 3.267595675189752, 4.287182491261299, 4.072777727599665, 4.21492171339187, 4.123569166138653, 4.00997581254411, 4.4929444207647355, 4.112166880376175, 4.428441303817273, 4.462486307199262, 4.679561559013886, 4.254656829965246, 4.294052853961723, 4.437881978523221, 4.473213245306314, 3.860352379122926, 4.6850319786884596, 4.3342236097609215, 4.0911683967450685, 3.5066431915549634, 3.9590788586051384, 3.956245308999189, 2.5685678813055532, 3.8101004462179544, 3.8720122840752147, 3.242426345953812, 3.232476240987475, 3.6730619435499787, 3.584108883277169, 3.608070762854873, 3.3188490210576758, 3.0557572498956986, 3.5253998801616686, 4.161964615922999, 3.4156996510587465, 4.2718409398522414, 2.916012265128107, 3.5501469226635467, 3.4540027447194825, 2.2300698958715417, 3.25742441363017, 2.8482556134225683, 3.7409923354645844, 4.1022544334282, 4.298837488548299, 2.5500827060440066, 3.063042867161899, 3.3309843220614135, 3.3579848881314547, 3.688591190525416, 3.3808959346361793, 3.1889198073998934, 3.666438569338501, 4.2809281633334875, 2.995308571208391, 3.4800930997615898, 3.6618783320281025, 3.5774808905120716, 3.240083962264245, 3.231232994194011, 3.0344568945384944, 3.6495157953427184, 3.810511334844207, 3.397428205021001, 3.3040440614457705, 3.0239351181835232, 3.17608893584755, 3.943831895313065, 3.352061663343454, 3.559390835339027, 3.0022614432347603, 3.213270731662359, 3.0712393781297878, 2.6743429531444836, 2.8556234927184834, 3.6680685832436364, 2.730816429598864, 3.053563112922932, 3.5768348539291686, 3.5829580310276454, 4.05881992842408, 3.485345905621011, 3.7450884333052388, 3.893682718805045, 3.6559205270800255, 3.0574949943764937, 3.966510210265775, 4.314115272387354, 3.821728514952843, 3.389827976721831, 4.114519987123901, 2.738431290546654, 3.4445273871840874, 3.183669903542337, 3.1798705221789425, 3.266459087516158, 3.5075250536260185, 3.289125611613217, 3.445220960173773, 2.8614157610265223, 3.145528020490762, 2.669904870864329, 3.573950994184212, 3.3772999076318406, 3.067276924855909, 3.219363894629305, 3.1907301597677207, 2.665790127207518, 3.411864434877513, 3.1631087668001867, 2.5061106142881355, 3.505617850777368, 3.3457595917513836, 3.720307605722557, 3.4011415062211916, 2.7221248681590895, 3.228473323638005, 3.326280090381733, 3.21858347523962, 3.843344174971096, 3.251447423009835, 2.9985816212086855, 3.6603636365687704, 3.442266118205722, 3.7357082173866076, 3.243285011291256, 4.088838710518564, 3.319577237014351, 3.5410947179915007, 3.725649338978478, 3.1514701982047897, 4.037607442702045, 3.96783369621134, 3.411521482425544, 3.3203877401471393, 3.564432682746, 3.8636522056412086, 4.107485718455258, 3.406102542116279, 3.6149359013219273, 3.1548862507538034, 3.4543508404057013, 3.5725602628635587, 3.1386862160415663, 4.000333657266984, 3.3624429871610113, 3.298736283012731, 3.3488492063745485, 3.7485768260719077, 3.9373975074779883, 3.6783110943366815, 3.7899948828493524, 4.08463001553822, 3.736488597710127, 4.0521960203651535, 3.724361613811474, 3.9109920250141204, 3.667036379562837, 3.495227213341076, 3.662006329913845, 3.5396767639441182, 4.207813986863471, 3.8510109981596434, 3.6520777726959954, 3.5448157117227774, 3.730674182646079, 3.841301790781673, 4.220460667585241, 3.8493445003856728, 3.9946606391044566, 3.714650288639517, 3.9968564221632312, 3.827141175951704, 3.8591646152263896, 3.728119613272722, 3.695671392472306, 3.6913104006112034, 3.793522274230185, 4.022359466104147, 3.5458860257924103, 3.674164492317337, 3.6724726090559017, 3.5014252351311375, 3.787308056855606, 3.826855918943643, 4.1774447736719456, 3.287356951150941, 3.694507680842701, 3.7750493059279364, 3.539719409808279, 3.9659697901350426, 4.111722718690386, 2.75123900997208, 3.836485073213391, 3.8132064340835887, 3.5193144068229496, 3.655248178120742, 4.073553326843706, 4.141448521612297, 3.5981013490531115, 3.2857731055794197, 4.100407366290199, 4.241730273902516, 4.284761406033974, 4.383059265234262, 4.791964198428317, 4.517517329714931, 4.5291048075918185, 4.114928851214883, 2.884858228789481, 2.3222049259615014, 3.289284863935147, 2.697828560387613, 2.8070636014440162, 2.5806036482311727, 2.409574875922161, 1.8076167821695188, 2.1556073472432176, 2.8321889046563475, 2.4109282442664663, 2.827081256595892, 2.155479172151351, 2.6071430209737856, 1.835089022481068, 3.04696568075617, 2.384246621358029, 2.323747070529298, 1.7181999407885344, 2.0197979024374417, 2.6493311567443127, 2.3418783779656724, 2.3722023537306547, 2.901322672574925, 2.14102013653033, 3.0249826489853295, 2.787246061998493, 2.0453483238390566, 2.983347540741553, 2.543351446670671, 4.013815670794085, 3.6149465211675778, 4.142871554719291, 4.0240577749424205, 3.7388866816462425, 4.290525616426256, 3.919272531096605, 4.378260073295479, 3.4499664851821867, 4.38656878812181, 2.695056020390606, 2.770454270907388, 3.5778778986607316, 3.657200991897211, 2.600422615089272, 3.2485425294391015, 3.1578931974318634, 3.0382426587468783, 2.4200912465955238, 2.5657197262299114, 2.6381719882668975, 3.168138726938933, 1.6921916758860607, 2.930942339012568, 2.920561043351309, 1.7726579947492112, 2.7647744689553666, 3.3702264067074275, 1.9328874248476275, 2.3096741408468104, 2.5399134941695154, 2.8959043782589773, 3.0113435165940494, 2.1780361326499844, 2.0338009942005257, 1.881298523689396, 2.683016143829077, 2.7201048855301377, 2.154116704471546, 2.1174701249962276, 2.6713392673641323, 1.7697916314417663, 2.311275287509072, 2.6675220198079765, 2.933777277750554, 3.0367870298416073, 2.2630399226230646, 2.6517342818110903, 2.2128702765719788, 2.6908994588212085, 2.692431075117365, 3.016800392366589, 2.6140209455342798, 2.5937676819078384, 2.9666445954818883, 1.4810119742046515, 2.8613428434920674, 1.7296513749746034, 2.7096820793890335, 2.46257035162687, 2.5592046658867957, 2.450181053401971, 2.134789514515612, 2.280651594288619, 3.0493463404634533, 2.003326081736865, 2.591016305762533, 2.505346539195371, 2.6058635658758105, 2.5045104587437024, 2.969347461324185, 2.6348687268374684, 2.7907169600262662, 3.0816138014649135, 3.269547305029962, 3.5979354413866576, 3.6090890716503434, 2.9418868541752805, 3.0059137001465315, 2.878764535377384, 3.0005953116911717, 2.8035162105941374, 3.2276788441427633, 2.65065258487658, 3.4147718066082047, 2.506428711824149, 3.2451035919070157, 3.073713627889713, 3.258865750815668, 2.1394596350840427, 2.08093909700199, 3.3388990640035954, 2.5334098388342134, 2.407346150735551, 2.738711174736339, 3.136440949584872, 3.5103738066159877, 3.0128494585860217, 2.716007327585985, 3.2414576799393817, 2.9657252444042066, 3.383835743987976, 3.574862786423954, 2.89391988479226, 3.061076800313575, 3.2250281262304314, 3.578827116735712, 4.158505519294599, 3.231582226080338, 3.8143453034477184, 2.4136982365138215, 2.686642996183148, 3.357791621526099, 2.114016684337727, 3.9232538239868626, 4.230971984547698, 4.367228931410592, 4.063563299391961, 3.3103488320765004, 3.1544154155078785, 2.72226533875822, 3.774625246970481, 3.773738807091615, 3.5811229761445453, 3.3962868446308625, 3.492466311080352, 3.592506878535563, 2.8114166543719636, 3.3938847741044875, 3.116105164707376, 3.0012049554238898, 3.2239243107937523, 3.649981976168748, 3.226188122013784, 3.9547018125424285, 3.954297651966964, 3.3803298441296024, 3.056995387920093, 3.9996733045351682, 3.80484427630255, 4.030213564658596, 4.249698132043743, 3.7083777557198028, 3.5906877299261954, 4.221685985567624, 3.701845194509805, 4.144101054143453, 3.2167416406086393, 3.9182994389390995, 3.9047180173835265, 3.213422673011594, 3.9385504354004865, 3.7804498787935286, 2.846031440285561, 3.95434292817349, 4.1432054240069744, 3.256759114032059, 3.6838077799417057, 4.1676540264668205, 4.059836399312571, 2.7994575144775213, 3.4588102358480697, 3.8098528712401025, 3.85727166691863, 2.818028329223843, 3.6451521367260873, 4.020229314424219, 4.119036323265792, 4.166128230218643, 3.9054419630088812, 4.212515574435926, 3.4869190833182606, 3.812047984173008, 3.4614174430978237, 4.097707495651392, 4.668817724678825, 3.880486747788242, 3.627517078985911, 3.1741411391166983, 2.844520843849295, 3.0773463016360862, 3.875107711681263, 3.4438504221665562, 3.506770376053831, 3.2379258427348456, 3.494906277170602, 2.761366647477071, 3.4254862043204555, 3.070185032541313, 2.640613803583953, 3.5999109538618876, 3.0387441662644155, 3.5488860103001127, 2.9565311387874504, 2.776678874330382, 2.9219876926635333, 3.1270413391064698, 2.8229366452304125, 3.595377864688509, 2.5058444231962684, 3.521475760631587, 3.609159930271891, 3.4741997552791184, 3.215385527889923, 2.5761992209367426, 3.489990941376245, 2.9465993674120114, 3.5295171480804415, 3.6208490744486515, 3.5312248202241476, 3.066943353390735, 2.819356485377007, 3.4387120006236676, 2.5610305009765932, 3.4595294082844172, 3.6901585492516333, 3.5234203723817275, 3.5896269492387636, 3.6977415369026256, 3.3959908834359553, 3.492016374921452, 3.3261742907705414, 3.5856875258041065, 3.9251062013287608, 3.101639924096741, 3.634201355626482, 2.9946741222221616, 3.901767449109473, 3.476380089043958, 3.4393432035706684, 3.1174428887098635, 3.095055121650246, 3.7350774277410976, 3.5439479320675598, 3.060552808140363, 2.6352387685110443, 2.7625930838099686, 3.038346614696666, 3.669397236809277, 3.1678752491203626, 3.474333647547022, 3.1010582563733076, 3.521903963058805, 3.4485329874714523, 3.6400376269296024, 2.9576546972772366, 3.4747721005936185, 2.1364770770556647, 3.1401230687121218, 3.2294929232792495, 3.3455026444164755, 3.538952400849461, 3.418144181564203, 3.600916551432697, 2.8665675057936486, 3.338827745159549, 3.6404851130320623, 3.7776131590161954, 3.1902335968881066, 3.9241350832448965, 3.948936966800256, 2.939042239973451, 3.238728813473673, 2.8644943839097308, 2.7665186487591145, 3.4500082550691187, 3.2010073810476354, 3.37323579877544, 3.553446714747727, 2.6438365045846925, 3.561404465446965, 4.117105782621517, 3.1469118471105264, 3.526441387170666, 3.55119450196276, 3.2272867152307168, 2.805322872351983, 2.704743678430266, 3.35411491608274, 3.934290061494234, 3.600195051845645, 3.6687300520958055, 2.44781277282905, 3.34525714174561, 3.394714706054897, 2.6729240911731225, 2.7616790391908466, 3.5359307995282294, 3.8236222869871863, 3.1742465263060544, 3.8192371236590636, 3.6313436831570005, 2.091767245583621, 3.448027009663773, 3.501028323635097, 3.701715630207224, 2.684889404987084, 4.071979139718323, 3.841977191474459, 3.830525178214406, 2.640291214478056, 3.399445225996123, 2.898270459806034, 3.32157998502643, 2.987442461887613, 3.212764663659322, 3.8366943509472216, 4.111325606641787, 3.490955138054626, 3.8886778697199054, 3.8585495814190343, 3.259525236304759, 4.616309051605811, 4.3737092769385715, 4.601082029338163, 4.375023413186736, 4.775675085563901, 2.998433529020308, 3.9040188642606286, 3.291137656105402, 2.9030619715109363, 3.00629512732371, 3.44304695030412, 3.4104384904967526, 4.10389643134376, 3.767677839441693, 4.419343309396909, 3.5714505983258986, 4.319979313238204, 4.171665146836211, 4.493691507066439, 3.86766076556739, 4.09518475606902, 4.820737864840473, 3.5374814573576367, 4.339478542632547, 4.670107493740371, 4.11360042583613, 4.200066548481587, 4.178921180895847, 4.489406139658726, 2.6773682730105044, 4.033131712833744, 4.078105109956957, 3.5477149839811277, 3.5517532929897366, 3.383970725695163, 3.5710128657872398, 3.7449860996428, 3.770733258123266, 2.7098644553182383, 2.627446031327581, 2.08847718078914, 3.0508674452136324, 2.696004189664483, 2.57837555185577, 2.896617612694625, 2.975149986112602, 2.3817477156651115, 2.9914117680936587, 2.4951976699939156, 2.868971495449699, 2.6207849637634455, 2.139851417168404, 2.457545530015881, 2.2963605024614275, 2.9197809299932875, 2.742257987975642, 2.234600325387302, 2.822629376407781, 3.096453245553221, 3.8134484144591636, 4.585198798679979, 4.22682230194501, 4.019212377932494, 3.948618945495051, 2.665542307896497, 4.244380642846191, 3.824177342432218, 4.074820059664944, 4.497200769785954, 3.9478214353334438, 3.390619085442241, 3.8470639433210128, 4.128822047387247, 4.305551276462479, 3.3182739729266775, 4.014602221509365, 3.7812682472556305, 3.7185893525042313, 4.052477333881181, 3.7098656928437697, 3.315022578184129, 3.462238452263735, 3.527772406256623, 3.1158458016964046, 3.6250120341904957, 3.657936565099119, 3.1126777502363394, 3.534789820156252, 3.5417230684391128, 3.347910656433898, 3.5189052470914897, 3.3660544400674532, 3.802321801075659, 3.640256947877905, 3.5301846056325044, 3.301844698326952, 3.839466320689605, 3.5981231781570773, 4.134491991811734, 3.935986387747785, 3.784739343101662, 3.4163652522924512, 4.132560058978471, 3.4539191030114593, 3.2091444153881725, 4.028151027380117, 3.705974167521311, 3.350655881582201, 3.1982998943148084, 4.047410398371299, 3.9839207228543594, 3.7323123792087505, 3.834990550779344, 3.6635545997479237, 3.8882453234992513, 3.4148043210165513, 3.1105983930345693, 3.6474646285384176, 3.1227501581950823, 3.3165908623408704, 3.9927704110737094, 3.806157456863519, 4.169098177645532, 4.432437349630971, 4.211339202173029, 4.333432843246509, 3.5656558951153468, 4.9791640028421895, 4.355195349223225, 4.134853853815338, 3.254300133136535, 4.377562337770788, 4.599236764722247, 3.089571752619669, 3.9494474348386617, 4.34854271602409, 4.188349010947118, 4.113484321812175, 4.115613723717119, 4.466180756607832, 4.1843992467085664, 4.183627261970769, 4.134668584019503, 4.25784471744292, 4.034787270140389, 4.026113338165584, 4.383365788866287, 4.437895794793922, 3.767989184480756, 3.7507025415191, 3.536063332382158, 3.3580362468858813, 3.2610115088079183, 3.6042811480717796, 3.5828994254202247, 4.078723049417031, 4.628221676852416, 3.83066225519127, 4.536226706116536, 3.5702960451751955, 3.863282874888589, 3.471350506102202, 4.346495519861058, 4.156300173629232, 3.6724752401634624, 3.9792763567358103, 4.4053448311085655, 2.8492119281557575, 3.7798128970901415, 3.8389664052586965, 4.246032492109682, 4.192657157139039, 4.185381545448201, 3.9149095958579, 3.242486510774723, 4.043437017679111, 3.2114930347211175, 4.014457249038673, 3.805593754618996, 3.1890661921263943, 3.0195433714801534, 4.251954428854492, 3.545091516878907, 4.127613445789218, 4.095860498931997, 4.222349045265221, 4.144234832079561, 4.24853441476039, 3.714240091840065, 3.9460258974709674, 3.211848718616596, 3.8459357455246623, 2.8950907378427013, 3.892966539070845, 3.0186452904211696, 3.160832423202549, 3.5539149601798825, 4.361857129516489, 3.710706896722293, 3.133270363713105, 3.988845389672618, 4.125370947513548, 3.7364031968211475, 3.5833071852002734, 2.888479079942228, 3.55451308236062, 3.4393840169174474, 3.996105645387752, 4.362788317303092, 4.466093583017107, 3.8584626957883623, 3.6257874622095603, 3.791128712737212, 3.3890974174491366, 4.381726491083662, 3.826558100779025, 3.0762188812656195, 3.575431271334503, 2.7181827661270366, 3.038812419941075, 3.054360033753116, 3.536357007223773, 3.319018250648773, 3.6305871695619025, 3.710079568468062, 3.491601791887121, 3.7239996051412456, 2.7833166161386913, 3.0082344532454064, 3.381833559764902, 4.542175303369821, 4.222231667591249, 3.925615195494389, 4.333700380255249, 4.3720287048334345, 4.286794109357137, 4.260410856236418, 4.703004684648238, 4.365095329782194, 3.746341972166762, 4.066001917671041, 3.5142440715576053, 2.9366137857199055, 3.9728862697844267, 3.5849250577145204, 3.8947961999396563, 4.101856675500994, 3.940435291945587, 3.557148265474409, 3.7765699100710095, 3.6510387009721783, 4.144283651054635, 2.253813646289451, 3.9051552230426125, 3.7551872931770434, 3.45583886963058, 3.9519815673345473, 3.6425378578421745, 3.133960177010497, 3.6622305617427617, 3.976404859924436, 3.678457227366967, 3.9505375487048755, 3.3266699024417705, 3.746644867135726, 3.6184304359358994, 3.766846284154177, 3.4579718107418094, 3.7307637309224186, 3.2065439906106867, 3.7631807789911256, 3.7549288517464583, 3.7227822434678264, 3.947985493908612, 3.7788684945325333, 3.4164230559750117, 4.033265458423546, 4.269704083689041, 2.726009722506035, 3.7458927631097154, 3.780901098927747, 3.1956101733506084, 3.416616649650229, 4.208226565760328, 4.117868250140668, 2.747915492840159, 4.079157505561083, 3.2801860626997774, 4.166427092505455, 4.147286610501599, 3.964796431547182, 3.232489748495325, 3.5415987549445354, 2.991686460751521, 4.1407889968073235, 3.570252956662264, 3.4306035375527326, 3.6814226705874944, 3.2300893352518165, 3.03612086698251, 4.2942136229090195, 3.007476900397841, 4.1112296413176646, 4.102475262971801, 3.9856588844113348, 4.039108204229977, 4.4882148401754165, 3.9404724496617036, 3.6941555126522716, 2.862125142679209, 3.5311703483884083, 3.421764354855476, 3.310845785187406, 4.051086901670442, 4.024210054527483, 3.582371007004736, 3.480170063041802, 2.2188357255839515, 4.215958451023169, 3.5069210220356695, 3.6286796832310544, 3.8484033397781308, 4.234225008470385, 2.925776844634341, 3.4886903461394425, 3.9501825367790753, 3.8121579116514357, 3.6750673223400776, 3.4885588318893945, 2.8779074987695927, 3.9410165934523333, 3.664434521678078, 3.676012121596976, 3.1166851121149777, 3.673347156473027, 2.93033519746202, 3.0187858823578235, 3.7847654670209527, 2.9536612555245583, 3.6744482923760655, 3.3857638246864132, 3.4619134481129996, 4.377208114568961, 3.8293477071451125, 3.1717919737455342, 3.722054485519545, 3.2844120968120336, 3.2635778457282956, 3.6046211737005174, 3.662174604298663, 3.606177799873483, 3.3446142716274228, 2.9427018227903154, 4.005009843979584, 3.426341357968303, 3.3767512054031608, 3.0039370389584747, 4.149593835507877, 3.7658819757393927, 3.4713275003649007, 3.4351140554381465, 3.83123477113621, 3.6438762982816773, 3.5307372461844673, 3.0630306768982405, 4.400712742922241, 3.670432607334164, 3.280075974934543, 3.073623340126769, 3.7087514633342025, 3.4827622824226525, 3.366553456280877, 3.6698547207213226, 3.3388844093527856, 4.134442500177551, 3.8759555027788295, 3.245084580927526, 3.4469754787028615, 3.2611020745907116, 4.023498243847233, 3.1014640062056027, 3.3918827014717396, 2.946170643300759, 3.2994582651501636, 3.392614080659881, 4.253867809311988, 3.4282023627279528, 3.848822712873019, 2.7621007378415783, 3.9459700384922702, 3.3464856763421897, 4.389815823447543, 2.8738028800440234, 4.106798971448955, 4.231608567596385, 3.446021922474551, 2.584190897893119, 4.26362295708382, 3.9385366358750846, 3.3296000047325123, 3.550119089233009, 4.118543936208586, 3.961617795723354, 4.423782666567357, 3.9038049623820097, 3.7636198704356865, 2.845146375759081, 4.109896700827796, 3.32815589236662, 3.954453362199498, 4.146669973800005, 3.84962544778662, 4.391519281142192, 3.825540921750791, 3.6884751294040186, 3.6397944303309955, 3.4252134876382705, 3.495546281782769, 3.883546887816577, 4.164046125937892, 4.0317480907823615, 4.149272601367672, 3.8238718279174972, 3.9245643831909987, 3.886949228465461, 3.3699364192289973, 4.56301093697371, 3.8652809515090167, 4.450175583991877, 3.941745948237806, 3.6366278650402095, 3.157783394648426, 3.7508768235618546, 3.9700397432948704, 3.354417046847122, 4.3949771768394905, 3.807842472991531, 3.0835686187879707, 4.319937857698932, 3.2736535351123024, 3.944461281988484, 3.8306519259948937, 3.578043836388945, 3.6188969258059047, 3.4622696671275666, 3.148550704045187, 2.9248182657035566, 4.1747634543981595, 3.2892311103619667, 3.783151868273784, 4.013450391956228, 3.3738138884884776, 3.762940405622632, 3.827528480396578, 3.7420016497839836, 3.695688922551866, 3.4541068252767344, 3.7550795810487196, 4.202143439800559, 4.189718191347049, 3.527591296082943, 4.423166124296442, 4.191541766949242, 3.7049202586649814, 3.960061966198904, 3.3124102096072647, 3.0518861327744893, 3.723482642570044, 4.520013360828646, 4.120449599483949, 3.544680198920346, 3.884490430027913, 4.289830972849958, 3.7391322409367636, 4.283083165243369, 3.4349196733981757, 3.7789705724847895, 4.416934447399689, 3.3111669045826067, 4.426869347712625, 3.8063260247814297, 4.262779446224188, 2.854026437865069, 4.496039793124609, 3.4138133251270073, 4.392396780072824, 3.7907816569618715, 3.6300031981120395, 3.850226049532435, 3.8127979014943536, 3.4394250742078136, 3.528851267105379, 3.9020754249803233, 3.2762951565476928, 4.591048873161395, 3.0957719124556844, 3.854987943018553, 3.4912788020350467, 2.884545531731513, 3.1822581658464038, 4.084928171362395, 4.198687426381566, 4.248126225570929, 3.3856448137525934, 3.164343682625185, 4.394243671974745, 4.083582078448874, 4.360933387017617, 3.7529877373515155, 4.147792280315152, 3.772123894292897, 4.1226807891766635, 3.9225314392788415, 3.9427598729961795, 4.119499484475081, 4.081022425943839, 3.745686541079202, 3.9456604463297524, 4.04346745589862, 4.212051006574472, 4.094440013612514, 4.247643662330258, 3.276675454015552, 3.749878850202826, 4.150724526351942, 3.1578484535477482, 3.9358101411535915, 3.7415494391884887, 4.037308450245188, 3.8966538955343992, 4.135191448252456, 4.272236866190227, 3.669727967588271, 4.155708677855077, 3.9392579006382005, 4.33757602650773, 4.114270673093939, 4.276418911220259, 3.8347679259141687, 4.438033684444498, 3.732932217093518, 4.038347481469121, 3.7322508046052443, 3.740004197684513, 3.6564242337806445, 3.8290005889242473, 3.4923737261881724, 4.059822458553084, 3.7342979357578674, 3.759045752425555, 3.9843409476463783, 4.548643306012648, 4.416827963018725, 3.517879709678019, 3.233104885300825, 3.0453309119619583, 3.3411062817677712, 2.959596600206703, 3.744438089281689, 3.2444463281864104, 3.171947842155389, 3.7278896968627744, 3.2006762337724535, 3.815860702140509, 3.58152015489529, 2.975393021931771, 3.5366955055727702, 3.2690264775545734, 3.4015076901261225, 3.451450027574886, 3.0105440586462526, 4.016400215422254, 3.7735853795065677, 2.6599075134863255, 3.841978514390821, 2.3978663189361513, 2.9950116457162603, 3.5970542301867976, 2.637904245016302, 3.4743296773599055, 3.779935889788656, 2.73638068432205, 2.9691758622751063, 3.1068084716006807, 3.5007706927760376, 3.358224054534795, 2.390974400109626, 3.645848445933225, 2.5894487420616024, 2.9351238195466096, 2.9850543227503517, 3.1969954916809655, 2.4731984093803288, 3.225749648854051, 3.725065629027472, 3.358844566990931, 2.5028753082257253, 2.8155303480967437, 3.2994899396046766, 3.1092233258292867, 3.410694533201904, 3.077765469442329, 4.061197959164466, 2.5367371232244786, 3.5979336064480827, 3.4612210460939625, 3.28404553178953, 3.5457353748864238, 3.3545595882366444, 3.2710094181266127, 2.6736743021847187, 3.163334156617431, 3.7706209985851613, 3.278855840373275, 2.4105914831872726, 3.2767867421868595, 3.2304046554462285, 3.6600766493726504, 3.6086257853395898, 2.491168538422846, 3.270798842709784, 3.1733844219222447, 3.37135550291472, 3.6955675875881493, 3.5647168476647746, 3.4171124366425074, 3.7136328981971896, 2.876617296577771, 3.8047742208023587, 1.8413661888474993, 3.357486006625875, 2.972142116710424, 2.8656908023955627, 2.7201268025533176, 2.83857087158137, 2.7452944950223794, 2.4252267141201496, 3.341439438842853, 3.1910964614842077, 3.5104115608306725, 3.4023891626387566, 2.805444973859741, 2.322225104892485, 2.817238276769693, 2.137635027281237, 3.3413460652743954, 3.1823813765110085, 2.7344116024041, 3.1061123983352146, 3.331398957771616, 2.627896575640631, 3.515055298827142, 2.4187503945200226, 3.522638917851482, 2.8023518763933155, 2.674898225806621, 2.569697565243868, 2.945410243327932, 3.028058612591672, 3.1581700301336872, 3.6644009741206762, 2.6885577775949, 3.6090595830265055, 3.753225572543367, 2.7273454143924, 2.9187439395062795, 2.8511644058428236, 3.147574623283548, 1.9356394095191454, 3.699494050156373, 3.407223246134694, 1.9249626425268684, 2.428691020924943, 2.71884904289408, 3.4548783539109436, 3.2622581818221748, 3.1096712764680823, 3.180858380765337, 3.191884338765267, 4.131454196617956, 4.192831152918789, 4.2711394878362885, 4.3350060426673895, 3.4856847492359915, 3.7841594968723853, 4.005997465499008, 3.64679868221879, 4.024802259355681, 3.857394523148817, 3.6698261332184665, 4.199471462527943, 3.262305150850799, 3.9581088541043243, 3.747221179598327, 3.0267015011913445, 3.6783684632077596, 3.509312002480982, 3.582025408511586, 3.932116522448562, 3.5710032922729917, 3.796515073088972, 3.9475085865779866, 3.3710724708832194, 3.6446498351088814, 3.472199374036802, 3.6553067512437796, 3.078484402632398, 3.5213014120943513, 3.4645561935194262, 3.833678690882837, 3.746500331373291, 3.8260322312944997, 3.9396292790495373, 3.8641495310427607, 3.347694685859736, 3.7192295313374037, 3.6041835033839504, 3.086106046594516, 3.50694955580227, 3.6534047057685255, 3.7723892199031437, 3.1803871441156684, 4.076547316157317, 3.7830996741704337, 4.434891182624642, 3.4518241538556755, 4.0356816031038045, 4.44691863030138, 4.117750281347236, 3.875234482885544, 4.547656121562618, 3.56387364004929, 3.8327131769373475, 3.3568559810049456, 3.9175482984799532, 3.5395617628113256, 3.540770071260151, 3.865213355041822, 3.8832608802393653, 3.6585076206837517, 3.265674587947236, 3.8247963721671527, 3.492743924520326, 3.470265815780944, 3.1917993373617803, 3.6619874856732766, 2.9631216935076345, 3.666400998651239, 3.801537329806228, 3.9697356096523784, 4.093959334217034, 4.146610748099358, 3.7312370061651676, 4.58685420592467, 4.8038943215601675, 3.9329762921880786, 4.75908727164808, 4.311701971320641, 4.3503075458418685, 4.27915719998172, 3.820315448975684, 4.525004686239086, 3.7106921838657225, 4.488017035971934, 3.638787668015918, 4.28909486951039, 4.122588277038637, 4.430798027456586, 4.132780426048363, 4.092309322344193, 3.7134804896714897, 4.175882706052668, 3.53081802895563, 3.983196935742541, 4.201844875479496, 3.6356652773568974, 3.652695134175342, 4.420198667961638, 3.9973041418134825, 4.240856274274688, 3.3298848420461162, 3.5984902170487985, 4.084155849605614, 4.551447600708502, 3.746976063391112, 3.9511629477849537, 4.106523115882031, 4.10399057469275, 4.412037541245418, 3.7685210164857006, 4.418344961542733, 4.716054899462357, 4.316365189528748, 3.487660954859698, 4.011234842705791, 3.540836306738632, 4.018798471092736, 3.631459962819505, 3.755050094775462, 4.293084570640189, 4.364787943953685, 4.285485252560302, 3.8867979104556025, 3.3294144473905534, 4.405475398544159, 3.915908965356145, 2.8409036040097457, 3.49150938281823, 3.035448511077738, 3.102175151557699, 4.091969675296218, 3.6885214982670207, 3.5640754666138816, 3.572856675134187, 3.3404670623702737, 3.50643567187182, 3.5470121647962958, 3.4292026218679266, 3.6225696479062313, 3.3938814365950654, 3.5085335582804777, 3.814547356736598, 3.732973122973156, 3.367983417410164, 3.9516015407227054, 3.9141636844061822, 3.314679423837656, 3.7451826123988186, 3.8170915843656483, 4.025026602031574, 3.7711754575262093, 3.530474237284808, 3.9469599801896713, 3.355112988877875, 4.0788822415686, 3.7706467454960206, 3.9185962425201897, 4.102244672588144, 3.605656200269102, 3.801501076740204, 3.9923519968178143, 4.328123103675424, 3.5008021957006488, 4.194335268620308, 2.8228176022778038, 4.214313933338287, 3.929870370769206, 3.894191935728797, 3.849653590030994, 3.764588637463649, 4.130467054980635, 3.476067839141675, 3.51465229828918, 3.850195129295356, 3.451567011285772, 3.6992988966291462, 3.686018666334355, 4.013340243711687, 3.9698268088270905, 4.103075886081217, 3.5332280846435182, 4.078081354671058, 4.124933362311078, 3.6564369910251306, 3.893387346591413, 3.641192026743501, 3.891720190331263, 3.6984968359186916, 4.610096191703322, 3.1621685527618326, 3.739169273540545, 3.1171437159433584, 3.082043572680927, 3.3332998927492232, 3.5131621429824684, 3.563339091765046, 3.131577101513166, 3.6215338775523787, 3.739567081697006, 3.6726514949064657, 3.6136688099943868, 4.275068796777564, 4.476011256291539, 3.8015937512615614, 2.667095933735138, 4.20852236391038, 4.057792354455776, 3.767138264237246, 3.620184260064097, 3.750417811752471, 2.8738640660359716, 3.743779984475954, 4.0479709928112335, 3.7016698671328765, 4.3499202808953745, 4.341929989067658, 4.366842856482901, 3.43501130731452, 3.1723313994104205, 2.5736423153375707, 2.878029038908604, 3.296304904666659, 2.8993131474330482, 2.8857113407476103, 3.064996509382456, 2.802042773174519, 3.33922852932998, 2.891846388374568, 2.461843131767496, 2.490933779814176, 2.3088493063634115, 2.607109946155509, 2.498024763979076, 3.2613350564710255, 2.854990541883774, 2.93683422680373, 2.7236514758902697, 2.4201661813739404, 3.473681510716943, 3.353150995753359, 2.713337952656516, 2.517658073779066, 2.158742919891258, 3.3943034428292287, 2.8512888916090033, 3.3737076357790787, 2.6332652997634503, 3.4212265123127095, 4.6890356700281774, 4.609434121215542, 4.294078460949542, 4.409095065650351, 4.3320293614892424, 4.452366936648202, 3.585486178338454, 4.26431132771909, 3.223895891002069, 4.145396023902246, 3.7468545673002933, 3.6526138794889036, 3.2042240302528686, 2.820622910599971, 3.1891077246110715, 3.3742286725839374, 3.314994964916661, 3.7207048529508375, 3.6275937542868366, 4.059346808847223, 4.031378403787633, 2.802587957995042, 3.2930278245012414, 3.375430898445119, 3.06440055518951, 3.26179543221376, 3.1279053857479844, 3.2501949479961962, 3.6515788363536954, 2.3689882216379283, 3.7595575547088695, 2.7874884026971567, 3.3551473197707335, 3.4035883198222767, 3.188529956158679, 2.9017936834318485, 2.752054396462241, 3.128488968205829, 3.4634069545392747, 3.1968681002560024, 3.8835603171871163, 2.7175562925693546, 3.465268577514441, 3.8427850134856554, 3.4345110302437694, 3.384655105429077, 2.6646431244250968, 2.922684782432175, 3.0095000658596374, 3.25159608077545, 4.11676663674895, 4.0305870633781655, 3.7615879770101106, 3.6667549286111614, 3.4152875006888204, 3.524208085936011, 4.487517022674484, 4.187272425194076, 4.90916142253988, 4.22345508397177, 3.744585334857873, 4.359158343657944, 4.720094372258748, 4.6993640756657875, 4.537429026298149, 4.663514651914296, 3.837861139925559, 4.019691190993772, 3.546555958853283, 3.759546691221748, 3.6760452135001866, 4.739838969017676, 3.7594208580527817, 3.662053335193404, 3.5427809154198893, 3.6367669502685036, 3.5291095434626034, 4.421110165454126, 4.028061313273828, 4.485026196485951, 4.654710353637833, 3.3374433433281756, 4.083831572204219, 4.259660972429182, 3.7460267097867685, 3.588138461400553, 3.366432899518239, 3.208976591229019, 3.8683565257488697, 3.1906110662543083, 2.6131558420408227, 3.576629968870992, 3.7390304562491985, 3.40728958778706, 2.594123121255524, 2.672738042510611, 3.569818315168854, 3.5153827379173617, 3.310023767303774, 3.367590461602667, 3.6303839832427425, 4.130029556498081, 4.296603309442075, 3.9999567417703177, 4.1942112452900435, 4.608127200488037, 4.46012899805822, 4.551334978015098, 4.79786183083352, 3.9459791224937497, 4.180598511368263, 4.339710010197162, 4.43037577744348, 3.7457560236580516, 4.45864742122281, 3.6340586286937233, 3.767144052259925, 4.479865656799594, 3.6059674389638694, 4.406909131315526, 3.4743865341643025, 3.88719267631185, 4.145518439991032, 3.979932415181902, 3.928467789750063, 3.9317484083510874, 3.9572199618472648, 3.9342592229017903, 3.8533151155124004, 3.8929253651052904, 4.281714182737761, 3.9688690410908487, 3.9999362980556934, 4.2788346497153364, 3.826605444409412, 3.3689000521559134, 4.363270715284535, 3.9648252847653827, 3.182113971658806, 4.512217741500419, 3.620984985829578, 4.323914197205724, 4.372869395417822, 4.382337067353242, 2.9749625539446702, 3.7815634802604383, 2.9130754669656556, 3.6585983931554016, 3.882804271388629, 3.3721415829636627, 3.431546465171562, 4.080691032641354, 3.7813186719949603, 3.4818012430422014, 4.089455921965798, 2.7264094237735463, 3.0856529403314807, 3.465318756136041, 3.2335158702039957, 3.6684868144736926, 3.2054041132950744, 3.354080719570639, 3.18892640607601, 3.9839098958882215, 3.503326968460695, 3.2744244055168825, 2.9905925353978398, 3.4904364267580488, 3.674015407039082, 3.8435374840096928, 3.825968017676407, 3.8014612952499864, 3.7995064978964317, 3.1828843536090528, 3.9963029321470915, 3.4066318381515193, 4.396904706221321, 3.044562186978989, 3.8081873753030964, 3.5479549472754126, 4.130040823324545, 3.4055578055561173, 4.063667347651551, 4.02684978438805, 4.11664183098889, 3.8857629607562316, 3.9034946498544545, 4.378549065198319, 4.219854238440686, 3.255355356896271, 3.549078539778126, 3.8012893639208025, 3.436340099227091, 3.374336071516099, 3.5725344111259925, 3.662430899645707, 3.720865540363193, 4.271505763595429, 4.011720326048299, 4.190377904655752, 3.9387199698087594, 4.0142437185299205, 3.9504167558662173, 4.249112350150156, 3.902189844157146, 4.21748270530864, 3.937575281361987, 4.148432523922195, 3.5284343077597464, 4.448844857632304, 4.395334389555807, 4.2765399507861135, 3.9771728162817257, 4.614698686529788, 4.699000582408579, 4.054906436200073, 4.392854036021102, 3.7569964300444223, 4.306252840696678, 3.9473403311470703, 4.241767239531617, 4.176670964361254, 3.6281246254141046, 3.1598589853777526, 3.896920426642519, 3.2649581392963083, 2.9548935678025288, 2.9205429078107388, 2.9189970509894425, 3.4993211738751273, 3.375090043792023, 3.483590941962938, 2.738438722360268, 3.910276155162747, 2.5887288262129835, 2.9052518785348553, 4.123123982106619, 3.423188840359026, 3.2474679338377057, 3.8787592094597394, 3.440591561193141, 2.5724660876110286, 3.9809909282955256, 3.1091165850224396, 3.891450323597996, 3.641590297478318, 2.872595173584318, 3.211584261789321, 2.6787781628542926, 3.808534233865327, 3.8826713776280535, 2.9493697213761574, 3.083934701078995, 4.0665009456209384, 3.3963701694377124, 3.5060675630122238, 3.8416162179294395, 4.641991598401829, 3.2365368457829864, 3.623622060884646, 4.048617527830267, 2.5074961133417806, 3.180060918639845, 3.8749179067052726, 3.923946745610044, 3.651872815040763, 3.6200655270269784, 2.8315283758302794, 3.0747602191066514, 3.0598114393284894, 3.4754667506444306, 3.2437448293268836, 3.353561086546261, 3.0611401168514782, 3.070523389734204, 3.3714520581467933, 3.4305023619023363, 2.817474765344182, 3.529476845423555, 2.5737481238155793, 3.213371367229067, 3.81321441034707, 2.7089919661871193, 3.2097243569706437, 2.61343771020261, 3.8362257729122837, 3.1700628319031336, 2.9272972121562866, 4.299962565505899, 4.304665695264829, 4.261702559175957, 3.7184646103500594, 3.9848216911974315, 3.7067907458046796, 4.434310859056819, 4.429326681919773, 4.14885817117622, 4.430073194827874, 4.326076379647747, 3.494000568832167, 4.449982138772566, 4.113983336223887, 4.171101531235051, 4.28954177374478, 3.273066300624287, 4.202139702155304, 3.3068547243884967, 3.9706759975625263, 3.6919882035262974, 3.1818741921096927, 3.115193394970202, 3.7430201084597226, 3.4861810865724427, 2.9656688192142875, 3.7566519068765163, 3.9035336635174285, 2.9055207371993266, 3.5078702605963166, 3.9494593452719764, 3.6103072445743405, 3.522547479282801, 3.5159737459159124, 3.151569636927299, 3.351191480312129, 3.9432149893660835, 2.7712822270837325, 3.2120577592010933, 3.6303015624483077, 3.789990593728139, 3.799673747393607, 3.262823078803336, 3.337221278673962, 3.7404863697896347, 3.0925075183562907, 3.7936740721086193, 3.2772879744078, 3.7994967846168515, 3.6228930859447552, 3.3625609842285487, 3.0451165180656727, 2.736183741196834, 3.18325336961185, 3.727914415032924, 2.9656597927675232, 3.525820576844059, 3.5062561213981147, 3.502053294818609, 3.4273150273080852, 3.429595637632458, 3.796226129800505, 2.918390711421596, 3.880515332900869, 3.1957723496492063, 3.2471685095931253, 3.2863561298667014, 3.887310852469773, 2.666593536155964, 3.3537882284099263, 3.4137307720658914, 3.232804234517582, 3.2577220218060683, 3.19738508231674, 3.6889658153721423, 3.312611420776857, 3.5313830426318256, 2.8642039659009195, 3.1637549705814907, 3.420600188184924, 3.7830876115675998, 3.5603915533228134, 3.7423061095139434, 3.6970355576159806, 3.6954946207333133, 3.584414981647264, 3.2921129273388914, 3.3310244223513013, 3.7148656132895512, 3.7821771287388026, 3.691782462126249, 3.3808576006847377, 4.08727024035537, 3.0711810292543897, 3.8717730585912555, 3.4476825428421365, 3.545308952249163, 3.1255390537537227, 3.3937597545496985, 3.873055056426777, 3.409709754638714, 3.349999977399008, 3.812710242961264, 3.16013626488959, 2.8988198365955165, 3.637506722007356, 3.2269929654966414, 3.4067096042841394, 3.355216018974567, 3.709484558673763, 3.442730046506927, 3.1663466521595525, 2.981367998470501, 3.4239416621034997, 3.7807893382826476, 3.6197462261774787, 2.9364778235390245, 3.895118534495571, 3.4545514518323377, 3.4157802581135415, 3.5959309839662352, 2.8030359731781354, 3.8618379923002646, 2.9558082249507183, 3.49299414489708, 3.4324436538952656, 3.393423920184186, 3.962884486973516, 3.5629934859842276, 4.036170955187095, 4.2971626776208, 4.145655884214382, 3.527232044985117, 3.2614488142366116, 3.507973879880929, 2.465336140048854, 3.538592682764444, 3.762198685099632, 4.52776919624956, 4.021165958049667, 4.012763229053738, 3.966318230326641, 3.5478669982716826, 4.083410423141718, 3.9469394806511913, 3.8934243261916395, 4.550237746055213, 4.491980609706487, 3.740157386235302, 3.9847461175542827, 4.230103859986451, 3.8636419642462063, 3.733111515285631, 3.8893614087589237, 3.9790694720082707, 4.234963133793968, 3.966630545285725, 4.174846623067991, 4.128491046993513, 3.740345399654931, 3.6438277012433224, 4.013944182786734, 3.804497430197415, 3.494700122758701, 3.6783123162448277, 3.666893039115103, 4.721239797760363, 3.5301604789891723, 4.427868463831016, 3.4192515237379038, 4.5448353096374285, 4.495219446612632, 3.623540081042111, 4.59744450880666, 4.025581154643055, 4.014881047003168, 4.502620132044462, 3.4439018490992557, 3.8778089550019104, 4.009788652999374, 4.2457474482838755, 2.951296407659301, 4.267587474446505, 4.526466060748885, 4.556487904898846, 4.271131443929876, 3.8905509016772197, 3.8519876954770913, 3.9654182575876917, 4.589198744171102, 4.195649154990282, 3.977639558220911, 4.262434940536819, 4.337625528554696, 4.266852814520335, 3.6992762734746596, 4.080905331325646, 3.8740412605450123, 4.453842157741436, 3.8851706194544318, 4.171693514344524, 3.854615576108038, 3.9648970870854514, 4.669016651916094, 3.456031448190659, 3.9121086011882995, 4.333967789813779, 4.180234820406974, 4.613818283800572, 3.8691807088363825, 3.899036787980195, 3.9411995599745593, 4.436727383280154, 3.776250873713117, 3.6290850273856274, 3.852968221870275, 3.6199419052444948, 4.1713867243348846, 4.8682078768889925, 3.9814527473713066, 4.206025677989024, 4.378516925296216, 4.086430645836734, 3.9862090247724287, 2.9408997877283793, 3.754879377526536, 3.241826230136746, 4.445909475910106, 3.9852431402835706, 4.167307646213032, 3.453112509814671, 3.5431992050452696, 3.5853744597105948, 3.4593679694136483, 4.223080332330115, 4.149004571071202, 4.204200912116041, 4.281439973464273, 3.872393542836396, 4.217524982977821, 4.093514475223984, 2.961054429572338, 4.3188152656489045, 4.05996054256644, 4.333979162314634, 3.9996277585895066, 3.6168859711879824, 3.522300123038857, 3.1988282469120413, 3.6326447573992953, 4.706480425051, 2.2697510102693528, 3.807081091770573, 3.3434550952511954, 3.2582573852112917, 3.578077990286227, 3.0347108171967996, 3.10477972919573, 3.4594235192290883, 3.5583611386948624, 3.5543281376312104, 3.677001654910736, 3.458288179537789, 3.584945296807839, 3.1636346766252124, 2.898130441734, 2.913947729098582, 3.311732348846504, 3.0854326882403926, 3.3706394372524264, 2.7393105981710635, 3.4498349711222898, 3.2822475641684985, 2.5848713118720807, 3.449149924773513, 3.9927837736011673, 3.636931483438715, 3.346878953342442, 3.520409586163651, 4.256921544871224, 3.56818080054047, 3.3858691840821775, 3.955153959631517, 3.380696024063338, 3.1595905538716424, 3.6135345475825136, 3.9930808634314805, 2.9047473775019776, 3.0388242153909895, 3.2215206801403116, 3.244800602096117, 3.1931206357341915, 2.909825737648209, 3.5968035786696415, 3.628726401841332, 3.546400517779617, 2.7806806366409917, 3.6311101772341456, 3.687547423661747, 3.525919501662503, 3.4864023060342, 3.7414155566979628, 2.6174337244832517, 2.3830863639970854, 3.460091908484213, 3.4649283035828073, 3.5815539916826458, 3.590243079566843, 3.643640821680245, 3.2540316973925356, 3.8065167737844616, 3.309031769448131, 4.104912370107298, 3.6498120470163458, 4.264344439226897, 3.730222908089358, 3.3861654899746028, 4.1761357320732655, 4.224500298782807, 2.73983362325749, 2.968694583136073, 2.732053307899274, 2.9517715219497576, 4.026392275177279, 3.227194561540337, 3.462807830657779, 4.384383181943056, 3.5894360083678287, 3.9929843843736093, 3.5430623009643227, 3.447387519853894, 3.599215170046614, 3.14232345803704, 3.2503816843301836, 3.4397471278620113, 3.702668198098832, 3.705169349228193, 3.1064024254927873, 4.148918295835171, 4.322325423059099, 4.052610710254886, 4.225352755544563, 4.482184327596334, 4.612129097774537, 4.122999397960351, 3.666128606149887, 3.945656850420625, 3.3572020634164024, 3.9277690888472687, 4.056018915201191, 3.517046200798115, 3.7082612225506324, 4.361064896969731, 4.40063623615352, 4.160918640938805, 4.245243511561167, 4.094386625890186, 4.346643531230181, 4.5458681153118885, 4.082078745038035, 3.312477762961335, 2.9538205984687003, 3.1613604149256096, 3.784641154339699, 3.3202767491995715, 3.6379061902115124, 3.4311647283907054, 3.8923019627219375, 3.473879778861562, 2.9910455504744577, 3.427992763105964, 3.3845069445181077, 2.8783570449461995, 3.9398063456958243, 4.087519489151567, 3.4231207681197118, 3.9407321275746177, 3.772059726176585, 3.4982148680267513, 3.724624617427388, 4.1266992652187495, 3.677263304487031, 3.3397576434294836, 3.8181606554731533, 3.2163385611140938, 3.3272091686370833, 3.8599804336907786, 3.06597981852422, 4.0253102335758335, 3.3559851257851436, 3.171716269848332, 4.156092524447461, 4.35231268139807, 3.097500519482446, 3.255475091764495, 3.4915255012994835, 3.599805242079737, 2.805849238015259, 3.2348345191677152, 3.802340987175022, 3.35709924469839, 2.858295723731834, 3.8145467888908144, 3.245902474559199, 2.9616175274017458, 3.777878889480337, 3.5229958129305876, 4.121119306598327, 3.486057393531449, 3.26448942787074, 3.6382055069777937, 3.6356206609984882, 3.8748239833239695, 3.6310035556739257, 3.071458620882944, 3.214500397240795, 3.6333055402909125, 3.31649759713213, 2.375148040166449, 2.3972117107686377, 2.9574941467689575, 2.703692674063197, 2.336684881422771, 2.5801222563726482, 2.382486450954788, 2.142561858279983, 3.8896362138672367, 4.2497514634217515, 4.860207444770163, 4.93060008617001, 5, 4.216550805445933, 5, 4.2812932935903145, 3.7708041484175556, 4.765722947501532, 3.016649197646304, 3.4770347420818553, 4.358211445781545, 3.749433936433864, 3.750994331207067, 4.753590428247528, 2.7139689274053658, 4.119016502882857, 4.2069995692097395, 3.895090353871182, 4.429931695262566, 3.0787521744046895, 4.2042987870338395, 4.191015573010868, 4.000908387980709, 3.431340926771234, 4.330521065728038, 3.8277731515992985, 3.641574623499576, 4.263218457587524, 3.3594939890835143, 4.333561143250156, 3.0715375253112396, 3.571386584463463, 3.552404903143152, 4.479073299330659, 3.24200064948679, 4.031255463844116, 3.787904533033141, 3.65573121446371, 4.238125905482841, 3.849582724027932, 4.455820590810365, 4.629291463559424, 3.517044352571612, 4.1816894331570955, 3.5675014564287464, 3.3073373741373855, 3.8043814494598065, 3.5743427640873926, 4.239032434592122, 3.679336252830007, 3.349640578586899, 3.0539191014438662, 3.8286999320916166, 3.888391597816033, 3.224447029849438, 3.394358046018044, 3.8907408304039444, 3.2515269394026443, 3.5021991085810367, 3.012565985209774, 3.2013676683302466, 3.2020228747176, 4.152935922399945, 5, 4.676217022624684, 3.8654574094759586, 4.499764114326253, 4.400392545670737, 5, 4.739346598660471, 4.877549935936452, 4.441532260550189, 4.09504570294183, 3.44916449959471, 3.6360247345267656, 3.7211625366416867, 3.935497443917798, 4.143712051634874, 3.6029904332500613, 3.2179052410155964, 3.4019698891840284, 3.6262652132466124, 4.124406643891977, 3.9347451256963746, 3.6070788970335674, 3.0877105797555453, 3.1243518551510725, 3.3056242660538873, 3.713756491135211, 3.3882676080219585, 3.211625547461972, 3.9219412297485103, 3.569135101222835, 4.019349784750148, 4.1017299767728295, 4.299944064459879, 4.1720822066364995, 4.538541800018198, 3.847135260150159, 4.332174908552015, 4.424776051796196, 4.351724441651768, 4.404574643651679, 4.04072763172866, 4.336056627878613, 4.455433099520036, 3.5769935415817544, 3.898557262302065, 3.948983419865022, 4.073655440599024, 3.824149815574911, 4.615113129808311, 4.239874112900695, 3.722314719559971, 4.38473159345952, 4.203736634665677, 4.5801896425891675, 4.203141981293536, 4.117794852646709, 4.535560026916016, 4.5131327757253406, 4.743189583945383, 3.883051900723421, 4.308671960649463, 4.241933854518136, 3.66057919150503, 4.272097447285261, 4.241055566241747, 4.693660353187793, 4.652726661416143, 4.210998083535915, 3.833492453664245, 3.881393788775668, 3.73218756418788, 3.7738066057274984, 4.155450573331203, 3.818906453349626, 4.3487434204108775, 3.408249628123705, 4.366210542347924, 4.539323491383141, 4.277749591479118, 3.1668832548412795, 4.605974018833305, 4.32457194937087, 4.372534359515897, 2.8389649784515107, 3.52232467006117, 2.898492715342894, 3.0580194537073035, 3.0238954177828092, 3.329181427225513, 2.9168778475951416, 3.966510406633461, 3.8682554988478866, 4.265968204792126, 3.8451362930146415, 4.0533354014891305, 3.8524044604310994, 3.6616986779075, 3.9986028511410727, 4.205348732964043, 4.124914640309178, 3.666948013862826, 3.856585194074561, 4.031676728260247, 3.879640299384564, 3.5069020923692134, 3.9325717084599536, 4.394425194132117, 3.661450204549035, 3.895347811110763, 4.602780097056896, 3.323064703329858, 3.256583232432785, 3.344201244068285, 4.392300597822285, 3.7205460539823223, 4.432962790113428, 3.7441626707869986, 3.5142849316608125, 4.2106238314518905, 3.413154937130692, 3.4761767335716596, 4.257999749262422, 4.160051873904488, 4.215820079474564, 3.1782682445167083, 3.4790302650679648, 3.744086773777539, 3.6513486015650805, 2.8643217400971155, 3.733174942329692, 3.7678657241887694, 3.6936737212183886, 3.4141213290038, 3.1217949631013804, 3.0923022262573094, 4.51642699380889, 3.115941988884744, 3.307412817929245, 4.020914873720415, 3.489645430227162, 3.943731259208509, 3.400874173799256, 3.395942973809336, 3.8481193733919734, 2.977764091734702, 3.7401344253564197, 3.8641684924400654, 3.4840824367057532, 3.7731477324271014, 4.006818681231968, 3.402342254564379, 3.1174368995765986, 3.845389204228094, 3.6202127781774753, 3.3667071652001304, 4.613514446650422, 3.7050744575736276, 3.5259261917737597, 3.3508997549127293, 3.380416433221261, 3.1066070850301832, 3.112933672108946, 3.211483264858878, 2.3646694661108967, 2.765606667056143, 3.3295232298193795, 3.270897027079295, 3.0317957765257835, 3.3469659952799873, 2.718354903604206, 2.9383820508750125, 2.944859923678541, 2.786550511225109, 3.1014533602173078, 2.9958520693579733, 3.012012211496591, 3.40482702905199, 2.5800528594928602, 3.1391102798339188, 2.4711415673267183, 3.6763261041465642, 2.5034353167585084, 3.257962880838999, 3.2926170838804762, 3.2458053416789476, 2.701716494140502, 2.791524982760811, 2.9364901996524626, 3.298788369373617, 1.9566543898565576, 2.7012496844121308, 3.5118969002447447, 3.875275459687575, 2.486542910904901, 3.0252636606403653, 3.637584919293912, 4.42250135944692, 3.520736062107541, 4.1658095511419475, 3.9663342584118504, 3.568553037673851, 3.9877316818703195, 4.162170847069433, 4.0994702324216785, 3.870350058220821, 4.1902376356125774, 3.646788000215275, 3.3761916473828206, 3.743343845170658, 3.4808647549890424, 3.5218556068106497, 3.209377096096346, 3.6996902317065468, 3.363621033116124, 3.8430037327880733, 3.4815900468132295, 3.205510848583571, 3.3296413515858085, 3.9463357359411537, 3.694288430774349, 3.3723667561914192, 3.408231282123779, 4.075868653713387, 3.2652779983397036, 3.305259649081807, 3.341126274061443, 3.496191658390228, 4.4482453781401174, 3.850204928829252, 3.801298592266074, 4.11382890184907, 3.2096805424879626, 2.5512078305201698, 3.31604794492797, 3.4983022741521697, 3.780710211631807, 3.7959733025875164, 4.14726870759121, 3.784922569724044, 3.962960125476159, 3.614755672403074, 3.9885519949980184, 3.8300716884779953, 2.551579947314238, 3.11051687414491, 3.2160592129792605, 3.1387230952538085, 3.028612622966213, 2.6690553865168627, 2.691013531320255, 2.680392582202217, 3.716866100843322, 3.216504231953541, 4.343993272588751, 4.213582149775606, 3.8350965175375373, 3.4915897597118306, 2.948737232842651, 3.000725445173756, 3.2858224223398667, 3.2474967905928045, 3.7739706349170654, 3.4723758288242883, 3.5577907317042334, 4.04688084972907, 3.6265272717846155, 3.48147200008881, 3.8215137549354306, 3.2028242444267594, 3.600324876950894, 3.1271052736306637, 2.9477569402149197, 3.6569064059586607, 3.7901321082938826, 3.40902112719926, 3.3607469785943453, 3.1546196681365344, 3.585578885437156, 3.714529275966593, 3.5101927782594364, 4.279775360115001, 3.1745751003284357, 3.702121044554302, 3.442568117784673, 3.3375074003377594, 2.940056428298818, 3.68827810871798, 3.0694592253589588, 2.9584622836181476, 2.64658285215431, 3.2032623251554435, 3.1747261987619853, 3.244230977166736, 3.1715223564699078, 3.8529231261295944, 4.30593828928828, 4.13778734899527, 4.425169902151816, 3.721087654649568, 4.041920426801357, 4.152541416719406, 4.341629032618463, 4.118600774887023, 4.214465015026191, 4.350240516234232, 4.306148595202245, 4.427483756389119, 3.19634340786113, 3.8761090565575875, 3.4375584963021826, 4.24016638389013, 3.2370236198276494, 4.128361867538418, 3.619258737916902, 4.262578843090573, 3.6957973015256336, 3.50446717353905, 4.239895241612463, 3.5754846178817536, 3.271252114634937, 3.1371008571509256, 3.9199555689125054, 3.840445109657761, 4.07795304484826, 3.9324495523306755, 4.055547232349027, 3.5447558082352337, 3.9016720961725824, 3.5269476081678826, 3.516308339816044, 3.8935765831511744, 4.101621885584963, 3.907143441203679, 3.8544097715802033, 3.6287045062236456, 3.2686832292674484, 3.719021385015537, 4.426649208277402, 3.613457057190347, 3.278442925146322, 3.7223310813602972, 3.979606471935814, 3.900891340511467, 4.144433515610598, 3.549126951053418, 4.397099367570819, 3.5750510188654117, 3.944203962530422, 4.289433171027081, 3.955387905617777, 3.7914283263138397, 3.466558712918959, 3.2606508888684678, 4.024504157066779, 3.1381686836013056, 3.7313858414991072, 3.348030168718287, 2.9793404018651204, 3.4489354295534316, 4.250935547068251, 3.923051926311557, 3.174894412192424, 4.382660109987942, 3.0367755908947824, 3.7171731789845412, 4.122428971744457, 4.522027041666414, 3.8587280950436984, 3.440999262391137, 3.6628111673991137, 3.228448640941972, 2.5859103949039013, 3.254423550255802, 2.297646149075779, 2.754310003278473, 3.5216343324307573, 3.2253987277026734, 2.906854995308271, 3.6107412797852256, 4.143447533008543, 3.739753959702494, 3.9870959379983484, 3.1063857982657317, 3.306988896922045, 3.473324318904137, 3.5129162913221648, 3.622272587013628, 3.4949427522585292, 3.475248519269467, 3.4897119726397423, 3.413990742153014, 3.990939456427383, 3.4312817028694558, 3.784853680506897, 3.4561682299666456, 3.8322894635204516, 3.172384959821798, 3.3544361979684454, 3.7816176133794395, 3.365411219502212, 3.937406536423536, 3.4940122461051186, 4.253975571774792, 3.4812038495442352, 3.777704661978195, 3.18065285914017, 3.256930571408659, 3.6238012142630067, 3.730609930546114, 3.3930860443148565, 4.042076830972304, 4.049123066924468, 4.32888541185003, 3.8355422069994596, 3.6099298254090075, 3.9561954955918757, 4.660259377651042, 4.109433796147267, 3.7058874012914855, 3.9178793491313963, 3.887233611179215, 3.607987439553502, 4.295804308322515, 3.176464303900827, 4.539900843874504, 4.063310602845178, 4.075784036818079, 4.695795308656547, 4.000057810025007, 3.378607467710753, 3.892076684641192, 4.2853342250567215, 3.9436348609994814, 3.860108454042249, 4.092936774833447, 3.5729569639815932, 3.4780651377258893, 3.813476469676974, 3.823064722345811, 3.995910468073067, 3.3762814224600017, 3.1922748701994883, 3.7465436300079866, 3.7374890109705072, 3.063581304127119, 3.244902015131152, 4.065406910718479, 2.417158386909461, 3.7432863141983583, 3.32918317039652, 3.383783887873299, 3.225120562099025, 3.109018479563355, 3.500377990130832, 3.8959981317188204, 3.489363555850764, 3.4256876470046294, 2.351171035268034, 3.3236954778198786, 2.010373214285871, 2.3727894280010853, 2.928981285387337, 2.6116332551422268, 2.724493269107253, 3.1216657523011846, 2.316755062324704, 3.4989175753170727, 3.1422600981346593, 2.58778910413204, 3.364679778379825, 2.9679023421490047, 2.884301652409225, 2.590156413020419, 3.3893028180056484, 2.4961700965569955, 2.9643998901431323, 2.897623533308935, 2.957082303359181, 2.3067600995952793, 2.886748192538171, 3.4804890524458028, 4.090198793187627, 3.72645554260207, 3.501336787976856, 4.425432336003862, 4.131024754358189, 4.29440225797234, 4.188183420545912, 3.7924677753811813, 3.7965294204317184, 4.168871077457556, 3.6477862674609907, 4.077995106103001, 3.7253558526274344, 3.738964864336753, 4.1319427869682634, 4.173464670234793, 4.2326648792294055, 4.047189057126773, 4.154403208927261, 4.267751956814377, 3.6044725011325096, 3.33345045090315, 3.4906424703120984, 3.8103285782043104, 3.4061836728321246, 3.246130050032424, 3.0925982803466354, 3.0111318440665666, 4.194620265185912, 4.1668484172246, 3.4796092394870963, 3.0130007074107885, 3.2746395990456105, 2.824962670956529, 3.3413256480437323, 3.6562966610834144, 3.196076620409962, 3.369439815444606, 3.455032781251443, 3.2527314443839805, 3.0005367801456484, 3.364601017333262, 3.1543346172013704, 2.1949990522764886, 2.971599614585061, 2.010919601078577, 2.66318178324012, 3.2024906682379637, 3.2207791882819237, 3.6106308658718795, 2.7040952644117664, 3.6594662352132943, 2.98340727307511, 3.48045035631008, 2.4878993325375145, 3.1919118101350055, 2.9015765699247895, 3.1683938080186524, 2.639325242913222, 3.029234266863535, 3.0222393400496235, 4.254245230835854, 4.148904134815384, 3.6574189204682734, 3.716220234298001, 3.591913306144785, 3.38064843373405, 3.352022152623886, 3.500485082173123, 3.882250945081035, 3.92789652280413, 3.498497689503848, 3.495597171953884, 3.583649105347029, 4.353318951861687, 3.8311934702906587, 3.783238188542952, 3.632888842417014, 3.7536917837366364, 3.4074506201308714, 4.014586972041202, 3.6419855840605697, 3.7230368246228585, 3.590989691836575, 3.3727006741753067, 3.2747538971783907, 3.2621866631469603, 3.165652978583559, 3.3692735706699635, 3.241877393077092, 3.4847608077714414, 3.231266672156505, 3.279651754357665, 3.2753523110373157, 3.5515959806412316, 3.294115023096981, 3.459068842848978, 3.4636323782313583, 3.0549552427677797, 3.846084699518794, 3.6376284449714853, 3.331350452856166, 3.9691694682855774, 3.819377350790328, 3.717231281648983, 3.866693822194458, 4.046320378151831, 2.993510434870274, 3.389604253233923, 3.241389864365737, 3.757245473504473, 3.4017631108853195, 3.552615817191112, 3.6669336479105965, 3.8514379966404846, 3.3916007883243706, 3.6406259722406884, 3.6824734099179115, 3.6176402236936176, 4.08760360417718, 4.086554688432549, 3.485833410747489, 4.074199874926598, 3.625734604509657, 3.778766446636052, 3.3709731136771968, 3.58847114303352, 3.6374820809918664, 3.396309318579587, 3.8576392995977575, 3.8402073182926837, 3.8883756869616315, 3.72420535218256, 3.0444723613327236, 3.9947187427660973, 3.4242271197051584, 3.3841453420335386, 3.702413121386898, 3.3744274837264516, 3.5570862723918695, 3.003669438746728, 2.8453647545159733, 3.3557082810342607, 3.360449390090927, 3.5282969141654936, 3.0626655246145154, 3.259421889235732, 3.1906603780469083, 3.436454469698874, 3.5955358679845784, 3.4370659379673403, 3.2738484062062505, 2.8550378562015863, 3.670297638239211, 3.5166325125373077, 2.499342488808266, 2.1153038910925885, 3.1207004062193437, 3.5583315260242214, 2.627590712640759, 3.6342168331774745, 3.1878918488826984, 3.6354805630584055, 4.167224671030438, 3.98903497669392, 3.8799469569551825, 4.218825082707202, 3.9360208864526465, 3.532698494365776, 3.9831606647333713, 4.202087753757404, 3.940335442914809, 3.7496350626477186, 4.1408979986994074, 3.7208826727131084, 3.7699589476289637, 4.127631739769804, 3.9323582863499564, 3.5988910929962135, 4.317197878594898, 3.342555334859837, 3.9040946970016708, 4.008051639296699, 3.6932926818542655, 4.002232546392107, 3.5654733271286547, 3.69955907768629, 4.382667165475432, 3.704227284535404, 4.287100438687745, 3.6975856195186605, 4.564372081412936, 3.1255739330527335, 3.6111088207028934, 3.533735914451166, 3.358913367378967, 3.960715136800946, 3.7887102528589227, 4.4743021494260695, 4.100739482936027, 3.030599677871253, 3.9470343979693774, 3.6642089535045566, 3.5260874734953345, 3.8591628737782906, 4.038784111818014, 3.714157544817941, 3.514552189866672, 3.863333321164933, 4.035411119792501, 4.406395875361399, 4.019123155647047, 3.6652774976297424, 3.9996393827253023, 4.082582843177767, 4.303314565424692, 4.181610044202255, 3.952529886794309, 4.270324057837064, 4.042836837815027, 3.7841900099461254, 4.571665169935703, 3.595788529350548, 3.834253479960595, 3.140752533004092, 3.0394851507751355, 3.6387259153714604, 4.101303541373584, 3.7364676696579435, 3.5337342326482086, 3.9470575587994725, 3.902701493548539, 3.341670492445018, 3.2343960716567297, 3.857053655004498, 2.7407564245696485, 3.435637952023381, 3.8435861907086704, 3.9526795976239617, 3.8702368215070457, 4.040038379243566, 3.6720402203949174, 3.241403060808173, 2.933517460216557, 3.851392953448193, 3.5082115438225436, 3.1252857394629387, 3.199268564070008, 3.481986111430377, 3.2191188562853768, 3.46353506013537, 3.4250650482291856, 3.048566417097392, 3.439400749977338, 3.2733800421637, 3.051933840780728, 3.805401405016138, 3.447938123307148, 3.323489894552173, 3.169262484545221, 3.4129653252836194, 3.08589068087419, 3.1227256240060512, 3.859097627029798, 3.521123126691115, 2.8377555887058143, 2.5656307117434576, 3.686721614295596, 3.7630841009421285, 3.633076349314295, 3.095460098896425, 3.8101387344427304, 3.9283551447384406, 3.853362503887161, 3.861741027160576, 3.928791772902064, 4.29487448098457, 3.518028774870735, 4.445319106256308, 3.7863420598011555, 4.120234980170038, 4.0456644816629455, 4.062491311543499, 3.920598458793178, 3.1395513224900404, 4.489208010899123, 4.097405909955802, 3.697773097680048, 4.072333215488222, 3.213070410255517, 3.25231810787316, 3.447333605057741, 3.462998294806243, 3.4488968284074373, 3.551735934430922, 3.5447269303228963, 4.201318679653936, 3.5320046147890145, 3.9672597625058783, 3.5776070388149264, 3.033017881801057, 3.7020854182349785, 3.447762893694775, 2.672946940885411, 3.7319739175791105, 3.5695200698839726, 3.627609476292524, 4.008014298082771, 2.6520210697292184, 3.5079156494541284, 3.1034323360722866, 4.365028399752368, 4.41647851400933, 4.263252765556687, 4.488505481376307, 3.8578522031616767, 3.879883276478028, 4.236957959205588, 3.2833500925143437, 3.199469237645655, 3.500638452760089, 3.22877843469674, 3.4880080068289274, 4.633792756337227, 4.172415058131193, 4.1835324557090985, 4.095293813586218, 3.468676753277004, 3.5579111445642573, 4.090532963822516, 4.5065729155750125, 3.6299244484653417, 4.104849477008563, 4.170532325747658, 4.01883153801207, 3.544409103118945, 3.7660454928998828, 3.6111811166177468, 4.449472115853351, 3.5974757778573894, 3.8901129784770374, 3.4024417538763925, 4.317381310553078, 3.8965947886670946, 4.270529326759877, 4.092797304952181, 3.826985057926367, 3.9413612531706597, 4.361990702565942, 3.1188755147764713, 4.499809413092687, 4.276577363818794, 4.283080402686453, 1.5603768135860376, 2.673015568578541, 2.4903603737777846, 1.2349435604901096, 2.5876019030165107, 1.2992118042116347, 2.0796793283732686, 2.675379655387206, 2.3495202264535577, 2.741058158000241, 1.617523033801331, 2.161639967108716, 2.5641227140336538, 3.2241320681212655, 4.402455720072727, 3.9139430983743506, 3.7766479745164645, 4.022927530167178, 4.005445553338466, 4.001813406726095, 3.8565854428838215, 3.029661325544995, 3.8339449339986813, 3.6586514225510665, 4.175151304350199, 4.1196102844233415, 4.333058047997793, 3.9133340338256772, 4.483894561654562, 3.643236853493777, 3.9297255065225474, 3.5227276614740326, 3.3978465476680753, 3.3098679275109184, 3.704705810736656, 4.179464465173938, 4.166091133975507, 3.641983042962582, 4.251753749945168, 3.4903062591908656, 3.3850221021372837, 4.27943526606055, 3.9222411541789564, 3.7708898137712885, 3.8526202238814373, 3.8994758290381184, 3.4524490398398537, 4.080551610637716, 3.643832114317936, 2.6903708679976686, 4.076319414670603, 2.2409438780198223, 2.7771239538160253, 2.533559463177562, 2.8372950023208188, 3.434159135370244, 3.6198161505042035, 3.7017802889163898, 3.8881296096464486, 3.5356976205590165, 3.711076126236807, 3.199123461151939, 3.729520649571744, 3.4481859563481483, 3.54548377770576, 4.323868109097576, 3.470210781282024, 3.844610206089344, 3.9928525981385583, 3.57211122243947, 4.071555364783341, 4.313787572973156, 3.4341571068194257, 3.137022673355829, 4.240100247594258, 4.4367854073954875, 4.248789287102544, 4.480468554928473, 3.0495519349529556, 4.276391329539852, 3.6961019999975426, 3.636615262371488, 3.9022158698866605, 3.8716287593399406, 3.7061081445712345, 3.1490099334700217, 3.640193716832704, 3.595379300045612, 3.8260678606740823, 3.3645167210484064, 3.7041809597561324, 3.8901604205962013, 3.768481442068772, 3.869991567647432, 3.3980192045669053, 3.8159247807829813, 3.5265697720068783, 4.088708022384482, 4.395064564250857, 4.572073383235208, 4.400285954976499, 3.850250498010388, 3.4070706605725665, 3.4898470590157444, 3.3871084091312693, 3.210218779290232, 3.268708123914027, 3.716636995208017, 4.364854152025816, 3.475491913778826, 3.2269506989674226, 4.35011291231716, 3.7740125206393658, 3.2956151137852263, 3.9135989268292715, 3.508044721363505, 3.18800045499047, 3.4931712216804582, 3.7872286786581233, 3.392029072824457, 3.656406876198794, 2.6397246196163753, 3.4602278275784997, 3.019032948685798, 3.9539312749857642, 3.6118303826597873, 4.048866721151696, 3.6666988900143895, 3.6475080501683266, 2.770141162402693, 3.3481396378214465, 2.320625808260684, 2.2998173795657944, 1.8588873870999347, 2.3409027805128733, 2.5227891873218953, 2.60458361810352, 2.4389374728635684, 3.6920830011670698, 3.225160121423953, 3.5307289044815637, 3.6452926277045097, 3.060208283730497, 2.9364550799631957, 3.6730543243516607, 3.8638218447878114, 3.7106373555098315, 3.7276495164466668, 3.324238143186825, 3.4319788588869935, 3.5153801451521773, 3.5598842668299366, 3.576073260052078, 4.76292429261528, 4.588456669565732, 4.650041382143712, 4.5546642299582345, 4.509015772979979, 4.356462154362223, 3.574395582217528, 4.846246953018802, 4.325176391076702, 4.024998013740486, 3.911376599197563, 3.345303201871363, 4.205085987042082, 3.8166753938893296, 3.666361857504006, 4.087135358668239, 4.030379288145274, 3.5420939492516688, 4.214661440805107, 3.564972241391958, 4.034789715980559, 3.9729369392312672, 4.096761389390712, 3.2559294365681155, 2.8911254514482656, 3.7886003970267503, 3.282475579894779, 3.66255981053391, 3.6043299648569067, 3.9184198500829397, 3.8423081497355316, 3.6900662558007404, 3.5287188435973236, 3.459794559491567, 3.9925366283896, 3.108734187263266, 3.335415276258851, 2.7206440347092316, 3.275796094640956, 2.640923761588967, 3.0801803274232094, 2.0443505466711422, 3.7141390891330333, 3.9121392304994274, 4.175041890277151, 3.8510800618257313, 3.610383685482941, 3.852380358955298, 3.7895772892898925, 3.727120520213337, 3.98926211060697, 4.456042604865886, 3.837183689611461, 3.521729167239491, 4.12023502278858, 4.757496463941692, 4.333700679496476, 4.77600539469968, 4.572595374347249, 3.9058832230434697, 4.849387182008327, 4.293292374974925, 4.718528761289702, 2.8775370456197145, 2.342966941306871, 2.1809634035662055, 2.312923756825458, 2.614767925526695, 2.328657844152788, 1.6905653575071833, 2.3113115679261, 2.288117404019122, 2.5992700037450396, 2.366922287943955, 1.7264786193159685, 2.085091502896297, 3.0509113874863014, 3.6432116510542105, 3.111749362489416, 3.6950125059977177, 3.2284164656447083, 3.366808525709757, 3.2522306804730596, 3.6594248980623423, 3.4282006140588486, 3.7594148647229746, 3.400984027694405, 3.2458749551372286, 2.0877004169877145, 2.792026283967115, 3.916658819227208, 3.5166427282182053, 3.8216708684669802, 2.8438119430596207, 3.043959255502056, 1.9671104859851576, 2.7447662845748986, 2.5715419153582317, 3.350404876008056, 2.4819163496290146, 3.189274601145595, 2.6141569802631963, 2.6993138924161006, 1.8601427394837744, 1.387263676163815, 3.505933167664028, 3.08372077842054, 2.444662231366284, 2.4783667978660864, 3.107273945673675, 3.205527689373899, 2.524279747493502, 3.0195577654276957, 3.035162767041132, 2.0021171897475267, 3.3670165372409446, 3.7756166360063697, 2.931133433498162, 3.534251352420727, 4.5102881453997234, 3.826664085797882, 3.7418832114208755, 3.1220705886716478, 3.32677635392501, 3.692337426669996, 3.736619099483124, 3.6042759065582355, 3.859988863749548, 4.11683515145479, 3.22729117433318, 2.975116937447921, 2.7388273207444103, 3.8285429936311286, 3.4458530862240497, 3.8942843670888685, 4.125506352858618, 4.017711213360571, 3.4311574194831755, 3.7299378304131596, 4.4130092744595935, 3.6759068446115113, 4.291020033649772, 4.911588894631281, 4.4270642281701384, 3.8403781375179973, 4.293047851497172, 4.298688726031871, 3.1553577125428736, 3.0259042224102295, 3.5397201356374732, 2.922679275353903, 2.845748195605135, 3.3379800735338723, 3.91787876104475, 4.167552453259444, 3.4200307561685555, 4.288647427101655, 3.6128109238230746, 3.311666842330719, 3.881418635424212, 2.513775627579264, 4.364719439017092, 3.548197948679187, 3.714026736001637, 4.187704063313073, 3.8879704655579106, 4.020494853988353, 4.485403709780679, 3.029636311136988, 3.8678658811054163, 3.564525174855789, 3.0724340946506494, 4.010935401788953, 3.6128448450342017, 2.7143945386778885, 2.819166013773599, 3.8321776841143183, 3.5443488486212593, 3.103842186981569, 2.3757579357623246, 3.1232136859611663, 2.390399749103559, 2.9778688699041913, 3.5357856763150166, 3.1570559258541735, 2.939299202170151, 2.8359585134405854, 3.3512171765895467, 2.713789486917812, 3.0833623785596993, 3.5314587733010048, 3.5252178610997715, 3.493274908156002, 2.969168721941637, 2.9618625085096304, 3.0518352588512916, 2.9606389125168024, 2.4315313248554147, 2.854671905955159, 2.3638791795518124, 2.100896310292395, 2.6575218429228684, 3.0028237123481913, 2.7753630642205476, 1.9080942511554866, 2.443920544821719, 2.6801980946836297, 4.628496784026286, 4.760152251101013, 4.126698616959489, 3.708135278560187, 3.4332335331163883, 3.6300148771937852, 3.626943399881285, 4.0884490826413655, 3.4523200643207748, 4.042577703645738, 4.246046111221536, 3.9796742783927885, 4.123876735697782, 2.7970462639080353, 3.7949068336560474, 3.249317865708561, 4.292691915952448, 4.393335967867221, 3.9307074750682807, 3.904403881433514, 4.960539780522997, 3.916961084577973, 4.823031812143194, 4.47456857424173, 4.354102590891978, 4.584744122448703, 4.141555748464885, 3.9660376386466405, 3.154088463654488, 3.8531442688279594, 3.896406699796654, 3.636173045411193, 4.035092068952241, 3.214927599631617, 2.9526649784713954, 3.4079287249449792, 3.4927221831402777, 2.9043495540153597, 3.159796835127962, 3.67053192201013, 3.8382931668118814, 3.6281057920729625, 4.14925441761544, 4.234054110941818, 4.580029898084022, 3.7011152386565587, 4.060789783874329, 3.074302736626048, 3.5692587511892615, 3.1175660719333043, 4.056444751019634, 3.4324661206678915, 3.0113454290891273, 3.1658719966913056, 3.111046024428568, 3.36633552718174, 3.485660806249204, 4.400280236141506, 4.573929623998748, 3.903968358602955, 4.481436773534053, 3.2693786098284465, 4.00240633026817, 4.557496314407794, 3.9486570078614336, 3.6448718850766135, 3.3837670492661482, 3.6703229992651836, 3.746873010886682, 3.7984859554850123, 3.2321508604571623, 4.314629777583384, 4.441968269625366, 3.0385879031050456, 3.310885533188204, 4.368924873173199, 4.102113531938707, 4.4147017143660054, 4.251540882057926, 3.9214512530380046, 3.931666647026684, 3.340895043583955, 3.747955380602809, 4.24691452977811, 3.01882572086548, 3.275901358677535, 3.0774271740433345, 2.9019329169656944, 3.0892723430790663, 2.5446652060204373, 3.3675735224760004, 3.4331886855585108, 3.086413192188626, 3.16001862177369, 2.2740452487490512, 2.9989294707140517, 3.221361720674912, 3.0858401875898567, 3.0082100735073034, 3.0477110057454304, 3.4303090566202097, 2.879988911897153, 3.3660856762904063, 3.771062313437786, 3.861878848926425, 3.642503232559947, 3.582632174152368, 3.7830665039321736, 4.349124365183915, 3.4732339661967524, 3.1816451616730568, 4.029137549144109, 3.0573689555921533, 3.790057170361817, 3.105159322930527, 2.6311442713568836, 3.7142141966026645, 3.254733843845169, 3.594677841808639, 4.620502441995146, 4.300707266243653, 4.359461282100508, 4.578812584235062, 4.849264291614533, 3.93325325601672, 3.3313008137133764, 4.378622541690553, 4.106525742380258, 4.128553560900574, 4.269494901604668, 4.200861503749192, 4.049322860916065, 4.110451234196855, 3.5057556164335337, 3.756182782226334, 4.009640436457766, 4.32949670445217, 4.0509082413491235, 4.1322369995894315, 3.6244065133683523, 4.102282602499005, 4.538471837665084, 4.56417975099528, 4.291108904411567, 4.380504278090437, 3.9443895951021855, 3.4852685921109057, 3.8058393694851946, 3.4715789817040084, 3.5464993731788557, 3.6059521894109117, 3.986242639575214, 3.4912711021990703, 4.322150405671468, 4.057046201630854, 3.609506578253908, 2.825836311489231, 3.0288997935727444, 3.4805116249102497, 4.257491917518368, 3.8738916545751017, 3.010848609568474, 3.8126816706820925, 3.883739270719747, 4.308149899546507, 4.322771736167544, 3.9490029860622125, 3.7171518263778958, 3.898851607176912, 3.8392110693184622, 4.147968653244551, 3.27497708592371, 4.084732502416695, 3.832063769542971, 3.5563731711351116, 3.5479941187179707, 3.7274878806355525, 3.7869870769432357, 3.411068022842366, 3.38352058818348, 3.3115996282828406, 3.75325644682718, 3.528987394192049, 3.6000902499887464, 3.26513386004548, 4.04272673724674, 3.600751098166845, 2.56415205447553, 2.7657305540079693, 2.7846777433785377, 3.4110428878070933, 3.6629528501429762, 3.631274186173705, 4.0584191703830905, 3.155645902637709, 3.784192207963955, 3.9007075983221715, 3.7396250742556907, 3.655730327351493, 3.8485256320527457, 3.7427035358280367, 3.371672091080987, 4.231230498168763, 4.137215618824257, 2.924412752005468, 3.8432687717034866, 3.428546692048647, 3.5418664127713964, 4.214310133573641, 3.752580125834633, 3.124435949523979, 3.776458631451176, 3.866066921477172, 4.104769072247304, 3.9838107220409142, 4.536734511275714, 3.959882037676112, 3.6519826114065332, 3.9495276236468797, 4.154019211074129, 4.086727405985069, 4.484396917209648, 4.696795015330635, 3.653971922313301, 4.536371715799665, 3.48014905644508, 4.268818901106328, 3.3908295827195207, 4.264422449677271, 3.4503474972598065, 3.031460177021725, 3.3228759515375494, 4.142548294849625, 4.303645398484718, 3.6862174290184226, 3.927277592425543, 3.5017775182131214, 3.8229044904266516, 3.797692313957474, 3.774926971551259, 3.5849683516228326, 3.694459042015786, 4.090861921230636, 3.6254210157328, 4.096573231420983, 4.220305391620671, 3.824286175386079, 3.8344722906485553, 3.62303840071278, 3.102108407152016, 2.9457598454510014, 3.2058201525160324, 1.8899633592613545, 2.512486283340259, 2.1198096047508206, 3.0256844012784283, 3.162155335263415, 3.2263949110495, 1.9273242796108048, 1.7268087542779589, 2.6194550071949556, 4.099647932925818, 3.7281154546954105, 3.54864402309672, 3.7208985580889458, 3.962057915727249, 3.945533690102524, 3.892654163336345, 3.4761280852638183, 3.7571350057888075, 3.9888012565308597, 3.2098168370633786, 4.02939632446671, 3.6959328216739897, 3.356514447652097, 4.1357229517416085, 3.825866470209405, 3.8903600273315524, 4.613441997324367, 4.507471979450956, 3.7767404504813817, 4.137117835320896, 4.342134149500018, 4.248884111053367, 4.5266731351798635, 4.476463047842556, 4.476308627272327, 4.5466809975820635, 4.7743932169711325, 4.547578104257111, 4.229422264116534, 4.153753651412356, 3.720867693308189, 4.4201369516259295, 4.066199627998447, 4.297977152346182, 4.0144791242134685, 3.6624061148418092, 4.189663169990979, 4.9371128057616485, 3.7781796862297523, 4.080610546607243, 3.9481898324544824, 4.175463400792285, 3.487127918230303, 3.915323639835226, 3.9790651081742254, 3.961530815632041, 4.108289779476743, 4.23663277332209, 3.863799690308395, 3.6112322641613255, 3.8013566681737108, 3.6099704233316086, 3.7222308482344952, 3.606144160350589, 4.569638802487771, 4.695177365155265, 3.925793072502136, 3.4930585421700266, 3.5738319880754283, 4.462688181045896, 3.5041388465406587, 4.033452516734243, 4.053666909019329, 3.7859357184768845, 4.342206844878619, 4.101410076898033, 3.760957538304681, 3.9974279119743805, 4.124842979685754, 4.137634104750442, 3.6676879947805108, 4.084100853507827, 4.591594561419984, 4.148404544483022, 4.857741802448244, 4.159676087312942, 4.219896536582069, 4.288196107694687, 4.5078602230800895, 4.197347226741328, 4.536939169310214, 4.158521881538401, 4.2813609259503975, 4.623648244108648, 4.527077660181234, 3.6796225115805092, 2.7873399889683066, 3.78264589891504, 3.4363017624490357, 3.92128975853086, 3.043399001271689, 3.7597692023903004, 2.9985498019947276, 3.6708973896500234, 4.068245986226567, 3.6497499995773772, 4.1765542196757215, 4.193739921557685, 2.732292288379912, 2.9355254427549395, 3.071883884720536, 3.126750475545172, 2.5546394709163494, 3.5105678942959755, 3.8873550326079824, 4.194859974105158, 3.6791079750929594, 3.730658777689811, 4.181519151862852, 4.123959473451487, 4.326909430022406, 3.890187540631573, 4.1221903069188714, 4.4807058147645655, 4.151401394629807, 4.297661792559789, 4.8965324426045305, 4.566263707396163, 4.244625633684446, 4.043402930905491, 4.329156598839629, 3.9634510134648657, 3.6592604309036796, 3.61692959955505, 3.644449779218277, 2.818985509874945, 3.396824456806786, 4.004857917327222, 3.5339631923897854, 3.9161124728767995, 3.732198520478932, 2.8396992820453306, 3.3986702455749684, 3.5619608268385465, 4.351716887783818, 3.78926283155728, 3.981353288768322, 3.851042195224549, 4.180919763403442, 3.8794299475276603, 4.22761257830575, 3.809997086442633, 3.4669805949153494, 3.729742585164215, 3.4148300284290376, 3.964967020892114, 3.203373499586972, 2.532190737356721, 3.0070603314214663, 3.0972967126440003, 3.3181057101413347, 2.862970668423856, 2.464224035994354, 3.5434053167744404, 3.5526093922037996, 3.915829933684259, 3.5282047210208582, 3.515712431632924, 3.642024437417275, 4.126919658643338, 3.5425206979019928, 3.7640849138581602, 3.5324591028406434, 4.25538001057159, 3.016521070964439, 3.509805706797424, 3.585256781188611, 3.5563331344240146, 3.5143170588859336, 3.490068985088417, 3.422405332845555, 3.4499296308373943, 4.252650376252878, 3.6821176581970705, 3.1294379460292068, 3.9622094294057537, 3.2561827791412705, 2.703442529386694, 3.151368010143817, 4.155204248970858, 4.409958412827586, 3.3861537385961253, 3.502718609514602, 3.1283414253978803, 4.147221561563088, 3.7251863178439306, 3.5037805164562386, 3.5747948242212164, 3.2282922270068553, 3.0699774600673986, 3.747476375691265, 2.926316396211158, 3.0382255979218655, 3.5845795546923886, 3.5032214118096854, 2.6423004644739567, 3.4834170246246403, 3.185490175362342, 3.4225309313290873, 3.749598671699575, 3.624761217328538, 3.939009696256674, 3.0406347164437495, 2.5202173469698548, 3.580736146549991, 3.3554051977877606, 3.0704470899891056, 3.288100083225763, 3.1776899133374554, 2.485155144904094, 4.250652332623307, 4.226669958642718, 4.669417746764754, 4.826474107548114, 4.140053674149327, 4.759157747134959, 3.9885011622154805, 3.7836158299920095, 3.8521353038221644, 3.7676333842890575, 3.6707516630691117, 3.3977593498484984, 4.100084508861115, 3.6175090965600445, 3.5694429252257063, 3.367785702877755, 4.058367296223229, 2.04229595597379, 2.78484841226749, 2.224901027845142, 3.9871931099386058, 3.9183947907451184, 3.0469711875277845, 3.5835494686992515, 3.894447498485756, 4.79582041352668, 3.4110551357894017, 3.5633643469698524, 3.106729466365354, 3.8704423629354454, 2.6994061240263094, 2.8708668583965515, 3.741857888236654, 3.970458235898085, 3.481162250559246, 3.4143234482643736, 3.929786466216072, 3.537404845472431, 3.5048201210743466, 3.6994772180549935, 3.5679399288385745, 3.8074545385407177, 3.3046604620800775, 3.333667611312632, 3.478288748411785, 3.395829799271498, 3.545907614850131, 3.3457983019558677, 3.3666513958550484, 3.645034118467167, 3.9660375992500403, 3.9081799979976615, 3.404308011156665, 3.7308190701352406, 3.1933435809456974, 4.253545428765884, 2.9627548240094392, 3.045544379072264, 2.782479195932332, 2.4233412560077485, 2.2652065220640725, 2.9651088618136683, 2.6716012950669983, 3.4645494908887398, 3.5783953003123274, 2.036567054319344, 2.5001904381252094, 2.7895017038129475, 3.324558659769774, 2.681176300153623, 3.5226189446481038, 2.893012675113182, 3.2818732996185465, 2.3721695412171595, 2.7922129956937303, 2.327800764711996, 3.1954784802718117, 3.0500186341121, 2.0898623500234237, 2.0996107658263323, 2.9208909764788458, 3.025065528304473, 3.1440395888545085, 4.01760933442846, 4.1421421036954245, 3.8982223069101134, 3.9515710648841345, 3.828904427512851, 3.9713270219169776, 3.73158728710406, 3.6164228165553136, 3.739990547885984, 3.8066129882783604, 4.181189046449686, 4.370186725948924, 3.976413026526637, 4.440540959078842, 4.0431497878249685, 3.3329030090121274, 3.8831267354882297, 4.249245727774931, 3.740746110961127, 3.5677498757525785, 3.6175531588683905, 2.944029743259125, 3.8435988956539298, 3.6122365260080467, 4.281746962324442, 3.7782733248369773, 3.9440226606589817, 4.136368658190576, 4.339253504430997, 2.7113466942384266, 3.233673946904827, 4.218617907240767, 3.914382417905524, 4.211637413606315, 4.393911048318304, 3.0611886232296412, 3.7607262968382518, 4.326634330487699, 3.4240543831546324, 4.094657417846221, 4.147691367034096, 3.6731702614093957, 3.7729334883836407, 3.3146671066021507, 4.084631976966323, 4.3235088054830415, 3.930621411806628, 3.7375056810720677, 3.8292474943920696, 4.524050872880961, 4.497838200304509, 4.772909584588576, 4.757159412443971, 4.042800162321504, 3.9025040118584986, 3.3656714225227673, 3.0540878690143782, 4.01387092613358, 3.332533744196195, 3.8505617962397047, 4.168335984679503, 4.154191385634406, 4.139592691132032, 4.525972637853999, 3.331685982092835, 1.8448761900548336, 3.2176065535785145, 3.7398671787785798, 3.313863385190625, 3.5279560532437255, 3.48728914433036, 3.940861829085751, 4.079376055575944, 3.567945886452261, 3.4293941263995995, 3.6625232665321894, 3.100789279256392, 3.4467943697409105, 2.837427937088384, 2.9969190557029437, 2.6365870391272117, 1.924430001596428, 3.4258189961243226, 3.828861465998329, 3.1197738326669415, 3.6632534239999326, 3.9567634847358875, 3.991612730686348, 4.284572527524433, 4.557849515712017, 3.5445723331410095, 3.4553964360491483, 4.364745993660261, 3.9132515617195356, 4.278620901143906, 3.143003824713271, 3.582775662173842, 3.7251072390981967, 3.846669626200604, 4.009908657683562, 4.758034830981489, 4.316225676149729, 4.858531403223347, 3.9208336624827598, 3.7141523040971514, 3.2539915846680763, 4.102007380081236, 3.0387380405181696, 3.4190446851642715, 2.4000725819687347, 2.745133991407307, 2.4057419593764853, 2.5432790299218753, 2.9416884381962403, 2.9126674454661354, 2.3665654998819874, 3.667005930163943, 4.165014270947557, 3.6777728557365243, 4.645399916532534, 4.541517106335866, 3.3791672632841725, 3.6058287066540498, 3.8492012443402306, 4.015470036363474, 3.727652712471186, 4.318695027568771, 4.428050130119264, 3.7376527627542844, 4.3428957122166025, 4.324517043986259, 4.486695046050064, 4.321886045336542, 4.526317015905878, 3.5951649709388636, 2.8660748725050555, 3.4122518740245087, 3.7784553427260335, 3.3840323739049887, 3.578371667878802, 4.655757827489728, 3.6793429738540153, 3.3400713970021796, 3.812586480853201, 2.784955254115482, 3.02952030980878, 2.9429082185660387, 3.4048322928283907, 3.289277747804283, 2.7906894754512543, 3.1962730399604156, 3.7303975077726217, 4.319984521423315, 3.8076933113695657, 4.456801754861359, 3.973424164687284, 3.2063827212646356, 3.557220265403038, 3.286190326856208, 4.12539265877028, 4.900885124190156, 4.2053886851298605, 4.596846750263581, 4.324059938828619, 4.134712988465632, 4.612030160287086, 4.180802967544767, 3.6482160663948444, 3.947399392978444, 3.936314497775321, 4.085796226042433, 3.345626023375151, 3.0592453896769505, 3.5106636413996357, 4.037549700397645, 4.175331398854648, 4.075115179056659, 3.652718372371359, 3.6600315089194013, 3.933703370698805, 3.77654830925234, 3.9321284784743065, 3.4545942400663328, 3.5284218889738757, 3.482336437972218, 4.146686916483306, 3.230585908031643, 4.421853042791031, 4.35932945791285, 4.063453308792499, 4.3522502403937615, 4.041423493778921, 4.585906918704594, 4.041154819727539, 4.28696886838962, 3.740932325303442, 3.671229875618694, 3.729524598063308, 3.98094432250727, 4.3710980362684415, 4.134088811369524, 4.242904406635722, 4.255928725088335, 3.9215381947493877, 3.117333734862805, 2.8960373950370673, 3.5016286550905007, 3.491416322550035, 3.602051506855528, 4.218489635157467, 3.854825757514821, 2.9630628095609404, 2.975338084201325, 3.4769352819263695, 3.0678419929165166, 2.1745773160626767, 2.912285622254058, 4.039817681106058, 4.328255347614254, 4.478637951815361, 4.539167195510262, 4.566873318133324, 3.546091464054224, 3.427440116826984, 3.9139534039442365, 4.105363108413977, 3.552586741061366, 3.626495640788168, 3.320820892311601, 4.165931014533864, 4.004622506045621, 4.696246570908564, 3.7106780323029205, 4.045104806524747, 4.1487716327006, 3.20179777091409, 4.006666479127143, 3.7380895222545747, 2.8447355701266237, 4.537338177835433, 4.246217026684148, 3.8957819768943796, 4.3720461236190715, 4.276207310148081, 4.323003876575304, 4.170585168297359, 4.095057322507219, 3.7621594096698057, 4.001860490829535, 3.667427143703744, 3.550599298223644, 4.454499479750999, 4.176136415906852, 3.880313522229205, 3.0496430617413957, 2.6498732630927533, 3.100198926291033, 2.928401028535933, 4.3664389531912935, 3.7018945436117847, 4.428703983529212, 3.9277743647729486, 3.789161921936669, 3.3239192861438833, 4.357942600874662, 3.815559141378541, 4.1568704018870815, 4.2431527833136755, 4.425834539546593, 3.835026818298402, 4.669780039215169, 4.6933084481696286, 4.697355878300409, 4.588602571836633, 3.120612037860049, 3.6919320494173857, 3.4759793575961995, 3.8542745345645115, 3.876125726280032, 3.8936819094070794, 3.5063919912469186, 3.6584601393836254, 3.480416688754855, 3.418983752751656, 3.613259898077095, 3.3230449166448777, 3.4946932532623642, 2.969400522983216, 3.7539099429795737, 3.8667150153092607, 3.950241101802967, 2.964934434696697, 4.083480936394476, 3.4882519062035033, 2.555267306586333, 3.007382331052396, 3.1059726281780144, 3.92473588014684, 3.5684404321052243, 3.9636361505422486, 3.733723931612971, 3.619012998207036, 3.322638511779145, 4.733307260131961, 4.787602615342057, 4.660904147201228, 5, 3.499446202606785, 2.6459815000559845, 3.962995022993693, 4.013959520696717, 4.411264334014297, 4.04633122154152, 3.4172399192354224, 4.02668177608802, 3.689627643512135, 3.640015122752084, 3.799640723965557, 3.687958779404672, 4.4138957986819936, 3.8771430265132345, 3.6827283608802235, 4.1849323765903215, 3.6918294722414093, 4.456708705448475, 2.9065748879429867, 3.358430975142831, 4.431324296436526, 4.309341187881864, 4.264231457997527, 4.504355961759106, 4.254506667959641, 3.6545733582761697, 4.286105417042737, 3.688533877489504, 3.2777569319470485, 2.86070924419347, 3.21801548241572, 2.9376902544432975, 3.9864522677527225, 4.314787419062794, 3.8116832611582123, 4.139798148058018, 4.406391078579869, 4.151841089112031, 3.526232939082995, 3.3402402904952297, 3.8532784021497353, 3.971905685226111, 4.126705743080251, 4.144021375751597, 3.50292260935727, 4.046487564385669, 4.260373400751982, 3.4342752158468155, 3.8380522938180555, 3.9777174503009647, 3.924196455540897, 3.7333132960516324, 3.60343520950934, 4.379948879417676, 4.2351284451091935, 2.5583312674114804, 2.966406362811591, 2.6716700550672683, 3.016657039790892, 2.6890708142547886, 4.246293202537781, 3.9435540169064005, 3.827195106247835, 3.221294700123031, 3.073076185074831, 3.9233561016013065, 4.009589492188771, 4.363721827316207, 3.977240047657441, 3.177748045488573, 3.4729830204691763, 3.711216335119067, 4.058726313910495, 3.8066726668584216, 4.323675009376155, 3.6042996549393505, 3.688322714670758, 3.139171037418006, 4.382522725351933, 3.662231686031383, 4.669891054841852, 4.125325554692083, 4.2624089650864425, 3.0093594399159826, 2.4664168865227825, 2.831622963577486, 2.8514932303177605, 4.084847165726405, 3.7334953135332034, 3.6745401755243883, 3.9464564055615305, 4.6158022370830025, 4.12335450485281, 2.8495803914985114, 4.244053780031967, 3.5058962406061283, 3.1285349853719713, 3.486886313710688, 3.6120985539846195, 3.6059339325527544, 3.3331055887667653, 2.555033966454559, 4.2294046051359]\n"
          ],
          "name": "stdout"
        }
      ]
    },
    {
      "cell_type": "code",
      "metadata": {
        "id": "ogtk6RFgTXQb",
        "colab_type": "code",
        "colab": {
          "base_uri": "https://localhost:8080/",
          "height": 347
        },
        "outputId": "bbd7a598-8773-4c8a-832b-8814ce3525a9"
      },
      "source": [
        "# Validación cruzada\n",
        "from surprise.model_selection import cross_validate\n",
        "\n",
        "cross_validate(model, train_data, measures=['RMSE', 'MAE'], cv=5, verbose=True)"
      ],
      "execution_count": 36,
      "outputs": [
        {
          "output_type": "stream",
          "text": [
            "Evaluating RMSE, MAE of algorithm SVD on 5 split(s).\n",
            "\n",
            "                  Fold 1  Fold 2  Fold 3  Fold 4  Fold 5  Mean    Std     \n",
            "RMSE (testset)    0.8589  0.8630  0.8694  0.8665  0.8514  0.8618  0.0063  \n",
            "MAE (testset)     0.6577  0.6623  0.6654  0.6638  0.6540  0.6606  0.0042  \n",
            "Fit time          3.17    3.15    3.18    3.15    3.15    3.16    0.01    \n",
            "Test time         0.08    0.09    0.09    0.18    0.09    0.10    0.04    \n"
          ],
          "name": "stdout"
        },
        {
          "output_type": "execute_result",
          "data": {
            "text/plain": [
              "{'fit_time': (3.1672487258911133,\n",
              "  3.1458022594451904,\n",
              "  3.179351329803467,\n",
              "  3.152695417404175,\n",
              "  3.1525871753692627),\n",
              " 'test_mae': array([0.65766665, 0.66226624, 0.66541456, 0.66383268, 0.65399471]),\n",
              " 'test_rmse': array([0.85892164, 0.86299629, 0.86943761, 0.86652284, 0.85135189]),\n",
              " 'test_time': (0.0847020149230957,\n",
              "  0.08651471138000488,\n",
              "  0.08610391616821289,\n",
              "  0.17899227142333984,\n",
              "  0.08559560775756836)}"
            ]
          },
          "metadata": {
            "tags": []
          },
          "execution_count": 36
        }
      ]
    },
    {
      "cell_type": "markdown",
      "metadata": {
        "id": "Bb4a8aggu1in",
        "colab_type": "text"
      },
      "source": [
        "## Reto de programación"
      ]
    },
    {
      "cell_type": "code",
      "metadata": {
        "id": "QC7tLUkAHlit",
        "colab_type": "code",
        "colab": {}
      },
      "source": [
        "# Obtener la base de datos (uploading)\n",
        "from google.colab import files\n",
        "\n",
        "uploaded = files.upload()\n",
        "\n",
        "for fn in uploaded.keys():\n",
        "  print('User uploaded file \"{name}\" with length {length} bytes'.format(\n",
        "      name=fn, length=len(uploaded[fn])))\n",
        "  "
      ],
      "execution_count": 0,
      "outputs": []
    },
    {
      "cell_type": "code",
      "metadata": {
        "id": "NY3NW2lXu2H2",
        "colab_type": "code",
        "colab": {}
      },
      "source": [
        "# Dar datos\n",
        "\n",
        "from io import StringIO\n",
        "import pandas as pd\n",
        "\n",
        "# \n",
        "s=str(uploaded[\"heldout.csv\"],'utf-8')\n",
        "data = StringIO(s) \n",
        "\n",
        "df = pd.read_csv(data)\n",
        "\n",
        "print(df)\n",
        "\n"
      ],
      "execution_count": 0,
      "outputs": []
    },
    {
      "cell_type": "code",
      "metadata": {
        "id": "QXz_ljaGTcMe",
        "colab_type": "code",
        "colab": {}
      },
      "source": [
        "'''\n",
        "TODO: Crea y entrena un modelo para hacer predicciones sobre heldout.csv\n",
        "Cuando esten listos, suban sus predicciones al Google Drive\n",
        "\n",
        "La persona con mejor puntuación (Error absoluto medio más bajo) ganará un premio\n",
        "\n",
        "Reglas:\n",
        "- Pueden usar cualquier función/clase de Python\n",
        "- Pueden usar todos los datos proporcionados (incluyendo \"genres.csv\")\n",
        "- No pueden usar datos adicionales a los dados\n",
        "- Las predicciones deben estar en el Google Drive a la hora especificada\n",
        "'''\n"
      ],
      "execution_count": 0,
      "outputs": []
    },
    {
      "cell_type": "code",
      "metadata": {
        "id": "zV0ovbMdTeR6",
        "colab_type": "code",
        "colab": {}
      },
      "source": [
        "# Codigo para hacer csv para evaluar performance\n",
        "\n",
        "# Este código asume que tus predicciones están en un pd.Dataframe llamdo predictions\n",
        "predictions.to_csv('heldout_pred.csv')\n",
        "\n",
        "files.download('heldout_pred.csv')  # from colab to browser download"
      ],
      "execution_count": 0,
      "outputs": []
    }
  ]
}